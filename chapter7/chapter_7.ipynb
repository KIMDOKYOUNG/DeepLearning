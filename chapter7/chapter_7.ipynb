{
  "nbformat": 4,
  "nbformat_minor": 0,
  "metadata": {
    "colab": {
      "name": "chapter_7.ipynb",
      "provenance": [],
      "collapsed_sections": [],
      "authorship_tag": "ABX9TyNDQpOnRaIa7ASG/q2gZkxg",
      "include_colab_link": true
    },
    "kernelspec": {
      "name": "python3",
      "display_name": "Python 3"
    }
  },
  "cells": [
    {
      "cell_type": "markdown",
      "metadata": {
        "id": "view-in-github",
        "colab_type": "text"
      },
      "source": [
        "<a href=\"https://colab.research.google.com/github/KIMDOKYOUNG/DeepLearning/blob/master/chapter7/chapter_7.ipynb\" target=\"_parent\"><img src=\"https://colab.research.google.com/assets/colab-badge.svg\" alt=\"Open In Colab\"/></a>"
      ]
    },
    {
      "cell_type": "markdown",
      "metadata": {
        "id": "wl_ugbQAzzat",
        "colab_type": "text"
      },
      "source": [
        "## 밑바닥부터 시작하는 딥러닝 1 뽀개기\n",
        "#### CHAPTER 7 합성곱 신경망(CNN)\n",
        "#### 일자 : 2020-08-22\n",
        "\n",
        "\n",
        "## Convolutional Neural Network\n",
        "- 합성곱 계층(Conv)과 풀링 계층(Pooling)이 추가된다.\n",
        "- [Conv - ReLU - Pooling] - [Conv - ReLU - Pooling] - [Conv - ReLU - Pooling] - [Affine - ReLU] - [Affine -Softmax]\n",
        "- padding\n",
        "- stride\n",
        "- 이미지는 3차원 형상이며, 담겨있는 공간적 정보를 사용할 수 있게 된다. \n",
        "\n",
        "### 합성곱 연산 \n",
        "- 필터 연산과 같다.\n",
        "- 필터의 크기 = 윈도우(window)사이즈\n",
        "- stride만큼 이동하며 입력과 필터에 대응한느 원소끼리 곱한 후 그 총합을 구하여 해당 위치에 저장한다. 그것이 feature map이 된다.\n",
        "- bais는 원소에 각각 더해진다.\n",
        "\n",
        "### Padding\n",
        "- 입럭 데이터 주변을 특정값으로 채운다. \n",
        "- 합성곱 연산후 출력크기가 줄어드는 것을 방지하기 위해서 \n",
        "\n",
        "### Stride\n",
        "- 필터를 적용하는 위치의 간격\n",
        "- 필터 윈도우가 stride만큼 움직인다. \n",
        "\n",
        "### 출력크기 계산하기\n",
        "\n",
        "- 입력크기 : H, W\n",
        "- 필터 크기 : FH,FW\n",
        "- 출력 크기 : OH, OW\n",
        "- 패딩 : P\n",
        "- 스트라이드 : S\n",
        "\n",
        "$$ OH = \\frac{H+2P-FH}{S} + 1$$\n",
        "\n",
        "$$ OW = \\frac{W+2P-FW}{S} + 1$$\n",
        "\n",
        "### 풀링 계층\n",
        "- 세로, 가로 방향의 공간을 줄이는 연산 \n",
        "- max pooling\n",
        "\n",
        "---\n",
        "\n",
        "### 합성곱/ 풀링 계층 구현하기 \n",
        "\n"
      ]
    },
    {
      "cell_type": "code",
      "metadata": {
        "id": "oNfEtUa9zt-e",
        "colab_type": "code",
        "colab": {
          "base_uri": "https://localhost:8080/",
          "height": 34
        },
        "outputId": "d7c4cbce-4310-4e3f-daf4-17d0f5504a31"
      },
      "source": [
        "import numpy as np\n",
        "\n",
        "x = np.random.rand(10,1,28,28)\n",
        "x.shape\n"
      ],
      "execution_count": 1,
      "outputs": [
        {
          "output_type": "execute_result",
          "data": {
            "text/plain": [
              "(10, 1, 28, 28)"
            ]
          },
          "metadata": {
            "tags": []
          },
          "execution_count": 1
        }
      ]
    },
    {
      "cell_type": "code",
      "metadata": {
        "id": "wwckOrGPAGzg",
        "colab_type": "code",
        "colab": {
          "base_uri": "https://localhost:8080/",
          "height": 70
        },
        "outputId": "a454dac2-cdbd-4513-b82d-cc0141e74da2"
      },
      "source": [
        "print(x[0].shape)\n",
        "print(x[1].shape)\n",
        "print(x[0][0].shape)"
      ],
      "execution_count": 5,
      "outputs": [
        {
          "output_type": "stream",
          "text": [
            "(1, 28, 28)\n",
            "(1, 28, 28)\n",
            "(28, 28)\n"
          ],
          "name": "stdout"
        }
      ]
    },
    {
      "cell_type": "markdown",
      "metadata": {
        "id": "AbdFnar2AnQA",
        "colab_type": "text"
      },
      "source": [
        "- im2col로 데이터를 1줄로 펼친다. \n",
        "- 필터를 세로로 1열로 전개하고, im2col이 전개한 데이터와 행렬 내적을 계산하고 출력 데이터(2차원)을 reshape한다. "
      ]
    },
    {
      "cell_type": "code",
      "metadata": {
        "id": "u_n5kdQWAMk0",
        "colab_type": "code",
        "colab": {}
      },
      "source": [
        "def im2col(input_data, filter_h, filter_w, stride=1, pad=0):\n",
        "    \"\"\"다수의 이미지를 입력받아 2차원 배열로 변환한다(평탄화).\n",
        "    \n",
        "    Parameters\n",
        "    ----------\n",
        "    input_data : 4차원 배열 형태의 입력 데이터(이미지 수, 채널 수, 높이, 너비)\n",
        "    filter_h : 필터의 높이\n",
        "    filter_w : 필터의 너비\n",
        "    stride : 스트라이드\n",
        "    pad : 패딩\n",
        "    \n",
        "    Returns\n",
        "    -------\n",
        "    col : 2차원 배열\n",
        "    \"\"\"\n",
        "    N, C, H, W = input_data.shape\n",
        "    out_h = (H + 2*pad - filter_h)//stride + 1\n",
        "    out_w = (W + 2*pad - filter_w)//stride + 1\n",
        "\n",
        "    img = np.pad(input_data, [(0,0), (0,0), (pad, pad), (pad, pad)], 'constant')\n",
        "    col = np.zeros((N, C, filter_h, filter_w, out_h, out_w))\n",
        "\n",
        "    for y in range(filter_h):\n",
        "        y_max = y + stride*out_h\n",
        "        for x in range(filter_w):\n",
        "            x_max = x + stride*out_w\n",
        "            col[:, :, y, x, :, :] = img[:, :, y:y_max:stride, x:x_max:stride]\n",
        "\n",
        "    col = col.transpose(0, 4, 5, 1, 2, 3).reshape(N*out_h*out_w, -1)\n",
        "    return col"
      ],
      "execution_count": 6,
      "outputs": []
    },
    {
      "cell_type": "code",
      "metadata": {
        "id": "-Li2pk0ACPNg",
        "colab_type": "code",
        "colab": {
          "base_uri": "https://localhost:8080/",
          "height": 34
        },
        "outputId": "2dac358f-2a9a-4cfb-a988-5ea594d24794"
      },
      "source": [
        "x1 = np.random.rand(1,3,7,7) # (데이터 수 , 채널 수, 높이, 너비)\n",
        "col1 = im2col(x1,5,5,stride=1, pad = 0)\n",
        "print(col1.shape)"
      ],
      "execution_count": 7,
      "outputs": [
        {
          "output_type": "stream",
          "text": [
            "(9, 75)\n"
          ],
          "name": "stdout"
        }
      ]
    },
    {
      "cell_type": "code",
      "metadata": {
        "id": "57HfwgkqC1cu",
        "colab_type": "code",
        "colab": {
          "base_uri": "https://localhost:8080/",
          "height": 34
        },
        "outputId": "28c095d2-db8d-40c9-eb03-db83f56f1e5d"
      },
      "source": [
        "x2 = np.random.rand(10,3,7,7) # (데이터 수 , 채널 수, 높이, 너비)\n",
        "col2 = im2col(x2,5,5,stride=1, pad = 0)\n",
        "print(col2.shape)"
      ],
      "execution_count": 8,
      "outputs": [
        {
          "output_type": "stream",
          "text": [
            "(90, 75)\n"
          ],
          "name": "stdout"
        }
      ]
    },
    {
      "cell_type": "code",
      "metadata": {
        "id": "Dy5QjNDFDNxn",
        "colab_type": "code",
        "colab": {}
      },
      "source": [
        "class Convolution:\n",
        "  def __init__(self,W,b,stride = 1, pad = 0):\n",
        "    self.W = W\n",
        "    self.b = b\n",
        "    self.stride = stride\n",
        "    self.pad = pad\n",
        "\n",
        "  def forward(self,x):\n",
        "    FN, C, FH, FW = self.W.shape\n",
        "    N, C, H, W = x.shape\n",
        "    out_h = int(1 + (H + 2*self.pad - FH)/ self.stride)\n",
        "    out_w = int(1 + (W + 2*self.pad - FW)/ self.stride)\n",
        "\n",
        "    col = im2col(x, FH, FW, self.stride, self.pad)\n",
        "    col_W = self.W.reshape(FN, -1).T\n",
        "    out = np.dot(col,col_W) + self.b\n",
        "\n",
        "    out = out.reshape(N,out_h, out_w, -1).transpose(0,3,1,2)\n",
        "\n",
        "    return out "
      ],
      "execution_count": 10,
      "outputs": []
    },
    {
      "cell_type": "code",
      "metadata": {
        "id": "i6lEDXtRFZ3c",
        "colab_type": "code",
        "colab": {}
      },
      "source": [
        "class Pooling:\n",
        "  def __init__(self,pool_h, pool_w, stride = 1, pad = 0):\n",
        "    self.pool_h = pool_h\n",
        "    self.pool_w = pool_w\n",
        "    self.stride = stride\n",
        "    self.pad = pad\n",
        "\n",
        "  def forward(self,x):\n",
        "    N, C, H, W = x.shape\n",
        "    out_h = int(1 + (H - self.pool_h)/ self.stride)\n",
        "    out_w = int(1 + (W - self.pool_w)/ self.stride)\n",
        "    # 입력데이터 전개 \n",
        "    col = im2col(x, self.pool_h, self.pool_w, self.stride, self.pad)\n",
        "    col = col.reshape(-1, self.pool_h*self.pool_w)\n",
        "    # 최댓값\n",
        "    out = np.max(col, axis = 1)\n",
        "    # reshape\n",
        "    out = out.reshape(N,out_h, out_w, C).transpose(0,3,1,2)\n",
        "\n",
        "    return out "
      ],
      "execution_count": 11,
      "outputs": []
    },
    {
      "cell_type": "markdown",
      "metadata": {
        "id": "9-rQo1ARJQ_K",
        "colab_type": "text"
      },
      "source": [
        "### CNN 구현하기 "
      ]
    },
    {
      "cell_type": "code",
      "metadata": {
        "id": "J9Rz8LV-Ip5N",
        "colab_type": "code",
        "colab": {}
      },
      "source": [
        "class SimpleConvNet:\n",
        "  def __init__(self,input_dim = (1,28,28), conv_param = {'filter_num':30,'filter_size':5, 'pad':0,'stride':1}, \n",
        "               hidden_size = 100, output_size = 10, weight_init_std = 0.01):\n",
        "    fileter_num = conv_param['filter_num']\n",
        "    filter_size = conv_param['filter_size']\n",
        "    filter_pad = conv_param['pad']\n",
        "    filter_stride = conv_param['stride']\n",
        "    input_size = input_dim[1]\n",
        "    conv_output_size = (input_size - filter_size + 2*filter_pad) / filter_stride + 1\n",
        "    pool_output_size = int(fileter_num * (conv_output_size/2) * (conv_output_size/2))\n",
        "\n",
        "    self.params = {}\n",
        "    self.params['W1'] = weight_init_std * np.random.randn(filter_num, input_dim[0],filter_size, filter_size)\n",
        "    self.params['b1'] = np.zeros(filter_num)\n",
        "    self.params['W2'] = weight_init_std * np.random.randn(pool_output_size, hidden_size)\n",
        "    self.params['b2'] = np.zeros(hidden_size)\n",
        "    self.params['W3'] = weight_init_std * np.random.randn(hidden_size, output_size)\n",
        "    self.params['b3'] = np.zeros(output_size)\n",
        "\n",
        "    self.layers = {}\n",
        "    self.layers['Conv1'] = Convolution(self.params['W1'],self.params['b1'], conv_params['stride'], conv_params['pad'])\n",
        "    self.layers['Relu1'] = Relu()\n",
        "    self.layers['Pool1'] = Pooling(pool_h= 2, pool_w=2, stride = 2)\n",
        "    self.layers['Affine1'] = Affine(self.params['W2'], self.params['b2'])\n",
        "    self.layers['Relu2'] = Relu()\n",
        "    self.layers['Affine2'] = Affine(self.params['W3'], self.params['b3'])\n",
        "\n",
        "    self.last_layer = SoftmaxWightLoss()\n",
        "\n",
        "  def predict(self,x):\n",
        "    for layer in self.layers.values():\n",
        "      x = layer.forward(x)\n",
        "      return x\n",
        "\n",
        "  def loss(self,x,t):\n",
        "    y = self.predict(x)\n",
        "    return self.lastLayer.forward(y, t)\n",
        "\n",
        "  def gradient(self, x, t):\n",
        "    # 순전파\n",
        "    self.loss(x,t)\n",
        "\n",
        "    #역전파 \n",
        "    dout = 1\n",
        "    dout = self.lastLayer.backward(dout)\n",
        "\n",
        "    layers = list(self.layers.values())\n",
        "    layers.reverse()\n",
        "    for layer in layers:\n",
        "      dout = layer.backward(dout)\n",
        "\n",
        "\n",
        "    grads = {}\n",
        "    grads['W1'] = self.layers['Conv1'].dW\n",
        "    grads['b1'] = self.layers['Conv1'].db\n",
        "    grads['W2'] = self.layers['Affine1'].dW\n",
        "    grads['b2'] = self.layers['Affine1'].db\n",
        "    grads['W3'] = self.layers['Affine2'].dW\n",
        "    grads['b3'] = self.layers['Affine2'].db\n",
        "\n",
        "    return grads\n",
        "\n"
      ],
      "execution_count": 13,
      "outputs": []
    },
    {
      "cell_type": "code",
      "metadata": {
        "id": "XTGeV77DJQID",
        "colab_type": "code",
        "colab": {}
      },
      "source": [
        ""
      ],
      "execution_count": null,
      "outputs": []
    }
  ]
}