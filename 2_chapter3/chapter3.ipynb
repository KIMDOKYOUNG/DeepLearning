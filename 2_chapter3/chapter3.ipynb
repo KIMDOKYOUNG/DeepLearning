{
  "nbformat": 4,
  "nbformat_minor": 0,
  "metadata": {
    "colab": {
      "name": "chapter3.ipynb",
      "provenance": [],
      "collapsed_sections": [],
      "authorship_tag": "ABX9TyOfGS5632ZArF9+c29HCmE0",
      "include_colab_link": true
    },
    "kernelspec": {
      "name": "python3",
      "display_name": "Python 3"
    }
  },
  "cells": [
    {
      "cell_type": "markdown",
      "metadata": {
        "id": "view-in-github",
        "colab_type": "text"
      },
      "source": [
        "<a href=\"https://colab.research.google.com/github/KIMDOKYOUNG/DeepLearning/blob/master/2_chapter3/chapter3.ipynb\" target=\"_parent\"><img src=\"https://colab.research.google.com/assets/colab-badge.svg\" alt=\"Open In Colab\"/></a>"
      ]
    },
    {
      "cell_type": "markdown",
      "metadata": {
        "id": "lGShk1Mddhsf",
        "colab_type": "text"
      },
      "source": [
        "## 밑바닥부터 시작하는 딥러닝 2 뽀개기\n",
        "#### CHAPTER 2 자연어와 단어의 분산 표현\n",
        "#### 일자 : 2020-08-28\n",
        "\n",
        "- 단어의 분산표현\n",
        "  - 추론 기반 기법 \n",
        "    - 단순한 word2vec 구현 \n",
        "  - 통계 기반 기법(chapter2)\n",
        "    - 대규모 말뭉치에는 적합하지 않다. \n",
        "\n",
        "\n"
      ]
    },
    {
      "cell_type": "markdown",
      "metadata": {
        "id": "RF3gGRvufLzg",
        "colab_type": "text"
      },
      "source": [
        "### 추론 기반 기법과 신경망 \n",
        "- 신경망에서 단어처리\n",
        "  - 원핫인코딩\n",
        "    - 단어를 벡터로 나타낼 수 있고, 신경망을 구성하는 레이어는 벡터를 처리할 수 있다. \n",
        "    - 단어를 신경망으로 처리할 수 있다는 것 \n",
        "    "
      ]
    },
    {
      "cell_type": "code",
      "metadata": {
        "id": "xqPhJOb2dYg3",
        "colab_type": "code",
        "colab": {
          "base_uri": "https://localhost:8080/",
          "height": 34
        },
        "outputId": "28399a3a-18f0-4873-bdb7-f9d6e03af062"
      },
      "source": [
        "import numpy as np\n",
        "\n",
        "# 벡터화 된 단어가 어떻게 은닉층 뉴런이 되는지 \n",
        "c = np.array([[1,0,0,0,0,0,0]])\n",
        "W = np.random.randn(7,3) # 완전연결계층의 가중치 \n",
        "h = np.matmul(c,W)\n",
        "print(h)"
      ],
      "execution_count": 1,
      "outputs": [
        {
          "output_type": "stream",
          "text": [
            "[[ 1.77799214 -0.89531485 -0.22526831]]\n"
          ],
          "name": "stdout"
        }
      ]
    },
    {
      "cell_type": "markdown",
      "metadata": {
        "id": "Gw8UaaAoiPiE",
        "colab_type": "text"
      },
      "source": [
        "### CBOW 모델 구현하기"
      ]
    },
    {
      "cell_type": "code",
      "metadata": {
        "id": "ZIG2G5uVhWlO",
        "colab_type": "code",
        "colab": {}
      },
      "source": [
        "class MatMul:\n",
        "  def __init__(self, W):\n",
        "    self.params = [W] # 가중치 \n",
        "    self.grads = [np.zeros_like(W)]\n",
        "    self.x = None\n",
        "  \n",
        "  def forward(self, x):\n",
        "    W, = self.params\n",
        "    out = np.matmul(x,W)\n",
        "    self.x = x\n",
        "    \n",
        "    return out\n",
        "  \n",
        "  def backward(self, dout):\n",
        "    W, = self.params\n",
        "    dx = np.matmul(dout, W.T)\n",
        "    dW = np.matmul(self.x.T, dout)\n",
        "    self.grads[0][...] = dW\n",
        "    \n",
        "    return dx \n",
        "\n"
      ],
      "execution_count": 2,
      "outputs": []
    },
    {
      "cell_type": "code",
      "metadata": {
        "id": "r4wp_8ZYlgi2",
        "colab_type": "code",
        "colab": {
          "base_uri": "https://localhost:8080/",
          "height": 52
        },
        "outputId": "2bece5ce-7699-4281-a847-6c9c7a9c64a2"
      },
      "source": [
        "c0 = ([[1,0,0,0,0,0,0]])\n",
        "c1 = ([[0,0,1,0,0,0,0]])\n",
        "\n",
        "# 가중치 초기화\n",
        "W_in = np.random.randn(7,3)\n",
        "W_out = np.random.randn(3,7)\n",
        "\n",
        "# 계층 생성 \n",
        "in_layer0 = MatMul(W_in)\n",
        "in_layer1 = MatMul(W_in)\n",
        "out_layer = MatMul(W_out)\n",
        "\n",
        "# 순전파 \n",
        "\n",
        "h0 = in_layer0.forward(c0)\n",
        "h1 = in_layer1.forward(c1)\n",
        "h = 0.5 * (h0+h1)\n",
        "s = out_layer.forward(h)\n",
        "\n",
        "print(s)\n",
        "\n"
      ],
      "execution_count": 5,
      "outputs": [
        {
          "output_type": "stream",
          "text": [
            "[[ 0.41787069 -0.17035264  0.12269965 -0.5033388  -0.03131445  0.19986215\n",
            "  -0.38285556]]\n"
          ],
          "name": "stdout"
        }
      ]
    },
    {
      "cell_type": "code",
      "metadata": {
        "id": "y04AYuMcpvBi",
        "colab_type": "code",
        "colab": {}
      },
      "source": [
        ""
      ],
      "execution_count": null,
      "outputs": []
    }
  ]
}