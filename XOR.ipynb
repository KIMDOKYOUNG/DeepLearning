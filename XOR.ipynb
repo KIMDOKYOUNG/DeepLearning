{
  "nbformat": 4,
  "nbformat_minor": 0,
  "metadata": {
    "colab": {
      "name": "XOR.ipynb",
      "provenance": [],
      "collapsed_sections": [],
      "authorship_tag": "ABX9TyOdLMcZRIHIA/nGU64W/QiW",
      "include_colab_link": true
    },
    "kernelspec": {
      "name": "python3",
      "display_name": "Python 3"
    }
  },
  "cells": [
    {
      "cell_type": "markdown",
      "metadata": {
        "id": "view-in-github",
        "colab_type": "text"
      },
      "source": [
        "<a href=\"https://colab.research.google.com/github/KIMDOKYOUNG/DeepLearning/blob/master/XOR.ipynb\" target=\"_parent\"><img src=\"https://colab.research.google.com/assets/colab-badge.svg\" alt=\"Open In Colab\"/></a>"
      ]
    },
    {
      "cell_type": "markdown",
      "metadata": {
        "id": "YNK3Y95GOncc",
        "colab_type": "text"
      },
      "source": [
        "\n",
        "## 밑바닥부터 시작하는 딥러닝 1 뽀개기\n",
        "#### CHAPTER 2 퍼셉트론 \n",
        "#### 일자 : 2020-08-11\n",
        "---\n",
        "# XOR 게이트 구현하기 \n",
        "\n",
        "- 단층 퍼셉트론 \n",
        "  - AND 게이트\n",
        "  - NAND 게이트 \n",
        "  - OR 게이트 \n",
        "- 2층 퍼셉트론\n",
        "  - XOR 게이트 "
      ]
    },
    {
      "cell_type": "code",
      "metadata": {
        "id": "i2-tazs4Pva9",
        "colab_type": "code",
        "colab": {}
      },
      "source": [
        "import numpy as np"
      ],
      "execution_count": 3,
      "outputs": []
    },
    {
      "cell_type": "code",
      "metadata": {
        "id": "eoGAMidUSrjI",
        "colab_type": "code",
        "colab": {}
      },
      "source": [
        "def AND(x1,x2):\n",
        "    x = np.array([x1,x2])\n",
        "    w = np.array([0.5,0.5])\n",
        "    b = -0.9\n",
        "\n",
        "    if np.sum(x*w)+b <= 0:\n",
        "      return 0\n",
        "    else:\n",
        "      return 1"
      ],
      "execution_count": 4,
      "outputs": []
    },
    {
      "cell_type": "code",
      "metadata": {
        "id": "0gUpR1mbTWIS",
        "colab_type": "code",
        "colab": {
          "base_uri": "https://localhost:8080/",
          "height": 87
        },
        "outputId": "cb60371a-0310-499a-af03-721d240abaf1"
      },
      "source": [
        "print(AND(0,0))\n",
        "print(AND(0,1))\n",
        "print(AND(1,0))\n",
        "print(AND(1,1))"
      ],
      "execution_count": 6,
      "outputs": [
        {
          "output_type": "stream",
          "text": [
            "0\n",
            "0\n",
            "0\n",
            "1\n"
          ],
          "name": "stdout"
        }
      ]
    },
    {
      "cell_type": "markdown",
      "metadata": {
        "id": "Zju_F2WeUSKU",
        "colab_type": "text"
      },
      "source": [
        "- bias는 뉴런을 얼마나 쉽게 활성화 할 것 인지 결정하는 매개 변수\n",
        "- 가중치는 입력신호가 결과에 주는 영향력을 조절하는 매개 변수\n",
        "---\n",
        "생각 포인트!\n",
        "\n",
        "bias를 두 가중치의 합보다 작게 줘야 and 게이트 역할 가능\n",
        "\n",
        "들어가는 값의 최대가 1,1 이기 때문이다."
      ]
    },
    {
      "cell_type": "code",
      "metadata": {
        "id": "6sriXuYWUymf",
        "colab_type": "code",
        "colab": {}
      },
      "source": [
        "def AND_big_bias(x1,x2):\n",
        "    x = np.array([x1,x2])\n",
        "    w = np.array([0.6,0.6])\n",
        "    b = -1.2\n",
        "\n",
        "    if np.sum(x*w)+b <= 0:\n",
        "      return 0\n",
        "    else:\n",
        "      return 1"
      ],
      "execution_count": 13,
      "outputs": []
    },
    {
      "cell_type": "code",
      "metadata": {
        "id": "MCzP2xHQVLR5",
        "colab_type": "code",
        "colab": {
          "base_uri": "https://localhost:8080/",
          "height": 87
        },
        "outputId": "a2d5fbc2-464a-4864-ccc3-fb5b6a72cdbd"
      },
      "source": [
        "print(AND_big_bias(0,0))\n",
        "print(AND_big_bias(0,1))\n",
        "print(AND_big_bias(1,0))\n",
        "print(AND_big_bias(1,1))"
      ],
      "execution_count": 14,
      "outputs": [
        {
          "output_type": "stream",
          "text": [
            "0\n",
            "0\n",
            "0\n",
            "0\n"
          ],
          "name": "stdout"
        }
      ]
    },
    {
      "cell_type": "code",
      "metadata": {
        "id": "JI50CmqaV86o",
        "colab_type": "code",
        "colab": {}
      },
      "source": [
        "# bias가 두 가중치의 합과 같거나 크면 1,1이 들어 갔을 때 1이 나올 수 없다. "
      ],
      "execution_count": 15,
      "outputs": []
    },
    {
      "cell_type": "code",
      "metadata": {
        "id": "cMwrNKmzWLk8",
        "colab_type": "code",
        "colab": {}
      },
      "source": [
        "def NAND(x1,x2):\n",
        "    x = np.array([x1,x2])\n",
        "    w = np.array([-0.5,-0.5])\n",
        "    b = 0.9\n",
        "\n",
        "    if np.sum(x*w)+b <= 0:\n",
        "      return 0\n",
        "    else:\n",
        "      return 1"
      ],
      "execution_count": 16,
      "outputs": []
    },
    {
      "cell_type": "code",
      "metadata": {
        "id": "8JfhdX7lW1Qs",
        "colab_type": "code",
        "colab": {
          "base_uri": "https://localhost:8080/",
          "height": 87
        },
        "outputId": "71eb1a17-305a-4419-937e-e20c8ba30314"
      },
      "source": [
        "print(NAND(0,0))\n",
        "print(NAND(0,1))\n",
        "print(NAND(1,0))\n",
        "print(NAND(1,1))"
      ],
      "execution_count": 17,
      "outputs": [
        {
          "output_type": "stream",
          "text": [
            "1\n",
            "1\n",
            "1\n",
            "0\n"
          ],
          "name": "stdout"
        }
      ]
    },
    {
      "cell_type": "code",
      "metadata": {
        "id": "U0DiA51hW6w5",
        "colab_type": "code",
        "colab": {}
      },
      "source": [
        "def OR(x1,x2):\n",
        "    x = np.array([x1,x2])\n",
        "    w = np.array([0.9,0.9])\n",
        "    b = -0.5\n",
        "\n",
        "    if np.sum(x*w)+b <= 0:\n",
        "      return 0\n",
        "    else:\n",
        "      return 1"
      ],
      "execution_count": 20,
      "outputs": []
    },
    {
      "cell_type": "code",
      "metadata": {
        "id": "cPGg_v_EYsCs",
        "colab_type": "code",
        "colab": {
          "base_uri": "https://localhost:8080/",
          "height": 87
        },
        "outputId": "86eab9e8-1aae-423f-cde2-072ed26beb15"
      },
      "source": [
        "print(OR(0,0))\n",
        "print(OR(0,1))\n",
        "print(OR(1,0))\n",
        "print(OR(1,1))"
      ],
      "execution_count": 21,
      "outputs": [
        {
          "output_type": "stream",
          "text": [
            "0\n",
            "1\n",
            "1\n",
            "1\n"
          ],
          "name": "stdout"
        }
      ]
    },
    {
      "cell_type": "markdown",
      "metadata": {
        "id": "1CCsfbeKaQRB",
        "colab_type": "text"
      },
      "source": [
        "XOR 게이트는 위와 같은 방법으로 만들 수 없다. 선을 한번 그어서 1,1과 0,0이 0이되고 0,1과 1,0이 1이 되게 할 수 없다.\n",
        "\n",
        "하지만 곡선이라면 나누는 것이 가능하다.\n",
        " \n",
        "이것이 선형, 비선형의 차이이다. "
      ]
    },
    {
      "cell_type": "markdown",
      "metadata": {
        "id": "PK_sdlE8iiAp",
        "colab_type": "text"
      },
      "source": [
        "차원을 늘려주면 비선형이 된다. 선형은 단층 퍼셉트론인데 XOR 게이트를 구현하려면 즉, 2층 퍼셉트론을 만들어야 되는 것이다.\n",
        " \n",
        "x1과 x2를 NAND와 OR의 시킨 값들을 AND 시키면 XOR 값이 나온다. \n",
        "\n",
        "|x1 x2|n1 n2|y|\n",
        "|---|----|---|\n",
        "|0 0|1 0|0|\n",
        "|1 0|1 1|0|\n",
        "|0 1|1 1|0|\n",
        "|1 1|0 1|0|\n",
        "\n"
      ]
    },
    {
      "cell_type": "code",
      "metadata": {
        "id": "y97Og93-OZVy",
        "colab_type": "code",
        "colab": {}
      },
      "source": [
        "def XOR(x1,x2):\n",
        "\n",
        "  n1 = NAND(x1,x2)\n",
        "  n2 = OR(x1,x2)\n",
        "  y = AND(n1,n2)\n",
        "  return y"
      ],
      "execution_count": 71,
      "outputs": []
    },
    {
      "cell_type": "code",
      "metadata": {
        "id": "B63Xd8BwcGgy",
        "colab_type": "code",
        "colab": {
          "base_uri": "https://localhost:8080/",
          "height": 87
        },
        "outputId": "19c4e970-b98b-4afa-867f-c9460a48d5f8"
      },
      "source": [
        "print(XOR(0,0))\n",
        "print(XOR(0,1))\n",
        "print(XOR(1,0))\n",
        "print(XOR(1,1))"
      ],
      "execution_count": 72,
      "outputs": [
        {
          "output_type": "stream",
          "text": [
            "0\n",
            "1\n",
            "1\n",
            "0\n"
          ],
          "name": "stdout"
        }
      ]
    },
    {
      "cell_type": "markdown",
      "metadata": {
        "id": "mI-FZN3pkm5i",
        "colab_type": "text"
      },
      "source": [
        "XOR 게이트의 값이 잘 나온 것을 알 수 있다. 차원이 깊어져야 해결 할 수 있는 문제! "
      ]
    },
    {
      "cell_type": "code",
      "metadata": {
        "id": "Z947_ewzcsxD",
        "colab_type": "code",
        "colab": {}
      },
      "source": [
        ""
      ],
      "execution_count": 68,
      "outputs": []
    },
    {
      "cell_type": "code",
      "metadata": {
        "id": "-rBH8iscdQQX",
        "colab_type": "code",
        "colab": {}
      },
      "source": [
        ""
      ],
      "execution_count": null,
      "outputs": []
    }
  ]
}