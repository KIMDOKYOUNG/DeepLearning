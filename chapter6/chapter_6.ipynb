{
  "nbformat": 4,
  "nbformat_minor": 0,
  "metadata": {
    "colab": {
      "name": "chapter_6.ipynb",
      "provenance": [],
      "collapsed_sections": [],
      "authorship_tag": "ABX9TyNyOJAo/d3+sbZE7rt2CpAB",
      "include_colab_link": true
    },
    "kernelspec": {
      "name": "python3",
      "display_name": "Python 3"
    }
  },
  "cells": [
    {
      "cell_type": "markdown",
      "metadata": {
        "id": "view-in-github",
        "colab_type": "text"
      },
      "source": [
        "<a href=\"https://colab.research.google.com/github/KIMDOKYOUNG/DeepLearning/blob/master/chapter6/chapter_6.ipynb\" target=\"_parent\"><img src=\"https://colab.research.google.com/assets/colab-badge.svg\" alt=\"Open In Colab\"/></a>"
      ]
    },
    {
      "cell_type": "markdown",
      "metadata": {
        "id": "v_JVtao3lI5s",
        "colab_type": "text"
      },
      "source": [
        "\n",
        "## 밑바닥부터 시작하는 딥러닝 1 뽀개기\n",
        "#### CHAPTER 6 학습 관련 기술들\n",
        "#### 일자 : 2020-08-19\n",
        "\n",
        "---\n",
        "\n",
        "### 확률적 경사 하강법 (SGD)\n",
        "\n",
        "$$ W \\Leftarrow W - \\eta \\frac{\\partial L}{\\partial W} $$\n",
        "\n",
        "\n",
        "  - W : 갱신할 가중치 매개변수\n",
        "  - ∂L/∂W : W에 대한 손실함수의 기울기\n",
        "  - η(lr) : 학습률"
      ]
    },
    {
      "cell_type": "code",
      "metadata": {
        "id": "DUBDJKe6lEvn",
        "colab_type": "code",
        "colab": {}
      },
      "source": [
        "class SGD :\n",
        "  def __init__(self,lr = 0.01):\n",
        "    self.lr = lr\n",
        "  \n",
        "  def update(self,params, grads):\n",
        "    for key in params.keys():\n",
        "      params[key] -= self.lr * grads[key]\n",
        "\n",
        "  "
      ],
      "execution_count": 1,
      "outputs": []
    },
    {
      "cell_type": "markdown",
      "metadata": {
        "id": "SFPM5ZY33Mdm",
        "colab_type": "text"
      },
      "source": [
        "- lr은 학습률\n",
        "- params와 grads는 딕셔너리로 신경망의 각각의 매개변수와 기울기를 저장하고 있다\n",
        "---\n",
        "- optimizer\n",
        "  - optimizer 변수는 최적화를 행하는 자라는 뜻이다. \n",
        "  - SGD가 그 역할을 한다. \n",
        "  - 매개변수의 갱신을 수행한다. 매개변수와 기울기 정보만 넘겨주면 되는 것이다! \n",
        "\n",
        "- SDG의 단점 \n",
        "  - 만약 함수가 밥그릇 모양이 아닌, X축 방향으로 길게 늘어난 타원모양일 경우, X축 방향은 완만하고, Y축 방향은 가파르다는 것이다. \n",
        "  - 함수가 제일 최솟값이 되는 부분이 (0,0)부분이지만 기울기 대부분이 0,0을 가르키지 않는다.\n",
        "    - 그래서 최적화 갱신을 할때 지그재그로 움직인다. \n",
        "    - 비등방성 함수 (방향에 따라 성질, 즉 기울기가 달라지는 함수)에서는 탐색 경로가 비효율적이다.\n",
        "    - 기울어진 방향이 본래의 최솟값과 다른 방향을 가르켜서 지그재그로 움직이는 것 \n",
        "- SGD 단점 개선 : 모멘텀, adaGrad, Adam  \n",
        "\n",
        "---\n",
        "\n",
        "## 모멘텀 \n",
        "  - 운동량을 뜻하는 단어로, 물리와 관계가 있다. ( 관성 ) \n",
        "\n",
        "\n",
        "$$ v  \\Leftarrow \\alpha v - \\eta\\frac{\\partial L}{\\partial W} $$\n",
        "\n",
        "$$ W  \\Leftarrow W + v $$\n",
        "\n",
        "  - W : 갱신할 가중치 매개변수\n",
        "  - ∂L/∂W : W에 대한 손실함수의 기울기 \n",
        "  - lr : 학습률 \n",
        "  - v : 속도 \n",
        "  - α:  0.9로 설정한다. \n",
        "  - αv는 물체가 아무런 힘을 받지 않을 때 서서히 하강시키는 역할을 한다. \n",
        "\n"
      ]
    },
    {
      "cell_type": "code",
      "metadata": {
        "id": "BonP-k083Eu-",
        "colab_type": "code",
        "colab": {}
      },
      "source": [
        "class Momentum:\n",
        "  def __init__(self, lr = 0.01, momentum = 0.9): # lr, α를 0.01과 0.9로 초기화\n",
        "    self.lr = lr\n",
        "    self.momentum = momentum\n",
        "    self.v = None\n",
        "  \n",
        "  def update(self, params, grads): \n",
        "    if self.v is None : # 속도는 update가 처음 호출될 때 매개변수와 같은 구조의 데이터를 딕셔러니 변수로 저장한다. \n",
        "      self.v = {}\n",
        "      for key, val in params.items():\n",
        "        self.v[key] = np.zeros_like(val)\n",
        "\n",
        "    for key in params.keys():\n",
        "      self.v = self.momentum * self.v - self.lr*grads[key]\n",
        "      params[key] += self.v[key]"
      ],
      "execution_count": 3,
      "outputs": []
    },
    {
      "cell_type": "markdown",
      "metadata": {
        "id": "Kg5Xi34HB15B",
        "colab_type": "text"
      },
      "source": [
        "- x축의 힘이 아주 작지만 방향은 변하지 않아서 한 방향으로 일정하게 가속한다. \n",
        "- SGD와 비교하면 x축 방향으로 빠르게 다가갈 수 있어 지그재그 정도가 덜하다. \n",
        "\n",
        "## AdaGrad\n",
        "\n",
        "- 학습률이 너무 크면 발산하고, 너무 작으면 학습 시간이 너무 길어진다.\n",
        "- 학습률을 정하는 기술 : 학습률 감소 (learning rate decay)\n",
        "  - 학습률을 점차 줄여가는 방법 \n",
        "  - 각각의 매개변수에 맞춤형 값을 만들어준다. \n",
        "\n",
        "   $$ h \\Leftarrow h + \\frac{\\partial L}{\\partial W}\\odot \\frac{\\partial L}{\\partial W} $$\n",
        "\n",
        "   $$ W \\Leftarrow W + \\eta\\frac{1}{\\sqrt h}\\frac{\\partial L}{\\partial W} $$\n",
        "\n",
        "   - h에 기존 기울기 값을 제곱하여 계속 더해준다. (원소 곱) \n",
        "   - 매개변수를 갱신할 때 $ \\frac{1}{\\sqrt h} $을 곱해 학습률을 조정한다. \n",
        "   - 매개변수의 원소 중에서 많이 움직인 원소는 학습률이 낮아진다. \n",
        "- AdaGrad 문제점 \n",
        "\n",
        "    - 과거의 기울기를 제곱하여 계속 더해간다. 학습을 진행할수록 갱신 강도가 약해진다. \n",
        "    - 어느 순간 갱신량이 0이 되어 전혀 갱신되지 않는 문제가 발생 \n",
        "    - 해결 : RMSProp은 먼 과거의 기울기는 조금씩 잊고 새로운 기울기 정보를 크게 반영한다.(지수이동평균) \n",
        "    \n",
        "     \n"
      ]
    },
    {
      "cell_type": "code",
      "metadata": {
        "id": "riU7DD3NA4Od",
        "colab_type": "code",
        "colab": {}
      },
      "source": [
        "class AdaGrad:\n",
        "  def __init__(self, lr = 0.01):\n",
        "    self.lr = lr\n",
        "    self.h = None\n",
        "  def update(self, params, grads):\n",
        "    if self.h is None:\n",
        "      self.h = {}\n",
        "      for key,val in params.items():\n",
        "        self.h[key] = np.zero_like(val)\n",
        "      \n",
        "    for key in params.keys():\n",
        "      self.h[key] += grads[key] * grads[key]\n",
        "      params[key] -= grads[key] + self.lr* grads[key] / (np.sqrt(self.h[key]) +1e-7) # 작은 값을 더해줘서 self.h[key]가 0일때에 0으로 나눠지는 것을 방지하기 위해서  \n"
      ],
      "execution_count": 8,
      "outputs": []
    },
    {
      "cell_type": "markdown",
      "metadata": {
        "id": "dD_3DEzjQK_e",
        "colab_type": "text"
      },
      "source": [
        "- y축 방향은 기울기가 커서 처음에는 크게 움직이지만, 큰 움직임에 비례해서 갱신정도도 크게 줄어지게 조정된다.\n",
        "- y축 방향으로 갱신 강도가 약해져서 지그재그 움직임이 줄어든다. \n",
        "---\n",
        "## Adam \n",
        "- 모멘텀과 AdaGrad를 합친 것 \n",
        "- 3개의 하이퍼파라메터를 편향 보정할 수 있다. \n",
        "\n",
        "  - 이 부분을 프로젝트에 적용시켜 보자...!! \n",
        "  - 학습률\n",
        "  - 일차 모멘텀용 계수 β1, 이차 모멘텀용 계수 β2\n",
        "  - 기본 설정값은 0.9과 0.999이며 점점 줄여나가 보면 된다. \n",
        "\n",
        "---\n",
        "\n",
        "학습 진도는 AdaGrad가 제일 빠르지만, Adam을 먼저 써보고 성능이 잘 안나온다면 그다음에 AdaGrad를 쓰는게 제일 보편적이라 한다. \n"
      ]
    },
    {
      "cell_type": "markdown",
      "metadata": {
        "id": "Yfn5Fcz9SIMC",
        "colab_type": "text"
      },
      "source": [
        "## 가중치의 초기값 \n",
        "\n",
        "- 오버피팅이 안 일어나도록 가중치 감소 기법을 사용\n",
        "- 가중치 매개변수의 값이 작아지도록 학습한는 방법 \n",
        "- 하지만 초기값을 0으로 두면 오차역전파법에서 모든 가중치의 값이 똑같이 갱신되기 때문에 학습이 잘 일어나지 않는다. 초기값을 무작위로 설정해야 한다."
      ]
    },
    {
      "cell_type": "code",
      "metadata": {
        "id": "rCG2euE2OXPU",
        "colab_type": "code",
        "colab": {}
      },
      "source": [
        "import numpy as np\n",
        "import matplotlib.pyplot as plt\n",
        "\n",
        "def sigmoid(x):\n",
        "  return 1 / (1 + np.exp(-x))\n",
        "\n",
        "x = np.random.randn(1000,100)\n",
        "node_num = 100\n",
        "hidden_layer_size = 5\n",
        "activations = {}\n",
        "\n",
        "for i in range(hidden_layer_size):\n",
        "  if i != 0 :\n",
        "    x = activations[i-1]\n",
        "  \n",
        "  w = np.random.randn(node_num, node_num) * 1\n",
        "  a = np.dot(x,w)\n",
        "  z = sigmoid(a)\n",
        "  activations[i] = z\n",
        "\n"
      ],
      "execution_count": 9,
      "outputs": []
    },
    {
      "cell_type": "code",
      "metadata": {
        "id": "3mg5LuDcVTha",
        "colab_type": "code",
        "colab": {
          "base_uri": "https://localhost:8080/",
          "height": 281
        },
        "outputId": "f22c787e-8cd3-4710-9d4b-0d5941f148e2"
      },
      "source": [
        "for i,a in activations.items():\n",
        "  plt.subplot(1, len(activations), i+1)\n",
        "  plt.title(str(i+1) + \"-layer\")\n",
        "  plt.hist(a.flatten(), 30, range = (0,1))\n",
        "\n",
        "plt.show()"
      ],
      "execution_count": 12,
      "outputs": [
        {
          "output_type": "display_data",
          "data": {
            "image/png": "[encoded data removed]",
            "text/plain": [
              "<Figure size 432x288 with 5 Axes>"
            ]
          },
          "metadata": {
            "tags": [],
            "needs_background": "light"
          }
        }
      ]
    },
    {
      "cell_type": "markdown",
      "metadata": {
        "id": "US7klSY2V5zq",
        "colab_type": "text"
      },
      "source": [
        "- 각 층의 활성화값들이 0과 1에 치우쳐 분포되어 있다. \n",
        "- 시그모이드 함수는 출력이 0과 1에 가까우면 미분이 0에 근접해진다.\n",
        "- 그래서 데이터가 0과 1에 치우쳐져 있으면 역전파의 기울기 값이 점점 작아지다가 사라져 버린다. \n",
        "- 이것이 기울기 소실 문제이다!!! \n",
        "\n",
        "---\n",
        "\n",
        "## 가중치의 표준편자를 0.01로 한다면? "
      ]
    },
    {
      "cell_type": "code",
      "metadata": {
        "id": "XxCekQp0VlIK",
        "colab_type": "code",
        "colab": {}
      },
      "source": [
        "x = np.random.randn(1000,100)\n",
        "node_num = 100\n",
        "hidden_layer_size = 5\n",
        "activations = {}\n",
        "\n",
        "for i in range(hidden_layer_size):\n",
        "  if i != 0 :\n",
        "    x = activations[i-1]\n",
        "  \n",
        "  w = np.random.randn(node_num, node_num) * 0.01\n",
        "  a = np.dot(x,w)\n",
        "  z = sigmoid(a)\n",
        "  activations[i] = z"
      ],
      "execution_count": 13,
      "outputs": []
    },
    {
      "cell_type": "code",
      "metadata": {
        "id": "KpyCxYHwWe4X",
        "colab_type": "code",
        "colab": {
          "base_uri": "https://localhost:8080/",
          "height": 281
        },
        "outputId": "840eacc0-2be8-4b77-9117-1898aac74493"
      },
      "source": [
        "for i,a in activations.items():\n",
        "  plt.subplot(1, len(activations), i+1)\n",
        "  plt.title(str(i+1) + \"-layer\")\n",
        "  plt.hist(a.flatten(), 30, range = (0,1))\n",
        "\n",
        "plt.show()"
      ],
      "execution_count": 14,
      "outputs": [
        {
          "output_type": "display_data",
          "data": {
            "image/png": "[encoded data removed]",
            "text/plain": [
              "<Figure size 432x288 with 5 Axes>"
            ]
          },
          "metadata": {
            "tags": [],
            "needs_background": "light"
          }
        }
      ]
    },
    {
      "cell_type": "markdown",
      "metadata": {
        "id": "gslZgsVrWtBo",
        "colab_type": "text"
      },
      "source": [
        "- 0과 1에 치우치지 않아서 기울기 소실이 일어나지 않지만, 활성화 값들이 0.5에 치우지는 문제가 발생한다. \n",
        "- 다수의 뉴런이 거의 같은 값을 출력하고 있어서 뉴런을 여러개 둔 의미가 사라진다. \n",
        "- 표현력을 제한된다. \n",
        "- 층과 층 사이에 적당하게 다양한 데이터가 흘러야 신경망 학습이 효율적으로 이뤄진다! \n",
        "\n",
        "--- \n",
        "\n",
        "## Xavier 초깃값\n",
        "- 앞 계층의 노드가 n개라면 표준편차가 $\\frac{1}{\\sqrt h}$ 인 분포를 사용한다. "
      ]
    },
    {
      "cell_type": "code",
      "metadata": {
        "id": "gGvU4IfLWgdr",
        "colab_type": "code",
        "colab": {}
      },
      "source": [
        "x = np.random.randn(1000,100)\n",
        "node_num = 100\n",
        "hidden_layer_size = 5\n",
        "activations = {}\n",
        "\n",
        "for i in range(hidden_layer_size):\n",
        "  if i != 0 :\n",
        "    x = activations[i-1]\n",
        "  \n",
        "  w = np.random.randn(node_num, node_num) / np.sqrt(node_num)\n",
        "  a = np.dot(x,w)\n",
        "  z = sigmoid(a)\n",
        "  activations[i] = z"
      ],
      "execution_count": 15,
      "outputs": []
    },
    {
      "cell_type": "code",
      "metadata": {
        "id": "h772XM9bY4BX",
        "colab_type": "code",
        "colab": {
          "base_uri": "https://localhost:8080/",
          "height": 281
        },
        "outputId": "b0f1525d-e621-41b4-d2f4-5996cf694ce3"
      },
      "source": [
        "for i,a in activations.items():\n",
        "  plt.subplot(1, len(activations), i+1)\n",
        "  plt.title(str(i+1) + \"-layer\")\n",
        "  plt.hist(a.flatten(), 30, range = (0,1))\n",
        "\n",
        "plt.show()"
      ],
      "execution_count": 16,
      "outputs": [
        {
          "output_type": "display_data",
          "data": {
            "image/png": "[encoded data removed]",
            "text/plain": [
              "<Figure size 432x288 with 5 Axes>"
            ]
          },
          "metadata": {
            "tags": [],
            "needs_background": "light"
          }
        }
      ]
    },
    {
      "cell_type": "markdown",
      "metadata": {
        "id": "DbOQ6WPlcxMa",
        "colab_type": "text"
      },
      "source": [
        "## ReLU를 사용할 때의 가중치 초기값 \n",
        "- He 초깃값\n",
        "\n",
        "- He 초깃값은 앞 계층 노드가 n개 일때 표준편차가 $\\sqrt\\frac{2}{n}$인 정규분포를 사용한다. \n",
        "- 음의 영역이 0이라서 더 넓게 분포시키기위해 2배의 계수가 필요하다. "
      ]
    },
    {
      "cell_type": "code",
      "metadata": {
        "id": "dw2Fm1ZVZH3F",
        "colab_type": "code",
        "colab": {}
      },
      "source": [
        "def relu(x):\n",
        "  return np.maximum(0,x)"
      ],
      "execution_count": 19,
      "outputs": []
    },
    {
      "cell_type": "markdown",
      "metadata": {
        "id": "dbBSQ1SVhUvH",
        "colab_type": "text"
      },
      "source": [
        "### 표준편차가 0.01인 정규분포를 가중치 초기값으로 사용한 경우 "
      ]
    },
    {
      "cell_type": "code",
      "metadata": {
        "id": "deKd0gzwhBgX",
        "colab_type": "code",
        "colab": {}
      },
      "source": [
        "x = np.random.randn(100,100)\n",
        "node_num = 100\n",
        "hidden_layer_size = 5\n",
        "activations = {}\n",
        "\n",
        "for i in range(hidden_layer_size):\n",
        "  if i != 0 :\n",
        "    x = activations[i-1]\n",
        "  \n",
        "  w = np.random.randn(node_num, node_num) * 0.01\n",
        "  a = np.dot(x,w)\n",
        "  z = relu(a)\n",
        "  activations[i] = z"
      ],
      "execution_count": 30,
      "outputs": []
    },
    {
      "cell_type": "code",
      "metadata": {
        "id": "6T01g0bShCym",
        "colab_type": "code",
        "colab": {
          "base_uri": "https://localhost:8080/",
          "height": 281
        },
        "outputId": "db6d5f4f-1d78-4db1-8f17-7ca4cec6cf96"
      },
      "source": [
        "for i,a in activations.items():\n",
        "  plt.subplot(1, len(activations), i+1)\n",
        "  plt.title(str(i+1) + \"-layer\")\n",
        "  plt.hist(a.flatten(), 30, range = (0,1))\n",
        "\n",
        "plt.show()"
      ],
      "execution_count": 31,
      "outputs": [
        {
          "output_type": "display_data",
          "data": {
            "image/png": "[encoded data removed]",
            "text/plain": [
              "<Figure size 432x288 with 5 Axes>"
            ]
          },
          "metadata": {
            "tags": [],
            "needs_background": "light"
          }
        }
      ]
    },
    {
      "cell_type": "markdown",
      "metadata": {
        "id": "RKaDqkqQhj_6",
        "colab_type": "text"
      },
      "source": [
        "### Xavier 초깃값을 사용한 경우 "
      ]
    },
    {
      "cell_type": "code",
      "metadata": {
        "id": "F8EA3II_hcHX",
        "colab_type": "code",
        "colab": {}
      },
      "source": [
        "x = np.random.randn(100,100)\n",
        "node_num = 100\n",
        "hidden_layer_size = 5\n",
        "activations = {}\n",
        "\n",
        "for i in range(hidden_layer_size):\n",
        "  if i != 0 :\n",
        "    x = activations[i-1]\n",
        "  \n",
        "  w = np.random.randn(node_num, node_num)/ np.sqrt(node_num)\n",
        "  a = np.dot(x,w)\n",
        "  z = relu(a)\n",
        "  activations[i] = z"
      ],
      "execution_count": 32,
      "outputs": []
    },
    {
      "cell_type": "code",
      "metadata": {
        "id": "u8ac67oXhqKu",
        "colab_type": "code",
        "colab": {
          "base_uri": "https://localhost:8080/",
          "height": 281
        },
        "outputId": "2dbcf46b-34c6-4c7d-907d-ef9b36555fae"
      },
      "source": [
        "for i,a in activations.items():\n",
        "  plt.subplot(1, len(activations), i+1)\n",
        "  plt.title(str(i+1) + \"-layer\")\n",
        "  plt.hist(a.flatten(), 30, range = (0,1))\n",
        "\n",
        "plt.show()"
      ],
      "execution_count": 33,
      "outputs": [
        {
          "output_type": "display_data",
          "data": {
            "image/png": "[encoded data removed]",
            "text/plain": [
              "<Figure size 432x288 with 5 Axes>"
            ]
          },
          "metadata": {
            "tags": [],
            "needs_background": "light"
          }
        }
      ]
    },
    {
      "cell_type": "markdown",
      "metadata": {
        "id": "-nkgopLNhtOI",
        "colab_type": "text"
      },
      "source": [
        "### He 초깃값을 사용한 경우 "
      ]
    },
    {
      "cell_type": "code",
      "metadata": {
        "id": "NYKMgA-ghrA0",
        "colab_type": "code",
        "colab": {}
      },
      "source": [
        "x = np.random.randn(100,100)\n",
        "node_num = 100\n",
        "hidden_layer_size = 5\n",
        "activations = {}\n",
        "\n",
        "for i in range(hidden_layer_size):\n",
        "  if i != 0 :\n",
        "    x = activations[i-1]\n",
        "  \n",
        "  w = np.random.randn(node_num, node_num) * np.sqrt(2 / node_num)\n",
        "  a = np.dot(x,w)\n",
        "  z = relu(a)\n",
        "  activations[i] = z"
      ],
      "execution_count": 36,
      "outputs": []
    },
    {
      "cell_type": "code",
      "metadata": {
        "id": "_nJBN52NiErc",
        "colab_type": "code",
        "colab": {
          "base_uri": "https://localhost:8080/",
          "height": 281
        },
        "outputId": "abe2a1b1-5e9b-4c22-9098-dec19267fb21"
      },
      "source": [
        "for i,a in activations.items():\n",
        "  plt.subplot(1, len(activations), i+1)\n",
        "  plt.title(str(i+1) + \"-layer\")\n",
        "  plt.hist(a.flatten(), 30, range = (0,1))\n",
        "\n",
        "plt.show()"
      ],
      "execution_count": 37,
      "outputs": [
        {
          "output_type": "display_data",
          "data": {
            "image/png": "[encoded data removed]",
            "text/plain": [
              "<Figure size 432x288 with 5 Axes>"
            ]
          },
          "metadata": {
            "tags": [],
            "needs_background": "light"
          }
        }
      ]
    },
    {
      "cell_type": "markdown",
      "metadata": {
        "id": "UG7ICmenjfnI",
        "colab_type": "text"
      },
      "source": [
        "- He 초깃값은 모든 층에서 균일하게 분포되어졌다. \n",
        "- 층이 깊어져도 분포가 균일하게 유지되기에 역전파 때도 적절한 값이 나올 것이다!"
      ]
    },
    {
      "cell_type": "markdown",
      "metadata": {
        "id": "GYR8k_oikO7i",
        "colab_type": "text"
      },
      "source": [
        "## 배치 정규화( Batch Normalization) \n",
        "\n",
        "- 강제로 각 층이 활성화를 적당히 퍼트리도록 하는 것 \n",
        "\n",
        "- 장점 \n",
        "  - 학습을 빨리 진행할 수 있다. (학습 속도 개선)\n",
        "  - 초깃값에 크게 의존하지 않는다.\n",
        "  - 오버피팅 억제\n",
        "\n",
        "- 데이터의 분포가 평균이 0, 분산이 1이 되도록 정규화를 한다. \n",
        "- 활성화 함수 앞이나 뒤에 위치 시키면서 데이터 분포가 덜 치우치게 한다. \n",
        "\n",
        "$$\\mu_B \\Leftarrow \\frac{1}{m}\\sum_{i=1}^m x_i$$\n",
        "\n",
        "$$\\sigma^2_B \\Leftarrow \\frac{1}{m}\\sum_{i=1}^m (x_i - \\mu_B)^2$$\n",
        "\n",
        "$$\\hat x_i \\Leftarrow \\frac{x_i - \\mu_B}{\\sqrt{\\sigma^2_B+\\varepsilon}} $$\n",
        "\n",
        "- 또한 정규화된 데이터에 확대와 이동변환을 한다. \n",
        "\n",
        "$$y_i \\Leftarrow \\gamma\\hat x_i + \\beta$$\n",
        "\n",
        "- $\\gamma$가 확대를,  $\\beta$가 이동을 시킨다. \n",
        "- $\\gamma$ = 1,  $\\beta$ = 0부터 시작하고 학습하면서 적합한 값으로 조정한다. \n",
        "\n"
      ]
    },
    {
      "cell_type": "markdown",
      "metadata": {
        "id": "npA8mswNprLL",
        "colab_type": "text"
      },
      "source": [
        "## 바른 학습을 위해 \n",
        "\n",
        "- 훈련 데이터에 딱 맞게 학습되었을때인 오버피팅이 문제가 된다. \n",
        "- 왜 오버피팅이 발생하지? \n",
        "  - 매개변수가 많고 자유도가 높은 모델\n",
        "  - 훈련 데이터가 적다 \n",
        "\n",
        "\n",
        "### 가중치 감소\n",
        "  - 가중치 매개변수의 값이 커서 오버피팅이 발생하는 경우가 많다. \n",
        "  - 학습과정에서 큰 가중치에 대해서는 큰 페널티를 부과하는 것 \n",
        "  - 가중치가 $W$일때 가중치 감소는 $\\frac{1}{2}\\lambda W^2$가 된다. \n",
        "  - $\\lambda $는 정규화 세기를 조절하는 하이퍼파라메터이다. $\\lambda $가 크면 큰 가중치에 대한 페널티가 커진다. \n",
        "\n",
        "### 드롭아웃 \n",
        "- 뉴런을 임의로 삭제하면서 학습하는 것 \n",
        "- train_flg가 False일때 뉴런의 출력에 삭제한 비율을 곱함으로써 앙상블 학습에서 여러 모델의 평균을 내는 것과 같은 효과를 얻는다. "
      ]
    },
    {
      "cell_type": "code",
      "metadata": {
        "id": "Qg_N4YTdiFRG",
        "colab_type": "code",
        "colab": {}
      },
      "source": [
        "class Dropout:\n",
        "  def __init__(self, dropout_ratio = 0.5):\n",
        "    self.dropout_ratio = dropout_ratio\n",
        "    self.mask = None\n",
        "  \n",
        "  def forward(self,x,train_flg = True):\n",
        "    if train_flg : \n",
        "      self.mask = np.random.rand(*x.shape) > self.dropout_ratio # 튜플 압축을 풀때 *를 붙인다. \n",
        "      return x * self.mask\n",
        "    else : \n",
        "      return x*(1.0 - self.dropout_ratio) # 삭제한 비율을 곱함으로써 앙상블 학습에서 여러 모델의 평균을 내는 것과 같은 효과를 얻는다. \n",
        "  \n",
        "  def backward(self,dout):\n",
        "    return dout * self.mask\n"
      ],
      "execution_count": 40,
      "outputs": []
    },
    {
      "cell_type": "markdown",
      "metadata": {
        "id": "hh-LeT6Nw3lN",
        "colab_type": "text"
      },
      "source": [
        "## 하이퍼파라미터 최적화 \n",
        "- 신경망의 하이퍼파라미터 최적화는 그리드 서치와 같은 규칙적인 탐색보다는 무작위로 샘플링해 탐색하는 편이 더 좋은 결과를 낸다. \n",
        "- 하이퍼파라미터의 최적 값이 존재하는 범위를 조금씩 줄여간다는 것이 포인트~~"
      ]
    },
    {
      "cell_type": "code",
      "metadata": {
        "id": "B-POwotPvQ0s",
        "colab_type": "code",
        "colab": {}
      },
      "source": [
        ""
      ],
      "execution_count": null,
      "outputs": []
    }
  ]
}