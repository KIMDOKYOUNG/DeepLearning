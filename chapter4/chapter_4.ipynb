{
  "nbformat": 4,
  "nbformat_minor": 0,
  "metadata": {
    "colab": {
      "name": "chapter_4.ipynb",
      "provenance": [],
      "collapsed_sections": [],
      "toc_visible": true,
      "authorship_tag": "ABX9TyPCFZkf/Q9UEm9dtX8NY9p9",
      "include_colab_link": true
    },
    "kernelspec": {
      "name": "python3",
      "display_name": "Python 3"
    }
  },
  "cells": [
    {
      "cell_type": "markdown",
      "metadata": {
        "id": "view-in-github",
        "colab_type": "text"
      },
      "source": [
        "<a href=\"https://colab.research.google.com/github/KIMDOKYOUNG/DeepLearning/blob/master/chapter4/chapter_4.ipynb\" target=\"_parent\"><img src=\"https://colab.research.google.com/assets/colab-badge.svg\" alt=\"Open In Colab\"/></a>"
      ]
    },
    {
      "cell_type": "markdown",
      "metadata": {
        "id": "njzGLiCb6xb0",
        "colab_type": "text"
      },
      "source": [
        "\n",
        "## 밑바닥부터 시작하는 딥러닝 1 뽀개기\n",
        "#### CHAPTER 4 신경망 학습  \n",
        "#### 일자 : 2020-08-14\n",
        "#### 최종 수정일 : 2020-08-18\n",
        "\n",
        "- 데이터로부터 매개변수 정하기 \n",
        "- end to end mechine learning = 딥러닝 => 데이터(입력)에서 목표한 결과(출력)을 얻는다는 뜻 \n",
        "- train 데이터와, test 데이터로 나눠서 진행한다.\n",
        "- 한 데이터 셋에만 지나치게 최적화 된 상태 -> 오버피팅! 오버피팅을 피해야 된다. \n",
        "- 손실함수(loss function)을 기준으로 최적의 매개변수 값을 탐색한다.\n",
        "  - 평균 제곱 오차\n",
        "  - 교차 엔트로피 오차 "
      ]
    },
    {
      "cell_type": "markdown",
      "metadata": {
        "id": "Xij0fvo79Wza",
        "colab_type": "text"
      },
      "source": [
        "### 평균 제곱 오차 "
      ]
    },
    {
      "cell_type": "code",
      "metadata": {
        "id": "LYnpvIoo-u0u",
        "colab_type": "code",
        "colab": {}
      },
      "source": [
        "import numpy as np"
      ],
      "execution_count": 1,
      "outputs": []
    },
    {
      "cell_type": "code",
      "metadata": {
        "id": "shqcXt6W6ucr",
        "colab_type": "code",
        "colab": {}
      },
      "source": [
        "def mean_squared_error(y,t):\n",
        "  return 0.5*np.sum((y-t)**2)"
      ],
      "execution_count": 2,
      "outputs": []
    },
    {
      "cell_type": "code",
      "metadata": {
        "id": "E6l1gwQW9VlK",
        "colab_type": "code",
        "colab": {
          "base_uri": "https://localhost:8080/",
          "height": 52
        },
        "outputId": "38822268-76cf-40e1-c6bd-b1d8d7fe749a"
      },
      "source": [
        "t = [0,1,0,0,0,0,0,0,0,0]\n",
        "y = [0.2,0.05, 0.1,0.2,0.3,0.1,0.3,0.7,0.1,0.01]\n",
        "\n",
        "print(mean_squared_error(np.array(y),np.array(t)))\n",
        "\n",
        "t = [0,0,0,0,0,0,0,1,0,0]\n",
        "y = [0.2,0.05, 0.1,0.2,0.3,0.1,0.3,0.7,0.1,0.01]\n",
        "\n",
        "print(mean_squared_error(np.array(y),np.array(t)))"
      ],
      "execution_count": 3,
      "outputs": [
        {
          "output_type": "stream",
          "text": [
            "0.8412999999999999\n",
            "0.19130000000000003\n"
          ],
          "name": "stdout"
        }
      ]
    },
    {
      "cell_type": "markdown",
      "metadata": {
        "id": "L8-6orW8_siU",
        "colab_type": "text"
      },
      "source": [
        "값이 작을수록 정답에 가깝다."
      ]
    },
    {
      "cell_type": "markdown",
      "metadata": {
        "id": "KRmAmLdcBXRD",
        "colab_type": "text"
      },
      "source": [
        "### 교차 엔트로피 오차 "
      ]
    },
    {
      "cell_type": "code",
      "metadata": {
        "id": "V1Xh6FLy_EbI",
        "colab_type": "code",
        "colab": {}
      },
      "source": [
        "def cross_entropy_error(y,t):\n",
        "  delta = 1e-7\n",
        "  return - np.sum(t*np.log(y + delta)) # 마이너스 무한대가 발생하지 않도록 작은 값을 더한다."
      ],
      "execution_count": 4,
      "outputs": []
    },
    {
      "cell_type": "code",
      "metadata": {
        "id": "Qr4kz2oWBWXC",
        "colab_type": "code",
        "colab": {
          "base_uri": "https://localhost:8080/",
          "height": 52
        },
        "outputId": "3112fa7e-7d99-4c52-8d87-7093b99d8fcc"
      },
      "source": [
        "t = [0,1,0,0,0,0,0,0,0,0]\n",
        "y = [0.2,0.5, 0.1,0.2,0.3,0.1,0.3,0.3,0.1,0.01]\n",
        "\n",
        "print(cross_entropy_error(np.array(y),np.array(t)))\n",
        "\n",
        "y = [0.2,0.05, 0.1,0.2,0.3,0.1,0.3,0.7,0.1,0.01]\n",
        "\n",
        "print(cross_entropy_error(np.array(y),np.array(t)))"
      ],
      "execution_count": 5,
      "outputs": [
        {
          "output_type": "stream",
          "text": [
            "0.6931469805599654\n",
            "2.9957302735559908\n"
          ],
          "name": "stdout"
        }
      ]
    },
    {
      "cell_type": "code",
      "metadata": {
        "id": "jaVRUL7EC_52",
        "colab_type": "code",
        "colab": {
          "base_uri": "https://localhost:8080/",
          "height": 52
        },
        "outputId": "a538cdf4-d932-4657-83f9-8382f29c4a91"
      },
      "source": [
        "### 미니 배치 \n",
        "from mnist import load_mnist\n",
        "\n",
        "(x_train, t_train), (x_test,t_test) = load_mnist(normalize = True, one_hot_label = True)\n",
        "\n",
        "print(x_train.shape)\n",
        "print(t_train.shape)"
      ],
      "execution_count": 35,
      "outputs": [
        {
          "output_type": "stream",
          "text": [
            "(60000, 784)\n",
            "(60000, 10)\n"
          ],
          "name": "stdout"
        }
      ]
    },
    {
      "cell_type": "code",
      "metadata": {
        "id": "XF7IPtbTM7Yc",
        "colab_type": "code",
        "colab": {
          "base_uri": "https://localhost:8080/",
          "height": 34
        },
        "outputId": "a1964223-6ef0-4bac-9487-2b713bd50671"
      },
      "source": [
        "# 무작위로 10장 뽑아내기 \n",
        "train_size = x_train.shape[0]\n",
        "batch_size = 10\n",
        "batch_mask = np.random.choice(train_size, batch_size) # train_size인 0~60000 미만 10개 숫자 뽑기 \n",
        "print(batch_mask)\n"
      ],
      "execution_count": 37,
      "outputs": [
        {
          "output_type": "stream",
          "text": [
            "[55 15 75  7 89 41 95 20 17 27]\n"
          ],
          "name": "stdout"
        }
      ]
    },
    {
      "cell_type": "code",
      "metadata": {
        "id": "dOhwAp5FNqsh",
        "colab_type": "code",
        "colab": {}
      },
      "source": [
        "x_batch = x_train[batch_mask]\n",
        "t_batch = t_train[batch_mask]"
      ],
      "execution_count": 43,
      "outputs": []
    },
    {
      "cell_type": "markdown",
      "metadata": {
        "id": "c7twBrykSNSD",
        "colab_type": "text"
      },
      "source": [
        "- 배치용 쿄차 엔트로피 오차 구현하기 \n",
        "  -  배치 사이즈 만큼을 한꺼번에 계산을 하는거니깐 배치 사이즈 만큼 나눠주면 된다. \n",
        "  "
      ]
    },
    {
      "cell_type": "code",
      "metadata": {
        "id": "OCHrbAc_OCR2",
        "colab_type": "code",
        "colab": {
          "base_uri": "https://localhost:8080/",
          "height": 123
        },
        "outputId": "07939332-1df6-4e98-90d9-853b10cdc76d"
      },
      "source": [
        "a = np.array([1,2,3,4])\n",
        "b = np.array([0,0,0,1])\n",
        "y = a.reshape(1,-1)\n",
        "x = b.reshape(1,-1)\n",
        "c = np.array([[1,2,3,4],[2,3,4,5]])\n",
        "\n",
        "print(a)\n",
        "print(y)\n",
        "print(x)\n",
        "print(a.shape)\n",
        "print(y.shape)\n",
        "print(c.shape)"
      ],
      "execution_count": 65,
      "outputs": [
        {
          "output_type": "stream",
          "text": [
            "[1 2 3 4]\n",
            "[[1 2 3 4]]\n",
            "[[0 0 0 1]]\n",
            "(4,)\n",
            "(1, 4)\n",
            "(2, 4)\n"
          ],
          "name": "stdout"
        }
      ]
    },
    {
      "cell_type": "code",
      "metadata": {
        "id": "Kbc-K3LQN1NB",
        "colab_type": "code",
        "colab": {
          "base_uri": "https://localhost:8080/",
          "height": 34
        },
        "outputId": "3bf14804-e0eb-4600-d43b-2782d5f80a08"
      },
      "source": [
        "np.sum(b*np.log(c))"
      ],
      "execution_count": 61,
      "outputs": [
        {
          "output_type": "execute_result",
          "data": {
            "text/plain": [
              "2.995732273553991"
            ]
          },
          "metadata": {
            "tags": []
          },
          "execution_count": 61
        }
      ]
    },
    {
      "cell_type": "code",
      "metadata": {
        "id": "GY0gFoTQShcS",
        "colab_type": "code",
        "colab": {}
      },
      "source": [
        "def cross_entropy_error1(y,t):\n",
        "  delta = 1e-7 # 작은 값을 더해줘서 언더플로우를 방지 \n",
        "  # 배치사이즈로 나눠주려고한다. 배치사이즈를 y.shape[0]으로 구하려고 한다. 그런데 만약에 데이터가 하나인경우 y.shape[0]을 하면 원소개수가 나오므로 shape을 (1,-1)로 바꿔줘야된다. \n",
        "  # (1,-1) 여기서 -1로 두는 이유는 알아서 맞춰두라는 뜻 만약 (4,)였으면 (1,4)로 잘 바뀌는 것을 볼 수 있다. \n",
        "  if y.ndim == 1:\n",
        "    y = y.reshape(1,-1)\n",
        "    t = t.reshape(1,-1)\n",
        "  \n",
        "  batch_size = y.shape[0]\n",
        "  return -np.sum(t*np.log(y+delta)) / batch_size"
      ],
      "execution_count": 98,
      "outputs": []
    },
    {
      "cell_type": "markdown",
      "metadata": {
        "id": "T4oKy-ZNSKiY",
        "colab_type": "text"
      },
      "source": [
        "- 만약에 정답레이블이 원핫인코딩이 아니라 2,6과 같은 숫자이면 각 레이블에 해당하는 신경망의 출력을 추출하면된다. \n",
        "- 어떻게 이게 가능한가?\n",
        "  - 원핫인코딩 되어 있는 t와 y를 곱한다면 정답만 1이고 나머지 부분은 0이기 때문에 t와 y를 곱하면 정답인 부분의 신경망 값만 남게 된다. 그니깐 위의 가정이 적용될 수 있다. \n",
        "  - 아래의 예시를 확인 해 보자! "
      ]
    },
    {
      "cell_type": "code",
      "metadata": {
        "id": "78y64jt5R2TD",
        "colab_type": "code",
        "colab": {}
      },
      "source": [
        "y = np.array([[1,2,3,4],[2,3,3,4],[3,4,5,6]])\n",
        "t = [1,3,3]\n",
        "t_2 = np.array([[0,1,0,0],[0,0,0,1],[0,0,0,1]])"
      ],
      "execution_count": 106,
      "outputs": []
    },
    {
      "cell_type": "code",
      "metadata": {
        "id": "UnfakbjaSFuw",
        "colab_type": "code",
        "colab": {
          "base_uri": "https://localhost:8080/",
          "height": 34
        },
        "outputId": "ddb046c1-b2f1-49c8-eeec-d44b0e5c24db"
      },
      "source": [
        "result1 = y[np.array([0,1,2]),t]\n",
        "print(result1)"
      ],
      "execution_count": 107,
      "outputs": [
        {
          "output_type": "stream",
          "text": [
            "[2 4 6]\n"
          ],
          "name": "stdout"
        }
      ]
    },
    {
      "cell_type": "code",
      "metadata": {
        "id": "U7zCGi6HWxNw",
        "colab_type": "code",
        "colab": {
          "base_uri": "https://localhost:8080/",
          "height": 70
        },
        "outputId": "56d259d9-6b65-48b4-e159-8e1c8acb9b68"
      },
      "source": [
        "result2 = y*t_2\n",
        "print(result2)"
      ],
      "execution_count": 108,
      "outputs": [
        {
          "output_type": "stream",
          "text": [
            "[[0 2 0 0]\n",
            " [0 0 0 4]\n",
            " [0 0 0 6]]\n"
          ],
          "name": "stdout"
        }
      ]
    },
    {
      "cell_type": "code",
      "metadata": {
        "id": "CoW3CkZOWZig",
        "colab_type": "code",
        "colab": {
          "base_uri": "https://localhost:8080/",
          "height": 52
        },
        "outputId": "34501e8d-1121-4f74-ffc5-125512a712d6"
      },
      "source": [
        "# 단순히 더하기만 했을때 결과가 같게 나오는 것을 확인 할 수 있다. \n",
        "print(np.sum(result1))\n",
        "print(np.sum(result2))"
      ],
      "execution_count": 92,
      "outputs": [
        {
          "output_type": "stream",
          "text": [
            "12\n",
            "12\n"
          ],
          "name": "stdout"
        }
      ]
    },
    {
      "cell_type": "code",
      "metadata": {
        "id": "g2H1N4AESJds",
        "colab_type": "code",
        "colab": {}
      },
      "source": [
        "def cross_entropy_error2(y,t):\n",
        "  delta = 1e-7\n",
        "  if y.ndim == 1:\n",
        "    y = y.reshape(1,-1)\n",
        "    t = t.reshape(1,-1)\n",
        "  \n",
        "  batch_size = y.shape[0]\n",
        "  return -np.sum(np.log(y[np.arange(batch_size),t]+delta)) / batch_size"
      ],
      "execution_count": 99,
      "outputs": []
    },
    {
      "cell_type": "code",
      "metadata": {
        "id": "gFEpVKZxXwSR",
        "colab_type": "code",
        "colab": {
          "base_uri": "https://localhost:8080/",
          "height": 34
        },
        "outputId": "052d7190-ef1e-4601-90d3-9f5e9d35014e"
      },
      "source": [
        "cross_entropy_error1(y,t_2)"
      ],
      "execution_count": 105,
      "outputs": [
        {
          "output_type": "execute_result",
          "data": {
            "text/plain": [
              "-1.290400367524852"
            ]
          },
          "metadata": {
            "tags": []
          },
          "execution_count": 105
        }
      ]
    },
    {
      "cell_type": "code",
      "metadata": {
        "id": "JvKpTs9NXXVh",
        "colab_type": "code",
        "colab": {
          "base_uri": "https://localhost:8080/",
          "height": 34
        },
        "outputId": "3b887097-ac16-4984-9bf8-4be635b1ace7"
      },
      "source": [
        "cross_entropy_error2(y,t)"
      ],
      "execution_count": 109,
      "outputs": [
        {
          "output_type": "execute_result",
          "data": {
            "text/plain": [
              "-1.290400367524852"
            ]
          },
          "metadata": {
            "tags": []
          },
          "execution_count": 109
        }
      ]
    },
    {
      "cell_type": "code",
      "metadata": {
        "id": "ALaYUjoKYmW-",
        "colab_type": "code",
        "colab": {}
      },
      "source": [
        ""
      ],
      "execution_count": null,
      "outputs": []
    },
    {
      "cell_type": "markdown",
      "metadata": {
        "id": "TbsgmaBYX1Fo",
        "colab_type": "text"
      },
      "source": [
        "원핫인코딩이 아닌 레이블이 들어가도 결과는 같게 나오는 것을 볼 수 있다.\n",
        "\n",
        "---\n",
        "## 왜 손실함수를 사용해야 할까?\n",
        "\n",
        "신경망 학습에서 최적의 매개변수(가중치와 편향)를 탐색 할 때 손실함수 값을 최대한 작게하는 매개변수 값을 찾는다. 이때 매개변수의 미분(기울기)를 계산하고, 그 미분값을 토대로 매개변수의 값을 갱신해 나가는 과정을 반복한다. \n",
        "\n",
        "\n",
        "- 정확도를 지표로 삼으면 대부분 미분값이 0이 된다. \n",
        "- 정확도는 매개변수를 바꿨을때 미미하게 보이는 차이가 잘 들어나지 않기 때문이다. \n",
        "  - 매개변수를 미미하게 바꿨을 경우에는 반응이 거의 없고, 반응이 있으면 갑자가 확 변화를 한다. \n",
        "  - 이걸 계단 함수를 활성화 함수로 사용했을 경우와 같게 본다. \n",
        "  - 계단 함수는 대부분의 경우 미분값이 0이다. 그러니 손실함수의 지표로 삼는게 의미가 없어진다. \n",
        "- 손실함수를 지표로 삼으면 미미하게 바꿨을 경우에도 변화가 들어나고, 연속적으로 변화한다. \n",
        "- 그래서 시그모이드 함수의 미분은 어느 곳이든 기울기가 0이 되지 않아서 신경망이 올바르게 학습할 수 있는 것이다. \n",
        "- 활성화 함수로 계단 함수를 사용하지 않고 시그모이드와 같은 함수를 사용하는 것 \n"
      ]
    },
    {
      "cell_type": "markdown",
      "metadata": {
        "id": "eSN2uYLmGnsS",
        "colab_type": "text"
      },
      "source": [
        "### 수치 미분 \n",
        "- 한 순간의 변화량 \n",
        "- 수치 미분 : 아주 작은 차분으로 미분을 하는 것 "
      ]
    },
    {
      "cell_type": "code",
      "metadata": {
        "id": "dT3G1Mm0GNKY",
        "colab_type": "code",
        "colab": {}
      },
      "source": [
        "### 나쁜 구현의 예 :  10e-50과 같이 너무 작은 값을 사용하면 0.0이 되서 문제가 된다. \n",
        "def numerical_diff(f,x):\n",
        "  h = 10e-50\n",
        "  return (f(x+h)-f(x)) / h"
      ],
      "execution_count": 110,
      "outputs": []
    },
    {
      "cell_type": "markdown",
      "metadata": {
        "id": "k8blFRvodpZB",
        "colab_type": "text"
      },
      "source": [
        "- 진정한 미분 : x에 대해 미분하는 것 \n",
        "- 근사로 구한 미분 : (x+h)와 x 사이의 기울기 \n",
        "\n",
        "이 둘이 완전히 일치하지 않아서 수치 미분에 오차가 포함되어 있다고 하는 것이다. \n",
        "\n"
      ]
    },
    {
      "cell_type": "code",
      "metadata": {
        "id": "EZOr1OZcIW1t",
        "colab_type": "code",
        "colab": {}
      },
      "source": [
        "### 좋은 구현 : 수치 미분에는 오차가 포함되기 때문에 중심 차분(중앙 차분)을 하는 것 \n",
        "def numerical_diff(f,x):\n",
        "  h = 1e-4\n",
        "  return (f(x+h)-f(x-h)) / (2*h)"
      ],
      "execution_count": 111,
      "outputs": []
    },
    {
      "cell_type": "code",
      "metadata": {
        "id": "cRuCa9ocIjWF",
        "colab_type": "code",
        "colab": {}
      },
      "source": [
        "def function_1(x):\n",
        "  return 0.01*x**2 +0.1*x"
      ],
      "execution_count": 9,
      "outputs": []
    },
    {
      "cell_type": "code",
      "metadata": {
        "id": "XXjysEwdLvCc",
        "colab_type": "code",
        "colab": {
          "base_uri": "https://localhost:8080/",
          "height": 278
        },
        "outputId": "273cfc26-d842-4171-bd5a-4fa09415acd1"
      },
      "source": [
        "import numpy as np\n",
        "import matplotlib.pyplot as plt\n",
        "\n",
        "x = np.arange(0.0, 20.0, 0.1)\n",
        "y = function_1(x)\n",
        "plt.xlabel('x')\n",
        "plt.ylabel('f(x)')\n",
        "plt.plot(x,y)\n",
        "plt.show()"
      ],
      "execution_count": 10,
      "outputs": [
        {
          "output_type": "display_data",
          "data": {
            "image/png": "[encoded data removed]",
            "text/plain": [
              "<Figure size 432x288 with 1 Axes>"
            ]
          },
          "metadata": {
            "tags": [],
            "needs_background": "light"
          }
        }
      ]
    },
    {
      "cell_type": "code",
      "metadata": {
        "id": "n12briDuMCW0",
        "colab_type": "code",
        "colab": {
          "base_uri": "https://localhost:8080/",
          "height": 34
        },
        "outputId": "420f26ba-9fd1-4c43-b573-10c1ac9d4dbf"
      },
      "source": [
        "numerical_diff(function_1,5)"
      ],
      "execution_count": 11,
      "outputs": [
        {
          "output_type": "execute_result",
          "data": {
            "text/plain": [
              "0.1999999999990898"
            ]
          },
          "metadata": {
            "tags": []
          },
          "execution_count": 11
        }
      ]
    },
    {
      "cell_type": "code",
      "metadata": {
        "id": "dhlOI1K5MLKY",
        "colab_type": "code",
        "colab": {
          "base_uri": "https://localhost:8080/",
          "height": 34
        },
        "outputId": "0597f0cb-fb87-40c4-85e4-f9d2aab05672"
      },
      "source": [
        "numerical_diff(function_1,10)"
      ],
      "execution_count": 12,
      "outputs": [
        {
          "output_type": "execute_result",
          "data": {
            "text/plain": [
              "0.2999999999986347"
            ]
          },
          "metadata": {
            "tags": []
          },
          "execution_count": 12
        }
      ]
    },
    {
      "cell_type": "markdown",
      "metadata": {
        "id": "M2BriZmeMPMK",
        "colab_type": "text"
      },
      "source": [
        "x가 5와 10일때 미분이 0.2와 0.3으로 오차가 매우 작다 "
      ]
    },
    {
      "cell_type": "markdown",
      "metadata": {
        "id": "6P_kxT4KMtJG",
        "colab_type": "text"
      },
      "source": [
        "### 편미분 : 변수가 여러개인 함수에 대한 미분 "
      ]
    },
    {
      "cell_type": "code",
      "metadata": {
        "id": "nRIyIvyVMM36",
        "colab_type": "code",
        "colab": {}
      },
      "source": [
        "def function_2(x):\n",
        "    if x.ndim == 1:\n",
        "        return np.sum(x**2)\n",
        "    else:\n",
        "        return np.sum(x**2, axis=1)"
      ],
      "execution_count": 13,
      "outputs": []
    },
    {
      "cell_type": "code",
      "metadata": {
        "id": "kzZSV8sDMvjC",
        "colab_type": "code",
        "colab": {}
      },
      "source": [
        "## x0 = 3, x1 = 4일때, x0에 대한 편미분 구하는 함수 \n",
        "\n",
        "def function_tmp1(x0):\n",
        "  return x0*x0 + 4.0**2"
      ],
      "execution_count": 14,
      "outputs": []
    },
    {
      "cell_type": "code",
      "metadata": {
        "id": "0hUIYqU0M3LS",
        "colab_type": "code",
        "colab": {}
      },
      "source": [
        "## x0 = 3, x1 = 4일때, x1에 대한 편미분 구하는 함수 \n",
        "\n",
        "def function_tmp2(x1):\n",
        "  return 3.0**2 + x1*x1"
      ],
      "execution_count": 15,
      "outputs": []
    },
    {
      "cell_type": "markdown",
      "metadata": {
        "id": "iRwsZ8BoNTfJ",
        "colab_type": "text"
      },
      "source": [
        "### 기울기 \n",
        "- 모든 변수의 편미분을 백터화 한 것 \n",
        "- 각 변수들의 grad를 넣을 수 있게 x와 shape이 같은 배열 생성하는 것이 포인트~~\n",
        "\n"
      ]
    },
    {
      "cell_type": "code",
      "metadata": {
        "id": "9XTHPupuNHyG",
        "colab_type": "code",
        "colab": {}
      },
      "source": [
        "def _numerical_gradient_no_batch(f,x):\n",
        "\n",
        "  h = 1e-4\n",
        "  grad = np.zeros_like(x) # 여기에 각 변수들의 grad를 넣을 수 있게 x와 shape이 같은 배열 생성 \n",
        "\n",
        "  for idx in range(x.size):\n",
        "    temp = x[idx]\n",
        "    x[idx] = float(temp) + h\n",
        "    fxh1 = f(x)\n",
        "    x[idx] = temp -h \n",
        "    fxh2 = f(x)\n",
        "    grad[idx] = (fxh1-fxh2)/ (2*h)\n",
        "    x[idx] = temp\n",
        "  \n",
        "  return grad \n",
        "\n"
      ],
      "execution_count": 16,
      "outputs": []
    },
    {
      "cell_type": "code",
      "metadata": {
        "id": "2xe8OyuJVpfc",
        "colab_type": "code",
        "colab": {}
      },
      "source": [
        "def numerical_gradient(f,X):\n",
        "  if X.ndim == 1:\n",
        "    return _numerical_gradient_no_batch(f,X)\n",
        "  else : \n",
        "    grad = np.zeros_like(X)\n",
        "\n",
        "    for idx, x in enumerate(X):\n",
        "      grad[idx] = _numerical_gradient_no_batch(f,x)\n",
        "    \n",
        "    return grad"
      ],
      "execution_count": 17,
      "outputs": []
    },
    {
      "cell_type": "code",
      "metadata": {
        "id": "itiTw03LRpUB",
        "colab_type": "code",
        "colab": {
          "base_uri": "https://localhost:8080/",
          "height": 34
        },
        "outputId": "083d2655-edac-4698-ad90-fbbf70562037"
      },
      "source": [
        "# 참고 \n",
        "np.array([1,2,3,4]).size"
      ],
      "execution_count": 18,
      "outputs": [
        {
          "output_type": "execute_result",
          "data": {
            "text/plain": [
              "4"
            ]
          },
          "metadata": {
            "tags": []
          },
          "execution_count": 18
        }
      ]
    },
    {
      "cell_type": "code",
      "metadata": {
        "id": "WTCyM62CRtJ3",
        "colab_type": "code",
        "colab": {}
      },
      "source": [
        "from mpl_toolkits.mplot3d import Axes3D"
      ],
      "execution_count": 19,
      "outputs": []
    },
    {
      "cell_type": "code",
      "metadata": {
        "id": "DZ_pwqeyUaZt",
        "colab_type": "code",
        "colab": {
          "base_uri": "https://localhost:8080/",
          "height": 301
        },
        "outputId": "ece77b9e-3478-48f1-85ae-38723666b0fd"
      },
      "source": [
        "x0 = np.arange(-2,2.5,0.25)\n",
        "x1 = np.arange(-2,2.5,0.25)\n",
        "X,Y = np.meshgrid(x0,x1)\n",
        "\n",
        "X = X.flatten()\n",
        "Y = Y.flatten()\n",
        "\n",
        "grad = numerical_gradient(function_2, np.array([X,Y]) )\n",
        "\n",
        "plt.figure()\n",
        "plt.quiver(X, Y, -grad[0], -grad[1],  angles=\"xy\",color=\"#666666\")\n",
        "plt.xlim([-2, 2])\n",
        "plt.ylim([-2, 2])\n",
        "plt.xlabel('x0')\n",
        "plt.ylabel('x1')\n",
        "plt.grid()\n",
        "plt.legend()\n",
        "plt.draw()\n",
        "plt.show()\n"
      ],
      "execution_count": 20,
      "outputs": [
        {
          "output_type": "stream",
          "text": [
            "No handles with labels found to put in legend.\n"
          ],
          "name": "stderr"
        },
        {
          "output_type": "display_data",
          "data": {
            "image/png": "[encoded data removed]",
            "text/plain": [
              "<Figure size 432x288 with 1 Axes>"
            ]
          },
          "metadata": {
            "tags": [],
            "needs_background": "light"
          }
        }
      ]
    },
    {
      "cell_type": "markdown",
      "metadata": {
        "id": "ANSfIIi2XPUr",
        "colab_type": "text"
      },
      "source": [
        "- 화살표들이 기울기가 가장 낮은 곳을 가르키는 것을 볼 수 있다. \n",
        "- 기울기는 각 지점에서 낮아지는 방향을 가르킨다. => 기울기가 가르키는 쪽이 각 장소에서 함수의 출력 값을 가장 줄이는 방향 "
      ]
    },
    {
      "cell_type": "markdown",
      "metadata": {
        "id": "fBjVHimpX0Ce",
        "colab_type": "text"
      },
      "source": [
        "### 경사하강법 \n",
        "\n",
        "- 기울기를 이용해서 함수의 최솟값을 찾으려는 것이 경사법이다.\n",
        "- 현 위치에서 기울어진 방향으로 일정 거리만큼 이동한 뒤 다시 기울기를 구하고, 또 그 기울어진 방향으로 움직이는 것 \n",
        "\n",
        "- 갱신하는 양은 학습률(learning rate)가 결정한다. \n",
        "  - 너무 크면 발산하고, 너무 작으면 학습 속도가 너무 늦다. \n",
        "- 학습률이 곱해진 기울기를 원래 함수에서 빼므로 경사 \"하강법\"이다.\n"
      ]
    },
    {
      "cell_type": "code",
      "metadata": {
        "id": "k8ecl7frXxPp",
        "colab_type": "code",
        "colab": {}
      },
      "source": [
        "def gradient_descent(f, init_x, lr = 0.01, step_num =100):\n",
        "  x = init_x\n",
        "  for i in range(step_num):\n",
        "    grad = numerical_gradient(f,x)\n",
        "    x -= grad*lr\n",
        "  return x  "
      ],
      "execution_count": 21,
      "outputs": []
    },
    {
      "cell_type": "code",
      "metadata": {
        "id": "dhsKkGfDXO2G",
        "colab_type": "code",
        "colab": {
          "base_uri": "https://localhost:8080/",
          "height": 34
        },
        "outputId": "deae26ae-be3a-4f18-cc72-047edb9b9d24"
      },
      "source": [
        "init_x = np.array([-3.0,4.0])\n",
        "gradient_descent(function_2, init_x, lr = 0.1, step_num = 100)"
      ],
      "execution_count": 22,
      "outputs": [
        {
          "output_type": "execute_result",
          "data": {
            "text/plain": [
              "array([-6.11110793e-10,  8.14814391e-10])"
            ]
          },
          "metadata": {
            "tags": []
          },
          "execution_count": 22
        }
      ]
    },
    {
      "cell_type": "code",
      "metadata": {
        "id": "XWQKX16KbZXi",
        "colab_type": "code",
        "colab": {}
      },
      "source": [
        "def gradient_descent(f, init_x, lr = 0.01, step_num =100):\n",
        "  x = init_x\n",
        "  x_history = [] # x가 바뀌어가는 것을 보기위해서 리스트에 저장 \n",
        "  for i in range(step_num):\n",
        "    x_history.append(x.copy())\n",
        "    grad = numerical_gradient(f,x)\n",
        "    x -= grad*lr\n",
        "  return x , np.array(x_history)"
      ],
      "execution_count": 114,
      "outputs": []
    },
    {
      "cell_type": "code",
      "metadata": {
        "id": "FkqAbZNHVEPt",
        "colab_type": "code",
        "colab": {
          "base_uri": "https://localhost:8080/",
          "height": 278
        },
        "outputId": "676c2e49-4864-49d9-e322-c26c7900f509"
      },
      "source": [
        "init_x = np.array([-3.0,4.0])\n",
        "lr = 0.1\n",
        "step_num = 20\n",
        "x, x_history = gradient_descent(function_2, init_x, lr=lr, step_num=step_num)\n",
        "\n",
        "plt.plot( [-5, 5], [0,0], '--b')\n",
        "plt.plot( [0,0], [-5, 5], '--b')\n",
        "plt.plot(x_history[:,0], x_history[:,1], 'o')\n",
        "\n",
        "plt.xlim(-3.5, 3.5)\n",
        "plt.ylim(-4.5, 4.5)\n",
        "plt.xlabel(\"X0\")\n",
        "plt.ylabel(\"X1\")\n",
        "plt.show()"
      ],
      "execution_count": 24,
      "outputs": [
        {
          "output_type": "display_data",
          "data": {
            "image/png": "[encoded data removed]",
            "text/plain": [
              "<Figure size 432x288 with 1 Axes>"
            ]
          },
          "metadata": {
            "tags": [],
            "needs_background": "light"
          }
        }
      ]
    },
    {
      "cell_type": "markdown",
      "metadata": {
        "id": "YCdcNlzBckge",
        "colab_type": "text"
      },
      "source": [
        "값이 가장 낮은 장소인 원점에 점점 가까워지는 것을 볼 수 있다!"
      ]
    },
    {
      "cell_type": "code",
      "metadata": {
        "id": "MoLDR7WnbpN2",
        "colab_type": "code",
        "colab": {
          "base_uri": "https://localhost:8080/",
          "height": 390
        },
        "outputId": "094e540b-893d-412c-bc78-b81be68c8321"
      },
      "source": [
        "init_x = np.array([-3.0,4.0])\n",
        "lr = 10\n",
        "step_num = 20\n",
        "gradient_descent(function_2, init_x, lr=lr, step_num=step_num)"
      ],
      "execution_count": 25,
      "outputs": [
        {
          "output_type": "execute_result",
          "data": {
            "text/plain": [
              "(array([-2.58983747e+13, -1.29524862e+12]),\n",
              " array([[-3.00000000e+00,  4.00000000e+00],\n",
              "        [ 5.70000000e+01, -7.60000000e+01],\n",
              "        [-1.08300000e+03,  1.44400000e+03],\n",
              "        [ 2.05770000e+04, -2.74360000e+04],\n",
              "        [-3.90963008e+05,  5.21284002e+05],\n",
              "        [ 7.42829664e+06, -9.90439654e+06],\n",
              "        [-1.41137328e+08,  1.88183103e+08],\n",
              "        [ 2.68126267e+09, -3.57501690e+09],\n",
              "        [-5.09763373e+10,  6.79001831e+10],\n",
              "        [ 9.45170863e+11, -1.29524862e+12],\n",
              "        [-2.58983747e+13, -1.29524862e+12],\n",
              "        [-2.58983747e+13, -1.29524862e+12],\n",
              "        [-2.58983747e+13, -1.29524862e+12],\n",
              "        [-2.58983747e+13, -1.29524862e+12],\n",
              "        [-2.58983747e+13, -1.29524862e+12],\n",
              "        [-2.58983747e+13, -1.29524862e+12],\n",
              "        [-2.58983747e+13, -1.29524862e+12],\n",
              "        [-2.58983747e+13, -1.29524862e+12],\n",
              "        [-2.58983747e+13, -1.29524862e+12],\n",
              "        [-2.58983747e+13, -1.29524862e+12]]))"
            ]
          },
          "metadata": {
            "tags": []
          },
          "execution_count": 25
        }
      ]
    },
    {
      "cell_type": "code",
      "metadata": {
        "id": "nXPnlPiLc2vo",
        "colab_type": "code",
        "colab": {
          "base_uri": "https://localhost:8080/",
          "height": 372
        },
        "outputId": "ae3cdd69-8dce-4827-bb6c-36a16a28ca30"
      },
      "source": [
        "init_x = np.array([-3.0,4.0])\n",
        "lr = 1e-10\n",
        "step_num = 20\n",
        "gradient_descent(function_2, init_x, lr=lr, step_num=step_num)"
      ],
      "execution_count": 26,
      "outputs": [
        {
          "output_type": "execute_result",
          "data": {
            "text/plain": [
              "(array([-2.99999999,  3.99999998]), array([[-3.        ,  4.        ],\n",
              "        [-3.        ,  4.        ],\n",
              "        [-3.        ,  4.        ],\n",
              "        [-3.        ,  4.        ],\n",
              "        [-3.        ,  4.        ],\n",
              "        [-3.        ,  4.        ],\n",
              "        [-3.        ,  4.        ],\n",
              "        [-3.        ,  3.99999999],\n",
              "        [-3.        ,  3.99999999],\n",
              "        [-2.99999999,  3.99999999],\n",
              "        [-2.99999999,  3.99999999],\n",
              "        [-2.99999999,  3.99999999],\n",
              "        [-2.99999999,  3.99999999],\n",
              "        [-2.99999999,  3.99999999],\n",
              "        [-2.99999999,  3.99999999],\n",
              "        [-2.99999999,  3.99999999],\n",
              "        [-2.99999999,  3.99999999],\n",
              "        [-2.99999999,  3.99999999],\n",
              "        [-2.99999999,  3.99999999],\n",
              "        [-2.99999999,  3.99999998]]))"
            ]
          },
          "metadata": {
            "tags": []
          },
          "execution_count": 26
        }
      ]
    },
    {
      "cell_type": "markdown",
      "metadata": {
        "id": "Gz4aQbEpdnbE",
        "colab_type": "text"
      },
      "source": [
        "주의 할 부분은 학습률이 너무 크면 큰 값으로 발산하고, 너무 작으면 움직임이 거의 없이 (갱신이 되지 않고) 끝난다. \n",
        "- 하이퍼파라미터 : 학습률 같은 매개변수, 사람이 집적 정해줘야 된다. "
      ]
    },
    {
      "cell_type": "markdown",
      "metadata": {
        "id": "u6w4sPVNe9vn",
        "colab_type": "text"
      },
      "source": [
        "### 신경망에서의 기울기"
      ]
    },
    {
      "cell_type": "code",
      "metadata": {
        "id": "VZlCzsEUdk16",
        "colab_type": "code",
        "colab": {}
      },
      "source": [
        "def softmax(x):\n",
        "    if x.ndim == 2:\n",
        "        x = x.T\n",
        "        x = x - np.max(x, axis=0)\n",
        "        y = np.exp(x) / np.sum(np.exp(x), axis=0)\n",
        "        return y.T \n",
        "\n",
        "    x = x - np.max(x) # 오버플로 대책\n",
        "    return np.exp(x) / np.sum(np.exp(x))\n"
      ],
      "execution_count": 27,
      "outputs": []
    },
    {
      "cell_type": "code",
      "metadata": {
        "id": "mOD4KH5SgjAs",
        "colab_type": "code",
        "colab": {}
      },
      "source": [
        "def cross_entropy_error(y, t):\n",
        "    if y.ndim == 1:\n",
        "        t = t.reshape(1, t.size)\n",
        "        y = y.reshape(1, y.size)\n",
        "        \n",
        "    # 훈련 데이터가 원-핫 벡터라면 정답 레이블의 인덱스로 반환\n",
        "    if t.size == y.size:\n",
        "        t = t.argmax(axis=1)\n",
        "             \n",
        "    batch_size = y.shape[0]\n",
        "    return -np.sum(np.log(y[np.arange(batch_size), t] + 1e-7)) / batch_size"
      ],
      "execution_count": 28,
      "outputs": []
    },
    {
      "cell_type": "code",
      "metadata": {
        "id": "7Q30G1aLfoL6",
        "colab_type": "code",
        "colab": {}
      },
      "source": [
        "class simpleNet:\n",
        "  def __init__(self):\n",
        "    self.W = np.random.randn(2,3)\n",
        "\n",
        "  def predict(self,x):\n",
        "    return np.dot(x, self.W)\n",
        "  \n",
        "  def loss(self, x, t):\n",
        "    z = self.predict(x)\n",
        "    y = softmax(z)\n",
        "    loss = cross_entropy_error(y,t)\n",
        "\n",
        "    return loss"
      ],
      "execution_count": 29,
      "outputs": []
    },
    {
      "cell_type": "code",
      "metadata": {
        "id": "79Cei5A8gJiK",
        "colab_type": "code",
        "colab": {
          "base_uri": "https://localhost:8080/",
          "height": 52
        },
        "outputId": "173419ea-5470-4a7b-ecd5-24e1a5fbf8fa"
      },
      "source": [
        "net = simpleNet()\n",
        "print(net.W)"
      ],
      "execution_count": 30,
      "outputs": [
        {
          "output_type": "stream",
          "text": [
            "[[ 0.48614461  0.02419955  0.03584698]\n",
            " [-0.20714932  0.47172567  0.04298632]]\n"
          ],
          "name": "stdout"
        }
      ]
    },
    {
      "cell_type": "code",
      "metadata": {
        "id": "IYrKVYI-gqwo",
        "colab_type": "code",
        "colab": {
          "base_uri": "https://localhost:8080/",
          "height": 70
        },
        "outputId": "3628e89c-e6e1-4590-ec8b-bab55078c659"
      },
      "source": [
        "x = np.array([0.6,0.9])\n",
        "\n",
        "p = net.predict(x)\n",
        "print(p)\n",
        "print(np.sum(p))\n",
        "\n",
        "\n",
        "\n",
        "t = np.array([0,0,1]) # 정답 레이블 \n",
        "\n",
        "net.loss(x,t)"
      ],
      "execution_count": 32,
      "outputs": [
        {
          "output_type": "stream",
          "text": [
            "[0.10525238 0.43907284 0.06019587]\n",
            "0.6045210904139686\n"
          ],
          "name": "stdout"
        },
        {
          "output_type": "execute_result",
          "data": {
            "text/plain": [
              "1.2546837106146185"
            ]
          },
          "metadata": {
            "tags": []
          },
          "execution_count": 32
        }
      ]
    },
    {
      "cell_type": "code",
      "metadata": {
        "id": "TbX1Imklg1f-",
        "colab_type": "code",
        "colab": {}
      },
      "source": [
        ""
      ],
      "execution_count": 31,
      "outputs": []
    },
    {
      "cell_type": "code",
      "metadata": {
        "id": "JMkQE0C0qAFP",
        "colab_type": "code",
        "colab": {}
      },
      "source": [
        ""
      ],
      "execution_count": 31,
      "outputs": []
    }
  ]
}