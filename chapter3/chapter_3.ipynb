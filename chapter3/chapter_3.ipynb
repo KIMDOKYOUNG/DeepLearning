{
  "nbformat": 4,
  "nbformat_minor": 0,
  "metadata": {
    "colab": {
      "name": "chapter_3.ipynb",
      "provenance": [],
      "collapsed_sections": [],
      "authorship_tag": "ABX9TyNZCpAKG+4CFqIkRr2eFvWL",
      "include_colab_link": true
    },
    "kernelspec": {
      "name": "python3",
      "display_name": "Python 3"
    }
  },
  "cells": [
    {
      "cell_type": "markdown",
      "metadata": {
        "id": "view-in-github",
        "colab_type": "text"
      },
      "source": [
        "<a href=\"https://colab.research.google.com/github/KIMDOKYOUNG/DeepLearning/blob/master/chapter3/chapter_3.ipynb\" target=\"_parent\"><img src=\"https://colab.research.google.com/assets/colab-badge.svg\" alt=\"Open In Colab\"/></a>"
      ]
    },
    {
      "cell_type": "markdown",
      "metadata": {
        "id": "STiVgRTa93vR",
        "colab_type": "text"
      },
      "source": [
        "\n",
        "## 밑바닥부터 시작하는 딥러닝 1 뽀개기\n",
        "#### CHAPTER 3 신경망 \n",
        "#### 일자 : 2020-08-12\n",
        "\n",
        "- 가중치를 직접주는 것이 아니라 데이터로부터 자동으로 학습하는 능력이 신경망의 중요한 성질이다.\n",
        "\n",
        "- 신경망의 구조 \n",
        "  - 입력층\n",
        "  - 은닉층 \n",
        "  - 출력층\n",
        "\n",
        "- 신호를 전달하는 방법 \n",
        "1. 가중치가 곱해진 입력신호와 편향(bias)의 총합 계산\n",
        "2. 활성화 함수에 입력해 결과를 낸다.\n",
        "\n",
        "### # 활성화 함수 종류 \n",
        "- 시그모이드 함수 \n",
        "- 계단 함수\n",
        "- ReLU 함수\n"
      ]
    },
    {
      "cell_type": "code",
      "metadata": {
        "id": "aszHu1wd_-3H",
        "colab_type": "code",
        "colab": {}
      },
      "source": [
        "import numpy as np\n",
        "import matplotlib.pyplot as plt\n"
      ],
      "execution_count": 1,
      "outputs": []
    },
    {
      "cell_type": "markdown",
      "metadata": {
        "id": "FR2yi0mYBLw2",
        "colab_type": "text"
      },
      "source": [
        "#### 계단 함수 구현 \n",
        "\n",
        "0 보다 크면 1, 0보다 작으면 -1 반환하는 함수 "
      ]
    },
    {
      "cell_type": "code",
      "metadata": {
        "id": "gp-TgQ_IA1Bk",
        "colab_type": "code",
        "colab": {
          "base_uri": "https://localhost:8080/",
          "height": 34
        },
        "outputId": "57c60d85-8596-433a-a2e2-e0d990053f71"
      },
      "source": [
        "x = np.array([-1.0,1.0,2.0])\n",
        "x"
      ],
      "execution_count": 2,
      "outputs": [
        {
          "output_type": "execute_result",
          "data": {
            "text/plain": [
              "array([-1.,  1.,  2.])"
            ]
          },
          "metadata": {
            "tags": []
          },
          "execution_count": 2
        }
      ]
    },
    {
      "cell_type": "code",
      "metadata": {
        "id": "MTLsBN5GBBal",
        "colab_type": "code",
        "colab": {
          "base_uri": "https://localhost:8080/",
          "height": 34
        },
        "outputId": "b9300b27-07a8-4594-d1b5-59ec6b72172b"
      },
      "source": [
        "y = x > 0\n",
        "y "
      ],
      "execution_count": 3,
      "outputs": [
        {
          "output_type": "execute_result",
          "data": {
            "text/plain": [
              "array([False,  True,  True])"
            ]
          },
          "metadata": {
            "tags": []
          },
          "execution_count": 3
        }
      ]
    },
    {
      "cell_type": "code",
      "metadata": {
        "id": "WizFWm0yBFEq",
        "colab_type": "code",
        "colab": {
          "base_uri": "https://localhost:8080/",
          "height": 34
        },
        "outputId": "eae3de35-8869-43ec-c9d6-ae01c0dede3a"
      },
      "source": [
        "y = y.astype(np.int)\n",
        "y"
      ],
      "execution_count": 4,
      "outputs": [
        {
          "output_type": "execute_result",
          "data": {
            "text/plain": [
              "array([0, 1, 1])"
            ]
          },
          "metadata": {
            "tags": []
          },
          "execution_count": 4
        }
      ]
    },
    {
      "cell_type": "code",
      "metadata": {
        "id": "bwPpQwfkBYq6",
        "colab_type": "code",
        "colab": {}
      },
      "source": [
        "def setp_function(x):\n",
        "  return np.array(x > 0, dtype=np.int) # y.astype(np.int)와 같다"
      ],
      "execution_count": 5,
      "outputs": []
    },
    {
      "cell_type": "code",
      "metadata": {
        "id": "gT81-ovPByX5",
        "colab_type": "code",
        "colab": {
          "base_uri": "https://localhost:8080/",
          "height": 264
        },
        "outputId": "dc778b3d-339e-4488-d26d-708709b85cfb"
      },
      "source": [
        "x = np.arange(-5.0,5.0,0.1)\n",
        "y = setp_function(x)\n",
        "plt.plot(x,y)\n",
        "plt.ylim(-0.1,1.1)\n",
        "plt.show()"
      ],
      "execution_count": 6,
      "outputs": [
        {
          "output_type": "display_data",
          "data": {
            "image/png": "[encoded data removed]",
            "text/plain": [
              "<Figure size 432x288 with 1 Axes>"
            ]
          },
          "metadata": {
            "tags": [],
            "needs_background": "light"
          }
        }
      ]
    },
    {
      "cell_type": "markdown",
      "metadata": {
        "id": "s792dA2bAuCV",
        "colab_type": "text"
      },
      "source": [
        "#### 시그모이드 함수 구현 "
      ]
    },
    {
      "cell_type": "code",
      "metadata": {
        "id": "7U2mDsqR90hw",
        "colab_type": "code",
        "colab": {}
      },
      "source": [
        "def sigmoid(x):\n",
        "  return 1 / (1 + np.exp(-x))"
      ],
      "execution_count": 7,
      "outputs": []
    },
    {
      "cell_type": "code",
      "metadata": {
        "id": "Y8jDChY4_3su",
        "colab_type": "code",
        "colab": {
          "base_uri": "https://localhost:8080/",
          "height": 34
        },
        "outputId": "f5fe2973-63a2-474d-e4ca-90a86f46b9a6"
      },
      "source": [
        "x = np.array([-1.0,1.0,2.0])\n",
        "sigmoid(x)"
      ],
      "execution_count": 8,
      "outputs": [
        {
          "output_type": "execute_result",
          "data": {
            "text/plain": [
              "array([0.26894142, 0.73105858, 0.88079708])"
            ]
          },
          "metadata": {
            "tags": []
          },
          "execution_count": 8
        }
      ]
    },
    {
      "cell_type": "code",
      "metadata": {
        "id": "stzE7jqeACAh",
        "colab_type": "code",
        "colab": {
          "base_uri": "https://localhost:8080/",
          "height": 264
        },
        "outputId": "59ec8c29-66dd-4845-ac6a-3c8be7677d61"
      },
      "source": [
        "x = np.arange(-5.0,5.0,0.1)\n",
        "y = sigmoid(x)\n",
        "plt.plot(x,y)\n",
        "plt.ylim(-0.1,1.1)\n",
        "plt.show()"
      ],
      "execution_count": 9,
      "outputs": [
        {
          "output_type": "display_data",
          "data": {
            "image/png": "[encoded data removed]",
            "text/plain": [
              "<Figure size 432x288 with 1 Axes>"
            ]
          },
          "metadata": {
            "tags": [],
            "needs_background": "light"
          }
        }
      ]
    },
    {
      "cell_type": "markdown",
      "metadata": {
        "id": "VjOCiJOmCFhJ",
        "colab_type": "text"
      },
      "source": [
        "#### ReLU 함수 구현\n",
        "x가 0 보다 크면 x를 유지하고, 0 보다 작으면 0을 반환하는 활성화 함수 "
      ]
    },
    {
      "cell_type": "code",
      "metadata": {
        "id": "tkOqgj-EAiwG",
        "colab_type": "code",
        "colab": {}
      },
      "source": [
        "def relu(x):\n",
        "  return np.maximum(0,x)"
      ],
      "execution_count": 10,
      "outputs": []
    },
    {
      "cell_type": "code",
      "metadata": {
        "id": "z9eg4YPBDgHX",
        "colab_type": "code",
        "colab": {
          "base_uri": "https://localhost:8080/",
          "height": 268
        },
        "outputId": "01fb4f26-7761-4553-c164-af93be386140"
      },
      "source": [
        "x = np.arange(-5.0,5.0,0.1)\n",
        "y = relu(x)\n",
        "plt.plot(x,y)\n",
        "plt.ylim(-1,6)\n",
        "plt.show()"
      ],
      "execution_count": 11,
      "outputs": [
        {
          "output_type": "display_data",
          "data": {
            "image/png": "[encoded data removed]",
            "text/plain": [
              "<Figure size 432x288 with 1 Axes>"
            ]
          },
          "metadata": {
            "tags": [],
            "needs_background": "light"
          }
        }
      ]
    },
    {
      "cell_type": "markdown",
      "metadata": {
        "id": "2c1B3ZbjDwr8",
        "colab_type": "text"
      },
      "source": [
        "### 다차원 배열의 계산\n"
      ]
    },
    {
      "cell_type": "code",
      "metadata": {
        "id": "ICjTJHkQCT__",
        "colab_type": "code",
        "colab": {
          "base_uri": "https://localhost:8080/",
          "height": 52
        },
        "outputId": "c8d6ddd9-7624-4814-b741-a2e6d90cf09f"
      },
      "source": [
        "A = np.array([1,2,3,4])\n",
        "print(A)\n",
        "\n",
        "A.shape\n"
      ],
      "execution_count": 12,
      "outputs": [
        {
          "output_type": "stream",
          "text": [
            "[1 2 3 4]\n"
          ],
          "name": "stdout"
        },
        {
          "output_type": "execute_result",
          "data": {
            "text/plain": [
              "(4,)"
            ]
          },
          "metadata": {
            "tags": []
          },
          "execution_count": 12
        }
      ]
    },
    {
      "cell_type": "markdown",
      "metadata": {
        "id": "NmnxsmCoElZQ",
        "colab_type": "text"
      },
      "source": [
        "(1,4)의 shape을 가지고 있다. 1차원 배열이고 원소4개로 구성되어 있다는 뜻 \n"
      ]
    },
    {
      "cell_type": "code",
      "metadata": {
        "id": "R-7OPq-REi6J",
        "colab_type": "code",
        "colab": {
          "base_uri": "https://localhost:8080/",
          "height": 34
        },
        "outputId": "9ac7736a-fd3b-4a85-8d62-799956584381"
      },
      "source": [
        "A.ndim"
      ],
      "execution_count": 13,
      "outputs": [
        {
          "output_type": "execute_result",
          "data": {
            "text/plain": [
              "1"
            ]
          },
          "metadata": {
            "tags": []
          },
          "execution_count": 13
        }
      ]
    },
    {
      "cell_type": "markdown",
      "metadata": {
        "id": "MJSbukjCE3gB",
        "colab_type": "text"
      },
      "source": [
        "ndim을 통해서도 차원 수를 구할 수 있다."
      ]
    },
    {
      "cell_type": "markdown",
      "metadata": {
        "id": "wGZqQFdobiyx",
        "colab_type": "text"
      },
      "source": [
        "  "
      ]
    },
    {
      "cell_type": "markdown",
      "metadata": {
        "id": "vUOiPpf2E9v4",
        "colab_type": "text"
      },
      "source": [
        "#### 행렬의 내적(행렬 곱) "
      ]
    },
    {
      "cell_type": "code",
      "metadata": {
        "id": "HsW7VQoJE2Qi",
        "colab_type": "code",
        "colab": {
          "base_uri": "https://localhost:8080/",
          "height": 52
        },
        "outputId": "39cda66e-6ba1-4169-cec3-ab3f41751c16"
      },
      "source": [
        "A = np.array([[2,3],[4,5]])\n",
        "print(A.shape)\n",
        "B = np.array([[6,7],[8,9]])\n",
        "print(B.shape)"
      ],
      "execution_count": 14,
      "outputs": [
        {
          "output_type": "stream",
          "text": [
            "(2, 2)\n",
            "(2, 2)\n"
          ],
          "name": "stdout"
        }
      ]
    },
    {
      "cell_type": "code",
      "metadata": {
        "id": "8pGxEAkwFTGB",
        "colab_type": "code",
        "colab": {
          "base_uri": "https://localhost:8080/",
          "height": 52
        },
        "outputId": "92f04e17-5fce-4ab3-bd05-a4dae6e89537"
      },
      "source": [
        "np.dot(A,B)"
      ],
      "execution_count": 15,
      "outputs": [
        {
          "output_type": "execute_result",
          "data": {
            "text/plain": [
              "array([[36, 41],\n",
              "       [64, 73]])"
            ]
          },
          "metadata": {
            "tags": []
          },
          "execution_count": 15
        }
      ]
    },
    {
      "cell_type": "code",
      "metadata": {
        "id": "iQiFftf4FZbE",
        "colab_type": "code",
        "colab": {
          "base_uri": "https://localhost:8080/",
          "height": 52
        },
        "outputId": "c36af24d-337d-45ac-ee2d-ef17971c8e4f"
      },
      "source": [
        "np.dot(B,A)"
      ],
      "execution_count": 16,
      "outputs": [
        {
          "output_type": "execute_result",
          "data": {
            "text/plain": [
              "array([[40, 53],\n",
              "       [52, 69]])"
            ]
          },
          "metadata": {
            "tags": []
          },
          "execution_count": 16
        }
      ]
    },
    {
      "cell_type": "markdown",
      "metadata": {
        "id": "xKJ2xR6VFfKh",
        "colab_type": "text"
      },
      "source": [
        "- 내적은 원소별로 곱하고 그 값들을 더하는 것이다. \n",
        "- 원소합(matmul)이 아니므로 순서를 바꿔서 입력하면 당연히 값이 다르게 나온다. \n",
        "- 대응하는 차원의 원소 수를 일치 시켜야 된다."
      ]
    },
    {
      "cell_type": "markdown",
      "metadata": {
        "id": "SiKYoi1nkef1",
        "colab_type": "text"
      },
      "source": [
        "### 3층 신경망 신호 전달\n",
        "- 순방향 전달"
      ]
    },
    {
      "cell_type": "code",
      "metadata": {
        "id": "6AXjh05LFdNg",
        "colab_type": "code",
        "colab": {
          "base_uri": "https://localhost:8080/",
          "height": 34
        },
        "outputId": "233dd8e0-fd51-416c-db17-e91bf6194377"
      },
      "source": [
        "def identity_funtion(x):\n",
        "  return x\n",
        "\n",
        "def init_network(): # 가중치와 편향 초기화 \n",
        "  network = {}\n",
        "  network['W1'] = np.array([[0.1,0.3,0.5],[0.2,0.4,0.6]])\n",
        "  network['b1'] = np.array([0.1,0.2,0.3])\n",
        "  network['W2'] = np.array([[0.1,0.4],[0.2,0.5],[0.3,0.6]])\n",
        "  network['b2'] = np.array([0.1,0.2])\n",
        "  network['W3'] = np.array([[0.1,0.3],[0.2,0.4]])\n",
        "  network['b3'] = np.array([0.1,0.2])\n",
        "\n",
        "  return network\n",
        "\n",
        "def forward(network, x): # 입력 신호 출력 \n",
        "  W1,W2,W3 = network['W1'],network['W2'],network['W3']\n",
        "  b1,b2,b3 = network['b1'],network['b2'],network['b3']\n",
        "\n",
        "  a1 = np.dot(x,W1) +b1\n",
        "  z1 = sigmoid(a1)\n",
        "  a2 = np.dot(z1,W2) + b2\n",
        "  z2 = sigmoid(a2)\n",
        "  a3 = np.dot(z2,W3) +b3\n",
        "  y = identity_funtion(a3)\n",
        "\n",
        "  return y\n",
        "\n",
        "network = init_network()\n",
        "x = np.array([1.0,0.5])\n",
        "y = forward(network, x)\n",
        "\n",
        "print(y)\n"
      ],
      "execution_count": 21,
      "outputs": [
        {
          "output_type": "stream",
          "text": [
            "[0.31682708 0.69627909]\n"
          ],
          "name": "stdout"
        }
      ]
    },
    {
      "cell_type": "markdown",
      "metadata": {
        "id": "CMJTY82BkwW2",
        "colab_type": "text"
      },
      "source": [
        "### 출력층 설계\n",
        "- 회귀 : 항등 함수 \n",
        "- 분류 : 소프트맥스 함수 "
      ]
    },
    {
      "cell_type": "markdown",
      "metadata": {
        "id": "od4nNHvyl9jS",
        "colab_type": "text"
      },
      "source": [
        "### 소프트맥스 함수 구현 "
      ]
    },
    {
      "cell_type": "code",
      "metadata": {
        "id": "kzhtRqPPjckf",
        "colab_type": "code",
        "colab": {}
      },
      "source": [
        "def softmax(a):\n",
        "  exp = np.exp(a)\n",
        "  all_exp = np.sum(exp)\n",
        "  return exp/all_exp\n"
      ],
      "execution_count": 22,
      "outputs": []
    },
    {
      "cell_type": "code",
      "metadata": {
        "id": "dnJhl5JBliWV",
        "colab_type": "code",
        "colab": {
          "base_uri": "https://localhost:8080/",
          "height": 34
        },
        "outputId": "6240de89-d20c-4475-c405-74fc7fe54f3b"
      },
      "source": [
        "x = np.array([0.2,2.6,1.7])\n",
        "softmax(x)"
      ],
      "execution_count": 24,
      "outputs": [
        {
          "output_type": "execute_result",
          "data": {
            "text/plain": [
              "array([0.06058819, 0.66787436, 0.27153745])"
            ]
          },
          "metadata": {
            "tags": []
          },
          "execution_count": 24
        }
      ]
    },
    {
      "cell_type": "markdown",
      "metadata": {
        "id": "s5vYO9sqm41f",
        "colab_type": "text"
      },
      "source": [
        "그치만 위처럼 구현을 하면 큰값끼리 나눗셈을 하면 오버플로가 발생(너무 큰값을 표현 할 수 없다)\n",
        "\n",
        "입력 신호 중 최댓 값을 사용해서 오버플로를 막을 수 있다. "
      ]
    },
    {
      "cell_type": "code",
      "metadata": {
        "id": "RX-5i5VHlocO",
        "colab_type": "code",
        "colab": {}
      },
      "source": [
        "def softmax(a):\n",
        "  max_num = np.max(a)\n",
        "  exp = np.exp(a - max_num)\n",
        "  all_exp = np.sum(exp)\n",
        "  return  exp / all_exp"
      ],
      "execution_count": 42,
      "outputs": []
    },
    {
      "cell_type": "code",
      "metadata": {
        "id": "mGvmNYoKnyGD",
        "colab_type": "code",
        "colab": {
          "base_uri": "https://localhost:8080/",
          "height": 105
        },
        "outputId": "c0453a38-fb57-4933-cfef-1561dc5094ee"
      },
      "source": [
        "x = np.array([1000,1004,900])\n",
        "softmax(x)"
      ],
      "execution_count": 39,
      "outputs": [
        {
          "output_type": "stream",
          "text": [
            "/usr/local/lib/python3.6/dist-packages/ipykernel_launcher.py:2: RuntimeWarning: overflow encountered in exp\n",
            "  \n",
            "/usr/local/lib/python3.6/dist-packages/ipykernel_launcher.py:5: RuntimeWarning: invalid value encountered in true_divide\n",
            "  \"\"\"\n"
          ],
          "name": "stderr"
        },
        {
          "output_type": "execute_result",
          "data": {
            "text/plain": [
              "array([nan, nan, nan])"
            ]
          },
          "metadata": {
            "tags": []
          },
          "execution_count": 39
        }
      ]
    },
    {
      "cell_type": "code",
      "metadata": {
        "id": "iE2uk69un1IK",
        "colab_type": "code",
        "colab": {
          "base_uri": "https://localhost:8080/",
          "height": 34
        },
        "outputId": "910fd8ae-828c-4ade-978e-52b5df5882df"
      },
      "source": [
        "x = np.array([1000,1004,900])\n",
        "y = softmax(x)\n",
        "y"
      ],
      "execution_count": 45,
      "outputs": [
        {
          "output_type": "execute_result",
          "data": {
            "text/plain": [
              "array([1.79862100e-02, 9.82013790e-01, 6.69100676e-46])"
            ]
          },
          "metadata": {
            "tags": []
          },
          "execution_count": 45
        }
      ]
    },
    {
      "cell_type": "code",
      "metadata": {
        "id": "xLkmT2A2oBj9",
        "colab_type": "code",
        "colab": {
          "base_uri": "https://localhost:8080/",
          "height": 34
        },
        "outputId": "b96ffd89-0233-4b9c-cc51-8d3f0b7470ec"
      },
      "source": [
        "np.sum(y)"
      ],
      "execution_count": 46,
      "outputs": [
        {
          "output_type": "execute_result",
          "data": {
            "text/plain": [
              "1.0"
            ]
          },
          "metadata": {
            "tags": []
          },
          "execution_count": 46
        }
      ]
    },
    {
      "cell_type": "markdown",
      "metadata": {
        "id": "EOVYS2Yeqbiv",
        "colab_type": "text"
      },
      "source": [
        "- 입력 신호 중 최댓값을 빼주고 계산을 했더니 오버플로가 발생하지 않아 값이 제대로 나오는 것을 볼 수 있다. \n",
        "- 출력층의 뉴런 수는 분류하고 싶은 클래스의 수로 한다. "
      ]
    },
    {
      "cell_type": "code",
      "metadata": {
        "id": "u_V9MnJTpnR5",
        "colab_type": "code",
        "colab": {}
      },
      "source": [
        ""
      ],
      "execution_count": null,
      "outputs": []
    }
  ]
}