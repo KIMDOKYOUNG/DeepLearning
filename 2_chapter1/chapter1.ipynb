{
  "nbformat": 4,
  "nbformat_minor": 0,
  "metadata": {
    "colab": {
      "name": "chapter1.ipynb",
      "provenance": [],
      "authorship_tag": "ABX9TyONO6Thctov82wBqo6ruLao",
      "include_colab_link": true
    },
    "kernelspec": {
      "name": "python3",
      "display_name": "Python 3"
    }
  },
  "cells": [
    {
      "cell_type": "markdown",
      "metadata": {
        "id": "view-in-github",
        "colab_type": "text"
      },
      "source": [
        "<a href=\"https://colab.research.google.com/github/KIMDOKYOUNG/DeepLearning/blob/master/2_chapter1/chapter1.ipynb\" target=\"_parent\"><img src=\"https://colab.research.google.com/assets/colab-badge.svg\" alt=\"Open In Colab\"/></a>"
      ]
    },
    {
      "cell_type": "markdown",
      "metadata": {
        "id": "phnn3tt5ygx5",
        "colab_type": "text"
      },
      "source": [
        "\n",
        "## 밑바닥부터 시작하는 딥러닝 2 뽀개기\n",
        "#### CHAPTER 1 신경망 복습\n",
        "#### 일자 : 2020-08-25"
      ]
    },
    {
      "cell_type": "markdown",
      "metadata": {
        "id": "3KXSq7p-y_q_",
        "colab_type": "text"
      },
      "source": [
        "- 벡터의 내적과 행렬의 곱 \n"
      ]
    },
    {
      "cell_type": "code",
      "metadata": {
        "id": "sCkAt0n9tXrq",
        "colab_type": "code",
        "colab": {}
      },
      "source": [
        "import numpy as np"
      ],
      "execution_count": 1,
      "outputs": []
    },
    {
      "cell_type": "code",
      "metadata": {
        "id": "VWDFlQOZtgA0",
        "colab_type": "code",
        "colab": {
          "base_uri": "https://localhost:8080/",
          "height": 34
        },
        "outputId": "bc3d3a0e-f76e-41f6-b7da-ec6d01880a41"
      },
      "source": [
        "a = np.array([1,2,3])\n",
        "b = np.array([4,5,6])\n",
        "\n",
        "np.matmul(a,b)"
      ],
      "execution_count": 3,
      "outputs": [
        {
          "output_type": "execute_result",
          "data": {
            "text/plain": [
              "32"
            ]
          },
          "metadata": {
            "tags": []
          },
          "execution_count": 3
        }
      ]
    },
    {
      "cell_type": "code",
      "metadata": {
        "id": "xM6SpKXDtqBA",
        "colab_type": "code",
        "colab": {
          "base_uri": "https://localhost:8080/",
          "height": 123
        },
        "outputId": "ef2c142b-8247-482a-eecf-1a2527e6a308"
      },
      "source": [
        "a = np.array([[1,2,],[3,4]])\n",
        "b = np.array([[5,6],[7,8]])\n",
        "\n",
        "print(a)\n",
        "print(b)\n",
        "\n",
        "np.matmul(a,b)"
      ],
      "execution_count": 5,
      "outputs": [
        {
          "output_type": "stream",
          "text": [
            "[[1 2]\n",
            " [3 4]]\n",
            "[[5 6]\n",
            " [7 8]]\n"
          ],
          "name": "stdout"
        },
        {
          "output_type": "execute_result",
          "data": {
            "text/plain": [
              "array([[19, 22],\n",
              "       [43, 50]])"
            ]
          },
          "metadata": {
            "tags": []
          },
          "execution_count": 5
        }
      ]
    },
    {
      "cell_type": "code",
      "metadata": {
        "id": "TziKnn33t3O3",
        "colab_type": "code",
        "colab": {
          "base_uri": "https://localhost:8080/",
          "height": 52
        },
        "outputId": "410cb6eb-4900-4220-e02f-37bea837b3ce"
      },
      "source": [
        "np.dot(a,b)"
      ],
      "execution_count": 6,
      "outputs": [
        {
          "output_type": "execute_result",
          "data": {
            "text/plain": [
              "array([[19, 22],\n",
              "       [43, 50]])"
            ]
          },
          "metadata": {
            "tags": []
          },
          "execution_count": 6
        }
      ]
    },
    {
      "cell_type": "markdown",
      "metadata": {
        "id": "y5PyBPwXyYuu",
        "colab_type": "text"
      },
      "source": [
        "- 2차원 데이터에 대해서는 matmul이 dot과 같은 역할을 한다. "
      ]
    },
    {
      "cell_type": "markdown",
      "metadata": {
        "id": "Zy_E4hYWzHY8",
        "colab_type": "text"
      },
      "source": [
        "## 비선형 함수 \n",
        "- 신경망에 비선형 효과를 부여한다.\n",
        "- 신경망의 자유도를 높이는 것 \n",
        "\n",
        "### 시그모이드 함수 \n",
        "\n",
        "$$ \\sigma \\left ( x\\right ) = \\frac{1}{1+\\exp(-x)}$$\n",
        "\n",
        "- 임의의 실수를 입력받아 0에서 1사이의 실수를 출력한다. \n"
      ]
    },
    {
      "cell_type": "code",
      "metadata": {
        "id": "0Ha303lPyXR2",
        "colab_type": "code",
        "colab": {}
      },
      "source": [
        "def sigmoid(x):\n",
        "  return 1/ (1+np.exp(-x))"
      ],
      "execution_count": 7,
      "outputs": []
    },
    {
      "cell_type": "code",
      "metadata": {
        "id": "w38UbZP80Srv",
        "colab_type": "code",
        "colab": {}
      },
      "source": [
        "W1 = np.random.randn(2,4)\n",
        "b1 = np.random.randn(4)\n",
        "x = np.random.randn(10,2)\n",
        "h = np.matmul(x,W1) + b1"
      ],
      "execution_count": 8,
      "outputs": []
    },
    {
      "cell_type": "code",
      "metadata": {
        "id": "5E7aiS0l0nBF",
        "colab_type": "code",
        "colab": {}
      },
      "source": [
        "output = sigmoid(h)"
      ],
      "execution_count": 9,
      "outputs": []
    },
    {
      "cell_type": "code",
      "metadata": {
        "id": "8PulbzwX0rMf",
        "colab_type": "code",
        "colab": {
          "base_uri": "https://localhost:8080/",
          "height": 194
        },
        "outputId": "9b1c4c60-98db-4000-c669-ab75956adda2"
      },
      "source": [
        "print(output)"
      ],
      "execution_count": 10,
      "outputs": [
        {
          "output_type": "stream",
          "text": [
            "[[0.53185402 0.19895101 0.29233301 0.56424588]\n",
            " [0.23013413 0.81625094 0.28827955 0.43487476]\n",
            " [0.23017992 0.38885546 0.26676329 0.48020772]\n",
            " [0.52272234 0.96068853 0.34628676 0.45513601]\n",
            " [0.81215876 0.96868073 0.39216041 0.51355015]\n",
            " [0.15115641 0.22711049 0.24539949 0.47419785]\n",
            " [0.35194018 0.85872193 0.30866615 0.45511234]\n",
            " [0.22279856 0.9338767  0.30038781 0.40647176]\n",
            " [0.80154868 0.96243383 0.38751263 0.514799  ]\n",
            " [0.10422314 0.2475268  0.23610769 0.45181202]]\n"
          ],
          "name": "stdout"
        }
      ]
    },
    {
      "cell_type": "markdown",
      "metadata": {
        "id": "o6nsfkM11Xzk",
        "colab_type": "text"
      },
      "source": [
        "- 노드수 : 2 => 4 \n",
        "- 입력 10개 배치의 2차원 데이터\n",
        "- 출력 10개 배치의 4차원 데이터 "
      ]
    },
    {
      "cell_type": "code",
      "metadata": {
        "id": "TSaygb_L0sUb",
        "colab_type": "code",
        "colab": {}
      },
      "source": [
        "x = np.random.randn(10,2)\n",
        "W1 = np.random.randn(2,4)\n",
        "b1 = np.random.randn(4)\n",
        "W2 = np.random.randn(4,3)\n",
        "b2 = np.random.randn(3)\n",
        "\n",
        "h = np.matmul(x,W1) + b1\n",
        "a = sigmoid(h)\n",
        "output = np.matmul(a,W2) + b2"
      ],
      "execution_count": 11,
      "outputs": []
    },
    {
      "cell_type": "code",
      "metadata": {
        "id": "doCWLVh-1TyN",
        "colab_type": "code",
        "colab": {
          "base_uri": "https://localhost:8080/",
          "height": 194
        },
        "outputId": "ecb11d1a-05ca-4aac-c525-12ec8bd2fcb8"
      },
      "source": [
        "print(output)"
      ],
      "execution_count": 12,
      "outputs": [
        {
          "output_type": "stream",
          "text": [
            "[[ 0.23938669 -1.82207795  0.98890554]\n",
            " [ 0.41120979 -1.3930307   1.87736178]\n",
            " [-0.24725362 -1.6605354   0.77304615]\n",
            " [-0.0205585  -1.73930299  0.8499586 ]\n",
            " [ 0.58809847 -1.36624429  1.97719851]\n",
            " [-0.07404465 -2.06969896  0.05245975]\n",
            " [-0.73375689 -2.1083764  -0.2974667 ]\n",
            " [-0.56520448 -2.12304472 -0.41698074]\n",
            " [-0.00632352 -2.10671868  0.06482201]\n",
            " [ 0.63082719 -1.74514356  1.53702914]]\n"
          ],
          "name": "stdout"
        }
      ]
    },
    {
      "cell_type": "markdown",
      "metadata": {
        "id": "xyON-B5L1qwZ",
        "colab_type": "text"
      },
      "source": [
        "- 노드수 : 2 => 4 => 3\n",
        "- 입력 : 2차원 데이터 10개 \n",
        "- 히든 레이어 : 4차원\n",
        "- 출력 : 3차원 데이터 10개 "
      ]
    },
    {
      "cell_type": "markdown",
      "metadata": {
        "id": "YHCwY-1l2Q5p",
        "colab_type": "text"
      },
      "source": [
        "## 계층으로 클래스화 및 순전파 구현 "
      ]
    },
    {
      "cell_type": "code",
      "metadata": {
        "id": "hJw8aile1UwM",
        "colab_type": "code",
        "colab": {}
      },
      "source": [
        "class Sigmoid:\n",
        "  def __init__(self):\n",
        "    self.params = []\n",
        "  \n",
        "  def forward(self, x):\n",
        "    return 1 /(1 +np.exp(-x))\n",
        "\n",
        "class Affine : \n",
        "  def __init__(self,W,b):\n",
        "    self.params = [W,b]\n",
        "  \n",
        "  def forward(self, x):\n",
        "    W,b = self.params\n",
        "    out = np.matmul(x,W) + b\n",
        "    return out \n",
        "  "
      ],
      "execution_count": 13,
      "outputs": []
    },
    {
      "cell_type": "code",
      "metadata": {
        "id": "aZHClTeI21wc",
        "colab_type": "code",
        "colab": {}
      },
      "source": [
        "class TwoLayerNet:\n",
        "  def __init__(self,input_size, hidden_size, output_size):\n",
        "    I,H,O = input_size, hidden_size, output_size\n",
        "    \n",
        "    # 가중치와 편향 초기화 \n",
        "    W1 = np.random.randn(I,H)\n",
        "    b1 = np.random.randn(H)\n",
        "    W2 = np.random.randn(H,O)\n",
        "    b2 = np.random.randn(O)\n",
        "\n",
        "    self.layers = [Affine(W1,b1), Sigmoid(), Affine(W2,b2)]\n",
        "\n",
        "    self.params = []\n",
        "    for layer in self.layers:\n",
        "      self.params += layer.params\n",
        "    \n",
        "  def predict(self, x):\n",
        "    for layer in self.layers:\n",
        "      x = layer.forward(x)\n",
        "    return x\n",
        "  \n"
      ],
      "execution_count": 14,
      "outputs": []
    },
    {
      "cell_type": "markdown",
      "metadata": {
        "id": "kVyZjbAV4pDt",
        "colab_type": "text"
      },
      "source": [
        "- params에 모든 학습 매개변수를 저장한다.\n",
        "- 파이썬의 + 연산자는 리스트들을 결합시켜준다. \n"
      ]
    },
    {
      "cell_type": "code",
      "metadata": {
        "id": "XL601V1u4ggC",
        "colab_type": "code",
        "colab": {
          "base_uri": "https://localhost:8080/",
          "height": 34
        },
        "outputId": "6109a818-eec3-433c-dc35-004d71e4e50c"
      },
      "source": [
        "a = [1,2]\n",
        "a += [3,4]\n",
        "print(a)"
      ],
      "execution_count": 15,
      "outputs": [
        {
          "output_type": "stream",
          "text": [
            "[1, 2, 3, 4]\n"
          ],
          "name": "stdout"
        }
      ]
    },
    {
      "cell_type": "code",
      "metadata": {
        "id": "qPEt1Yn8429X",
        "colab_type": "code",
        "colab": {}
      },
      "source": [
        "x = np.random.randn(10,2)\n",
        "model = TwoLayerNet(2,4,3)\n",
        "s = model.predict(x)"
      ],
      "execution_count": 16,
      "outputs": []
    },
    {
      "cell_type": "code",
      "metadata": {
        "id": "lCevHTtD5DoL",
        "colab_type": "code",
        "colab": {
          "base_uri": "https://localhost:8080/",
          "height": 194
        },
        "outputId": "1ff7558b-b71c-46dd-8752-461dbce4871b"
      },
      "source": [
        "print(s)"
      ],
      "execution_count": 17,
      "outputs": [
        {
          "output_type": "stream",
          "text": [
            "[[-2.97257757  2.09269337 -0.3765415 ]\n",
            " [-2.56231852  2.32346041 -1.32429687]\n",
            " [-2.38870751  2.12033145 -1.09396719]\n",
            " [-2.37425863  1.81588165 -0.47214207]\n",
            " [-3.08361461  2.40652617 -0.48751534]\n",
            " [-1.42177968  1.08662874 -0.32676396]\n",
            " [-3.01975119  2.12762608 -0.33957989]\n",
            " [-1.52579144  1.33521668 -0.57498497]\n",
            " [-2.47440893  2.28358962 -1.33386889]\n",
            " [-1.71333153  1.35007089 -0.30199035]]\n"
          ],
          "name": "stdout"
        }
      ]
    },
    {
      "cell_type": "markdown",
      "metadata": {
        "id": "Ke9KS1ZO5kT5",
        "colab_type": "text"
      },
      "source": [
        "## 신경망의 학습\n",
        "\n",
        "### 손실함수 \n",
        "- 다중 클래스 분류 신경망에선 교차 엔트로피 오차를 이용한다. \n",
        "  - 각 클래스의 확률과 정답 레이블을 이용해 구할 수 있다. "
      ]
    },
    {
      "cell_type": "code",
      "metadata": {
        "id": "rZND6HJ08EtI",
        "colab_type": "code",
        "colab": {}
      },
      "source": [
        "def softmax(a):\n",
        "  c = np.max(a)\n",
        "  exp_a = np.exp(a - c)# 오버플로 대책\n",
        "  sum_exp_a = np.sum(exp_a)\n",
        "  y = exp_a / sum_exp_a\n",
        "\n",
        "  return y "
      ],
      "execution_count": 19,
      "outputs": []
    },
    {
      "cell_type": "code",
      "metadata": {
        "id": "Tdc04B245Ei5",
        "colab_type": "code",
        "colab": {}
      },
      "source": [
        "def cross_entropy_error(y,t):\n",
        "  if y.ndim == 1:\n",
        "    t = t.reshape(1, t.size)\n",
        "    y = y.reshape(1, y.size)\n",
        "\n",
        "  batch_size = y.shape[0]\n",
        "\n",
        "  return -np.sum(t*np.log(y)) / batch_size"
      ],
      "execution_count": 18,
      "outputs": []
    },
    {
      "cell_type": "markdown",
      "metadata": {
        "id": "gTus9UZu91Xd",
        "colab_type": "text"
      },
      "source": [
        "## 계산 그래프 \n",
        "- 덧셈 노드 \n",
        "  - 역전파 : 하류로 상류의 값에 1을 곱한 값을 흘린다. \n",
        "- 곱셈 노드 \n",
        "  - 역전파 : 상류로부터 받은 기울기에 순전파 시 입력을 서로 바꾼 값을 곱한다. \n",
        "- 분기 노드\n",
        "  - 단순히 선이 두개로 나뉘어지는 것 \n",
        "  - 같은 값이 복제되어 분기된다. x => x,x\n",
        "  - 역전파 : 상류에서 온 기울기들의 합 \n",
        "- repeat 노드 \n",
        "  - N개로의 분기 \n",
        "  - 역전파 : n개의 기울기를 모두 더해서 구한다\n"
      ]
    },
    {
      "cell_type": "code",
      "metadata": {
        "id": "uC2zPgbQ7qQa",
        "colab_type": "code",
        "colab": {}
      },
      "source": [
        "D , N = 4,5 # 길이가 D, N개로 복제 \n",
        "\n",
        "x = np.random.randn(1,D) # 입력\n",
        "y = np.repeat(x, N, axis = 0) # 순전파 \n",
        "\n",
        "dy = np.random.randn(N,D) # 무작위 기울기 \n",
        "dx = np.sum(dy,axis = 0, keepdims = True) # 2차원 배열의 차원수를 유지한다. "
      ],
      "execution_count": 20,
      "outputs": []
    },
    {
      "cell_type": "code",
      "metadata": {
        "id": "ebESQjGX_TEY",
        "colab_type": "code",
        "colab": {
          "base_uri": "https://localhost:8080/",
          "height": 230
        },
        "outputId": "b7de0fa8-3b53-4db3-daff-a4980e6c18d1"
      },
      "source": [
        "print(x)\n",
        "print(y)\n",
        "print(dy)\n",
        "print(dx)"
      ],
      "execution_count": 23,
      "outputs": [
        {
          "output_type": "stream",
          "text": [
            "[[-0.26956309 -0.96651419  0.00397626  0.60498015]]\n",
            "[[-0.26956309 -0.96651419  0.00397626  0.60498015]\n",
            " [-0.26956309 -0.96651419  0.00397626  0.60498015]\n",
            " [-0.26956309 -0.96651419  0.00397626  0.60498015]\n",
            " [-0.26956309 -0.96651419  0.00397626  0.60498015]\n",
            " [-0.26956309 -0.96651419  0.00397626  0.60498015]]\n",
            "[[-0.76611616  0.53346581 -0.4970544  -0.7906332 ]\n",
            " [-1.24291929 -0.44431252  0.70441559 -2.2578304 ]\n",
            " [ 1.98347052 -0.45476657 -1.39410258 -2.13197922]\n",
            " [-0.2131303  -0.18997188  0.82229844 -0.67770857]\n",
            " [-0.25981616  0.34441188 -0.48779967 -1.16462387]]\n",
            "[[-0.49851139 -0.21117327 -0.85224262 -7.02277526]]\n"
          ],
          "name": "stdout"
        }
      ]
    },
    {
      "cell_type": "markdown",
      "metadata": {
        "id": "nbDALfkw_6Xd",
        "colab_type": "text"
      },
      "source": [
        "- sum 노드 (범용 덧셈 노드) \n",
        "  - repeat 노드와 정반대 "
      ]
    },
    {
      "cell_type": "code",
      "metadata": {
        "id": "DFsjiRO1_Uaf",
        "colab_type": "code",
        "colab": {}
      },
      "source": [
        "D , N = 4,5 # 길이가 D, N개로 복제 \n",
        "\n",
        "x = np.random.randn(N,D) # 입력\n",
        "y = np.sum(x,axis = 0, keepdims = True) # 순전파,  2차원 배열의 차원수를 유지한다. \n",
        "\n",
        "\n",
        "dy = np.random.randn(1,D) # 무작위 기울기 \n",
        "dx = np.repeat(dy,N, axis = 0) # 역전파 \n"
      ],
      "execution_count": 24,
      "outputs": []
    },
    {
      "cell_type": "code",
      "metadata": {
        "id": "u15pSyP2AV0d",
        "colab_type": "code",
        "colab": {
          "base_uri": "https://localhost:8080/",
          "height": 230
        },
        "outputId": "4c1187ea-1a44-45f8-c36f-f9421e4621b5"
      },
      "source": [
        "print(x)\n",
        "print(y)\n",
        "print(dy)\n",
        "print(dx)"
      ],
      "execution_count": 25,
      "outputs": [
        {
          "output_type": "stream",
          "text": [
            "[[ 0.6814466  -0.29621529 -0.87860126  1.33296459]\n",
            " [-0.65608012 -0.85367264 -1.07821542 -0.1630414 ]\n",
            " [ 0.54806439  0.92722317  0.48491348 -1.63345536]\n",
            " [ 1.06009132  1.22516834 -0.70910709  1.35213175]\n",
            " [-1.28639792  1.60237075  0.68543966 -0.30839567]]\n",
            "[[ 0.34712426  2.60487433 -1.49557063  0.5802039 ]]\n",
            "[[-0.85702726 -1.21430886  0.66709139 -1.57436018]]\n",
            "[[-0.85702726 -1.21430886  0.66709139 -1.57436018]\n",
            " [-0.85702726 -1.21430886  0.66709139 -1.57436018]\n",
            " [-0.85702726 -1.21430886  0.66709139 -1.57436018]\n",
            " [-0.85702726 -1.21430886  0.66709139 -1.57436018]\n",
            " [-0.85702726 -1.21430886  0.66709139 -1.57436018]]\n"
          ],
          "name": "stdout"
        }
      ]
    },
    {
      "cell_type": "markdown",
      "metadata": {
        "id": "g1_-qvxyFrt3",
        "colab_type": "text"
      },
      "source": [
        "- MatMul 노드 \n",
        "\n",
        "  $y = xW$를 사용해서 MatMul 노드를 설명해볼께요!\n",
        "  - x.shape = (1*D)\n",
        "  - W.shape = (D *H)\n",
        "  - y.shape = (1*H)\n",
        "  - x의 i번째 원소에 대한 미분 $\\frac{\\partial L}{\\partial x_i}$는 다음과 같다.\n",
        "  $$\\frac{\\partial L}{\\partial  x_i}  = \\sum_{j}\\frac{\\partial L}{\\partial y_i}\\frac{\\partial y_i}{\\partial x_i}$$\n",
        "  - $\\frac{\\partial L}{\\partial x_i}$은 $x_i$를 조금 변화 시켰을때 $L$이 얼마나 변할 것인가라는 변화의정도를 나타낸다. \n",
        "  - $x_i$에서 $L$에 이르는 연쇄 법칙의 경로는 여러개가 있고, 그 총합은  $\\frac{\\partial L}{\\partial x_i}$이 된다. \n",
        "  - 곱셈 노드의 경우에 따라 $\\frac{\\partial L}{\\partial x_i} = W_{ij}$가 성립하므로 다음과 같아진다.\n",
        "    $$\\frac{\\partial L}{\\partial  x_i}  = \\sum_{j}\\frac{\\partial L}{\\partial y_i}\\frac{\\partial y_i}{\\partial x_i} = \\sum_{j}\\frac{\\partial L}{\\partial y_i}W_{ij}$$\n",
        "  - $\\frac{\\partial L}{\\partial  x_i}$는 벡터 $\\frac{\\partial L}{\\partial y_i}$과 $W$의 $i$행 벡터의 내적으로 구해짐을 알 수 있다. 그러므로 다음 관계식을 유도할 수 있다.\n",
        "  $$\\frac{\\partial L}{\\partial  x}  =\\frac{\\partial L}{\\partial  y}W^T$$ \n",
        "  - $\\frac{\\partial L}{\\partial  x} $는 행렬의 곱을 사용해 단번에 구할 수 있다.\n",
        "\n",
        "\n",
        "  - x에 N개의 데이터가 담겨 있다면 \n",
        "    - x.shape = (N*D)\n",
        "    - W.shape = (D *H)\n",
        "    - y.shape = (N*H)\n",
        "    - 역전파 식은 아래와 같다\n",
        "   $$\\frac{\\partial L}{\\partial  x}   \\quad =  \\quad \\frac{\\partial L}{\\partial  y} \\qquad W^T$$ \n",
        "  $$$$\n",
        "  $$ N*D  \\qquad N*H  \\qquad H*D$$\n",
        "  $$$$\n",
        "  $$\\frac{\\partial L}{\\partial  W}   \\quad =  \\quad  X^T  \\quad \\frac{\\partial L}{\\partial  y} $$ \n",
        "  $$$$\n",
        "  $$ D*H  \\qquad D*N  \\qquad N*H$$\n",
        "  "
      ]
    },
    {
      "cell_type": "code",
      "metadata": {
        "id": "CbZe1EZBAXY0",
        "colab_type": "code",
        "colab": {}
      },
      "source": [
        "-class MatMul:\n",
        "  def __init__(self,W):\n",
        "    self.params = [W]\n",
        "    self.grads = [np.zeros_like(W)]\n",
        "    self.x = None\n",
        "  \n",
        "  def forward(self,x):\n",
        "    W, = self.params\n",
        "    out = np.matmul(x,W)\n",
        "    self.x = x\n",
        "\n",
        "    return out\n",
        "\n",
        "  def backward(self, dout):\n",
        "    W, = self.params\n",
        "    dx = np.matmul(dout,W.T)\n",
        "    dW = np.matmul(self.x.T, dout)\n",
        "    self.grads[0][...] = dW # 깊은 복사 \n",
        "\n",
        "    return dx"
      ],
      "execution_count": 26,
      "outputs": []
    },
    {
      "cell_type": "markdown",
      "metadata": {
        "id": "sUY27pqAH9GO",
        "colab_type": "text"
      },
      "source": [
        "- Sigmoid 계층\n",
        "\n",
        "$$ y = \\frac{1}{1+\\exp(-x)}$$\n",
        "\n",
        "$$ \\frac{\\partial L}{\\partial y} y\t\\left (1-y \\right )$$\n"
      ]
    },
    {
      "cell_type": "code",
      "metadata": {
        "id": "7vQCpRklG8S5",
        "colab_type": "code",
        "colab": {}
      },
      "source": [
        "class Sigmoid:\n",
        "  def __init__(self):\n",
        "    self.params, self.grads = [],[]\n",
        "    self.out = None\n",
        "  \n",
        "  def forward(self,x):\n",
        "    out = 1/ (1 + np.exp(-x))\n",
        "    self.out = out\n",
        "    return out\n",
        "\n",
        "  def backward(self,dout):\n",
        "    dx = dout * (1.0- self.out) * self.out\n",
        "    return dx"
      ],
      "execution_count": 27,
      "outputs": []
    },
    {
      "cell_type": "code",
      "metadata": {
        "id": "TyPzWDiJIrJS",
        "colab_type": "code",
        "colab": {}
      },
      "source": [
        ""
      ],
      "execution_count": null,
      "outputs": []
    }
  ]
}