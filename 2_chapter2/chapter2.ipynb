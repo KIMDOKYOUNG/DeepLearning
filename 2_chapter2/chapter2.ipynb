{
  "nbformat": 4,
  "nbformat_minor": 0,
  "metadata": {
    "colab": {
      "name": "chapter2.ipynb",
      "provenance": [],
      "collapsed_sections": [],
      "authorship_tag": "ABX9TyOfquNy1cUfgujCRLzfZwZz",
      "include_colab_link": true
    },
    "kernelspec": {
      "name": "python3",
      "display_name": "Python 3"
    }
  },
  "cells": [
    {
      "cell_type": "markdown",
      "metadata": {
        "id": "view-in-github",
        "colab_type": "text"
      },
      "source": [
        "<a href=\"https://colab.research.google.com/github/KIMDOKYOUNG/DeepLearning/blob/master/2_chapter2/chapter2.ipynb\" target=\"_parent\"><img src=\"https://colab.research.google.com/assets/colab-badge.svg\" alt=\"Open In Colab\"/></a>"
      ]
    },
    {
      "cell_type": "markdown",
      "metadata": {
        "id": "zpMzLKtmhE75",
        "colab_type": "text"
      },
      "source": [
        "\n",
        "## 밑바닥부터 시작하는 딥러닝 2 뽀개기\n",
        "#### CHAPTER 2 자연어와 단어의 분산 표현\n",
        "#### 일자 : 2020-08-25\n",
        "\n",
        "\n",
        "- 시소러스?\n",
        "  - 유의어 사전\n",
        "  - 뜻이 같은 단어(동의어)와 뜻이 비슷한 단어(유의어)가 한 그룹으로 분류되어 있다.\n",
        "  - 가장 유명한 시소러스 : WordNet\n",
        "  - 문제점 \n",
        "    - 신조어가 계속 생긴다\n",
        "    - 사람을 쓴느 비용이 크다\n",
        "    - 단어의 미묘한 차이를 표현할 수 없다.\n",
        "\n",
        "- 시소러스가 가지고 있는 문제를 해결하기 위해선! \n",
        "  - 통계 기반 기법\n",
        "  - 신경망을 사용한 추론 기반 기법\n"
      ]
    },
    {
      "cell_type": "markdown",
      "metadata": {
        "id": "ZhdaJzPEiYga",
        "colab_type": "text"
      },
      "source": [
        "\n",
        "## 통계 기반 기법 \n",
        "### corpus(말뭉치) 전처리하기\n"
      ]
    },
    {
      "cell_type": "code",
      "metadata": {
        "id": "yau2XGZUntFD",
        "colab_type": "code",
        "colab": {}
      },
      "source": [
        "import numpy as np"
      ],
      "execution_count": 1,
      "outputs": []
    },
    {
      "cell_type": "code",
      "metadata": {
        "id": "8TfCxgbtg_2w",
        "colab_type": "code",
        "colab": {
          "base_uri": "https://localhost:8080/",
          "height": 34
        },
        "outputId": "d76bd9f9-5cce-4f7e-c702-c96c730b21f3"
      },
      "source": [
        "text = '안녕하세요 한림대학교에 재학중인 김도경입니다. 열심히 공부하고 있어요.'\n",
        "text.lower()# 영어일 경우 \n",
        "text = text.replace('.',' .')\n",
        "text"
      ],
      "execution_count": 2,
      "outputs": [
        {
          "output_type": "execute_result",
          "data": {
            "application/vnd.google.colaboratory.intrinsic+json": {
              "type": "string"
            },
            "text/plain": [
              "'안녕하세요 한림대학교에 재학중인 김도경입니다 . 열심히 공부하고 있어요 .'"
            ]
          },
          "metadata": {
            "tags": []
          },
          "execution_count": 2
        }
      ]
    },
    {
      "cell_type": "code",
      "metadata": {
        "id": "jeZPdsa8jlaq",
        "colab_type": "code",
        "colab": {
          "base_uri": "https://localhost:8080/",
          "height": 34
        },
        "outputId": "c03586d7-d41f-48bf-e6e8-1ca54fbb459e"
      },
      "source": [
        "words = text.split(' ')\n",
        "words"
      ],
      "execution_count": 3,
      "outputs": [
        {
          "output_type": "execute_result",
          "data": {
            "text/plain": [
              "['안녕하세요', '한림대학교에', '재학중인', '김도경입니다', '.', '열심히', '공부하고', '있어요', '.']"
            ]
          },
          "metadata": {
            "tags": []
          },
          "execution_count": 3
        }
      ]
    },
    {
      "cell_type": "code",
      "metadata": {
        "id": "aALpBJkMjsJi",
        "colab_type": "code",
        "colab": {}
      },
      "source": [
        "word_to_id = {}\n",
        "id_to_word = {}\n",
        "\n",
        "for word in words:\n",
        "  if word not in word_to_id:\n",
        "    new_id = len(word_to_id)\n",
        "    word_to_id[word] = new_id\n",
        "    id_to_word[new_id] = word"
      ],
      "execution_count": 4,
      "outputs": []
    },
    {
      "cell_type": "code",
      "metadata": {
        "id": "FqVL9G-tkaUx",
        "colab_type": "code",
        "colab": {
          "base_uri": "https://localhost:8080/",
          "height": 158
        },
        "outputId": "6b4bfe46-c8e4-42c2-9c01-b15bc61e5d66"
      },
      "source": [
        "word_to_id"
      ],
      "execution_count": 5,
      "outputs": [
        {
          "output_type": "execute_result",
          "data": {
            "text/plain": [
              "{'.': 4,\n",
              " '공부하고': 6,\n",
              " '김도경입니다': 3,\n",
              " '안녕하세요': 0,\n",
              " '열심히': 5,\n",
              " '있어요': 7,\n",
              " '재학중인': 2,\n",
              " '한림대학교에': 1}"
            ]
          },
          "metadata": {
            "tags": []
          },
          "execution_count": 5
        }
      ]
    },
    {
      "cell_type": "code",
      "metadata": {
        "id": "M00Wi_3hmCsx",
        "colab_type": "code",
        "colab": {
          "base_uri": "https://localhost:8080/",
          "height": 158
        },
        "outputId": "94f614ca-f698-4b0f-f5ee-052f20a7131a"
      },
      "source": [
        "id_to_word"
      ],
      "execution_count": 6,
      "outputs": [
        {
          "output_type": "execute_result",
          "data": {
            "text/plain": [
              "{0: '안녕하세요',\n",
              " 1: '한림대학교에',\n",
              " 2: '재학중인',\n",
              " 3: '김도경입니다',\n",
              " 4: '.',\n",
              " 5: '열심히',\n",
              " 6: '공부하고',\n",
              " 7: '있어요'}"
            ]
          },
          "metadata": {
            "tags": []
          },
          "execution_count": 6
        }
      ]
    },
    {
      "cell_type": "code",
      "metadata": {
        "id": "Klis1x4wm-6E",
        "colab_type": "code",
        "colab": {
          "base_uri": "https://localhost:8080/",
          "height": 34
        },
        "outputId": "dd82b5e3-0d02-4cd3-a1ae-3c8b3acdd715"
      },
      "source": [
        "[w for w in words]"
      ],
      "execution_count": 7,
      "outputs": [
        {
          "output_type": "execute_result",
          "data": {
            "text/plain": [
              "['안녕하세요', '한림대학교에', '재학중인', '김도경입니다', '.', '열심히', '공부하고', '있어요', '.']"
            ]
          },
          "metadata": {
            "tags": []
          },
          "execution_count": 7
        }
      ]
    },
    {
      "cell_type": "code",
      "metadata": {
        "id": "H_DtJOebmEXJ",
        "colab_type": "code",
        "colab": {}
      },
      "source": [
        "corpus = [word_to_id[w] for w in words]"
      ],
      "execution_count": 8,
      "outputs": []
    },
    {
      "cell_type": "code",
      "metadata": {
        "id": "BJuT4cXDnhSK",
        "colab_type": "code",
        "colab": {
          "base_uri": "https://localhost:8080/",
          "height": 34
        },
        "outputId": "9d98077b-e9a4-45c7-fc7a-615f0352d3f0"
      },
      "source": [
        "corpus = np.array(corpus)\n",
        "corpus"
      ],
      "execution_count": 9,
      "outputs": [
        {
          "output_type": "execute_result",
          "data": {
            "text/plain": [
              "array([0, 1, 2, 3, 4, 5, 6, 7, 4])"
            ]
          },
          "metadata": {
            "tags": []
          },
          "execution_count": 9
        }
      ]
    },
    {
      "cell_type": "code",
      "metadata": {
        "id": "RRadhg-9nq2C",
        "colab_type": "code",
        "colab": {}
      },
      "source": [
        "def preprocess(text):\n",
        "  text = text.lower()# 영어일 경우\n",
        "  text = text.replace('.',' .')\n",
        "  words = text.split(' ')\n",
        "\n",
        "  word_to_id = {}\n",
        "  id_to_word = {}\n",
        "\n",
        "  for word in words:\n",
        "    if word not in word_to_id:\n",
        "      id_idx = len(word_to_id)\n",
        "      word_to_id[word] = id_idx\n",
        "      id_to_word[id_idx] = word\n",
        "  \n",
        "  corpus = [word_to_id[w] for w in words]\n",
        "  corpus = np.array(corpus)\n",
        "\n",
        "  return corpus, word_to_id, id_to_word\n"
      ],
      "execution_count": 40,
      "outputs": []
    },
    {
      "cell_type": "code",
      "metadata": {
        "id": "U6ddK3VtpKBL",
        "colab_type": "code",
        "colab": {}
      },
      "source": [
        "text = '안녕하세요 한림대학교에 재학중인 김도경입니다. 열심히 공부하고 있어요.'\n",
        "corpus, word_to_id, id_to_word = preprocess(text)"
      ],
      "execution_count": 11,
      "outputs": []
    },
    {
      "cell_type": "code",
      "metadata": {
        "id": "7E690u0MpTsu",
        "colab_type": "code",
        "colab": {
          "base_uri": "https://localhost:8080/",
          "height": 70
        },
        "outputId": "19ecbff0-8eb6-4f78-d9ad-5cdd07e5df7d"
      },
      "source": [
        "print(corpus)\n",
        "print(word_to_id)\n",
        "print(id_to_word)"
      ],
      "execution_count": 12,
      "outputs": [
        {
          "output_type": "stream",
          "text": [
            "[0 1 2 3 4 5 6 7 4]\n",
            "{'안녕하세요': 0, '한림대학교에': 1, '재학중인': 2, '김도경입니다': 3, '.': 4, '열심히': 5, '공부하고': 6, '있어요': 7}\n",
            "{0: '안녕하세요', 1: '한림대학교에', 2: '재학중인', 3: '김도경입니다', 4: '.', 5: '열심히', 6: '공부하고', 7: '있어요'}\n"
          ],
          "name": "stdout"
        }
      ]
    },
    {
      "cell_type": "markdown",
      "metadata": {
        "id": "tUUqRzY1p92F",
        "colab_type": "text"
      },
      "source": [
        "###  분포가설\n",
        "- 분포가설이란 단어의 의미는 주변 단어에 의해 형성된다는 것이다.\n",
        "\n",
        "### 동시발생 행렬 만들어 보기\n",
        "- 어떤 단어에 주목했을 때, 그 주변에 어떤 단어가 몇 번이나 등장하는지 집계하는 것 \n",
        "- 윈도우 사이즈를 정할 수 있다. (앞 뒤로 몇 단어씩 볼 것 인지!)"
      ]
    },
    {
      "cell_type": "code",
      "metadata": {
        "id": "lt0MbukGpYaP",
        "colab_type": "code",
        "colab": {
          "base_uri": "https://localhost:8080/",
          "height": 52
        },
        "outputId": "05af0b39-bc50-464a-afa6-dd5c1bffccef"
      },
      "source": [
        "# 기본 text\n",
        "text = 'You say goodbye and I say hello.'\n",
        "corpus, word_to_id, id_to_word = preprocess(text)\n",
        "print(corpus)\n",
        "print(id_to_word)"
      ],
      "execution_count": 13,
      "outputs": [
        {
          "output_type": "stream",
          "text": [
            "[0 1 2 3 4 1 5 6]\n",
            "{0: 'You', 1: 'say', 2: 'goodbye', 3: 'and', 4: 'I', 5: 'hello', 6: '.'}\n"
          ],
          "name": "stdout"
        }
      ]
    },
    {
      "cell_type": "code",
      "metadata": {
        "id": "-SfOUps7rnKv",
        "colab_type": "code",
        "colab": {
          "base_uri": "https://localhost:8080/",
          "height": 158
        },
        "outputId": "784bbf54-24cd-48f2-eae4-3588e5b5ffbb"
      },
      "source": [
        "# corpus를 출력해보면 이렇게 구성되어 있다.\n",
        "for idx, word_id in enumerate(corpus):\n",
        "  print(idx, word_id)"
      ],
      "execution_count": 14,
      "outputs": [
        {
          "output_type": "stream",
          "text": [
            "0 0\n",
            "1 1\n",
            "2 2\n",
            "3 3\n",
            "4 4\n",
            "5 1\n",
            "6 5\n",
            "7 6\n"
          ],
          "name": "stdout"
        }
      ]
    },
    {
      "cell_type": "code",
      "metadata": {
        "id": "4z49ILhtK9z0",
        "colab_type": "code",
        "colab": {
          "base_uri": "https://localhost:8080/",
          "height": 34
        },
        "outputId": "6ba1ff8d-c06a-4271-df1e-1ba349182b07"
      },
      "source": [
        "print(word_to_id)"
      ],
      "execution_count": 15,
      "outputs": [
        {
          "output_type": "stream",
          "text": [
            "{'You': 0, 'say': 1, 'goodbye': 2, 'and': 3, 'I': 4, 'hello': 5, '.': 6}\n"
          ],
          "name": "stdout"
        }
      ]
    },
    {
      "cell_type": "markdown",
      "metadata": {
        "id": "MBHqdUdx1S46",
        "colab_type": "text"
      },
      "source": [
        "### corpus가 주어졌을때 동시발생 행렬을 직접 만들 수 있다"
      ]
    },
    {
      "cell_type": "code",
      "metadata": {
        "id": "K2Re3TNH08Dt",
        "colab_type": "code",
        "colab": {}
      },
      "source": [
        "corpus_size = len(corpus)\n",
        "vocab_size = len(word_to_id)\n",
        "co_matrix = np.zeros((vocab_size, vocab_size), dtype= np.int32) # vocab_size로 빈 메트릭스를 만든다. \n"
      ],
      "execution_count": 28,
      "outputs": []
    },
    {
      "cell_type": "code",
      "metadata": {
        "id": "40VL9qNvyAOx",
        "colab_type": "code",
        "colab": {
          "base_uri": "https://localhost:8080/",
          "height": 141
        },
        "outputId": "017c4e64-f9b9-41ab-b514-1402dd229f62"
      },
      "source": [
        "co_matrix"
      ],
      "execution_count": 29,
      "outputs": [
        {
          "output_type": "execute_result",
          "data": {
            "text/plain": [
              "array([[0, 0, 0, 0, 0, 0, 0],\n",
              "       [0, 0, 0, 0, 0, 0, 0],\n",
              "       [0, 0, 0, 0, 0, 0, 0],\n",
              "       [0, 0, 0, 0, 0, 0, 0],\n",
              "       [0, 0, 0, 0, 0, 0, 0],\n",
              "       [0, 0, 0, 0, 0, 0, 0],\n",
              "       [0, 0, 0, 0, 0, 0, 0]], dtype=int32)"
            ]
          },
          "metadata": {
            "tags": []
          },
          "execution_count": 29
        }
      ]
    },
    {
      "cell_type": "code",
      "metadata": {
        "id": "1d7E5qJ2y6Ki",
        "colab_type": "code",
        "colab": {}
      },
      "source": [
        "window_size = 1 # 윈도우 사이즈를 지정해 줄 수 있다. "
      ],
      "execution_count": 30,
      "outputs": []
    },
    {
      "cell_type": "code",
      "metadata": {
        "id": "tE7pHvFdyI0V",
        "colab_type": "code",
        "colab": {}
      },
      "source": [
        "for idx, word in enumerate(corpus):\n",
        "  for i in range(1, window_size +1):\n",
        "    left_idx = idx - i # 현재 단어의 왼쪽 단어 인덱스 \n",
        "    right_idx = idx + i # 현재 단어의 오른쪽 단어 인덱스 \n",
        "\n",
        "    if left_idx >= 0: # 왼쪽 단어 인덱스를 확인할 때 0보다 작으면 확인하지 않는다. \n",
        "      left_word_id = corpus[left_idx]\n",
        "      co_matrix[word,left_word_id] += 1\n",
        "    if right_idx < corpus_size : # 코퍼스 길이를 넘어가는 것도 확인하지 않는다. \n",
        "      right_word_id = corpus[right_idx]\n",
        "      co_matrix[word,right_word_id] += 1\n"
      ],
      "execution_count": 31,
      "outputs": []
    },
    {
      "cell_type": "code",
      "metadata": {
        "id": "H1MfIU7u02JX",
        "colab_type": "code",
        "colab": {
          "base_uri": "https://localhost:8080/",
          "height": 141
        },
        "outputId": "ec92c70c-f4ea-49e3-c34e-cacd092398bb"
      },
      "source": [
        "co_matrix # 윈도우 사이즈를 1로 준 동시발생 행렬이다. "
      ],
      "execution_count": 32,
      "outputs": [
        {
          "output_type": "execute_result",
          "data": {
            "text/plain": [
              "array([[0, 1, 0, 0, 0, 0, 0],\n",
              "       [1, 0, 1, 0, 1, 1, 0],\n",
              "       [0, 1, 0, 1, 0, 0, 0],\n",
              "       [0, 0, 1, 0, 1, 0, 0],\n",
              "       [0, 1, 0, 1, 0, 0, 0],\n",
              "       [0, 1, 0, 0, 0, 0, 1],\n",
              "       [0, 0, 0, 0, 0, 1, 0]], dtype=int32)"
            ]
          },
          "metadata": {
            "tags": []
          },
          "execution_count": 32
        }
      ]
    },
    {
      "cell_type": "code",
      "metadata": {
        "id": "2BTUtbo308xX",
        "colab_type": "code",
        "colab": {}
      },
      "source": [
        "def make_co_matrix(corpus,window_size = 1):\n",
        "  corpus_size = len(corpus)\n",
        "  vocab_size = len(word_to_id)\n",
        "  co_matrix = np.zeros((vocab_size, vocab_size), dtype= np.int32) # vocab_size로 빈 메트릭스를 만든다. \n",
        "  for idx, word in enumerate(corpus):\n",
        "    for i in range(1, window_size +1):\n",
        "      left_idx = idx - i # 현재 단어의 왼쪽 단어 인덱스 \n",
        "      right_idx = idx + i # 현재 단어의 오른쪽 단어 인덱스 \n",
        "\n",
        "      if left_idx >= 0: # 왼쪽 단어 인덱스를 확인할 때 0보다 작으면 확인하지 않는다. \n",
        "        left_word_id = corpus[left_idx]\n",
        "        co_matrix[word,left_word_id] += 1\n",
        "      if right_idx < corpus_size : # 코퍼스 길이를 넘어가는 것도 확인하지 않는다. \n",
        "        right_word_id = corpus[right_idx]\n",
        "        co_matrix[word,right_word_id] += 1\n",
        "  \n",
        "  return co_matrix\n"
      ],
      "execution_count": 33,
      "outputs": []
    },
    {
      "cell_type": "code",
      "metadata": {
        "id": "jairJZdb3eVW",
        "colab_type": "code",
        "colab": {
          "base_uri": "https://localhost:8080/",
          "height": 141
        },
        "outputId": "ad9a66f8-46d8-4660-8d5a-4062864e2b7b"
      },
      "source": [
        "make_co_matrix(corpus)"
      ],
      "execution_count": 34,
      "outputs": [
        {
          "output_type": "execute_result",
          "data": {
            "text/plain": [
              "array([[0, 1, 0, 0, 0, 0, 0],\n",
              "       [1, 0, 1, 0, 1, 1, 0],\n",
              "       [0, 1, 0, 1, 0, 0, 0],\n",
              "       [0, 0, 1, 0, 1, 0, 0],\n",
              "       [0, 1, 0, 1, 0, 0, 0],\n",
              "       [0, 1, 0, 0, 0, 0, 1],\n",
              "       [0, 0, 0, 0, 0, 1, 0]], dtype=int32)"
            ]
          },
          "metadata": {
            "tags": []
          },
          "execution_count": 34
        }
      ]
    },
    {
      "cell_type": "markdown",
      "metadata": {
        "id": "ucBeL4l33v4v",
        "colab_type": "text"
      },
      "source": [
        "### 벡터 간 유사도 \n",
        "- 코사인 유사도\n",
        "  - 두 벡터가 가르키는 방향이 얼마나 비슷한가 \n",
        "  - 일치하면 1, 정반대면 -1 \n",
        "  - 분자 : 벡터의 내적 \n",
        "  - 분모 : 각 벡터의 노름\n",
        "    - 노름 : 벡터의 크기\n",
        "    - 벡터의 각 원소를 제곱하여 더한 후 제곱근을 한 것 (L2 노름이다)"
      ]
    },
    {
      "cell_type": "code",
      "metadata": {
        "id": "Fax5rxSS3hBw",
        "colab_type": "code",
        "colab": {}
      },
      "source": [
        "def cos_similarity(x, y):\n",
        "  nx = x / np.sqrt(np.sum(x**2))\n",
        "  ny = y / np.sqrt(np.sum(y**2))\n",
        "\n",
        "  return np.dot(nx,ny)"
      ],
      "execution_count": 35,
      "outputs": []
    },
    {
      "cell_type": "code",
      "metadata": {
        "id": "XLYby7406zPj",
        "colab_type": "code",
        "colab": {}
      },
      "source": [
        "# 위 코드는 제로 벡터가 들어왔을때 0으로 나눠지는 오류가 있어 방지하기 위해서 아주 작은 수를 분모에 더해준다. \n",
        "def cos_similarity(x,y, eps = 1e-8):\n",
        "  nx = x/ (np.sqrt(np.sum(x**2)) +eps)\n",
        "  ny = y / (np.sqrt(np.sum(y**2))+ eps)\n",
        "\n",
        "  return np.dot(nx,ny)"
      ],
      "execution_count": 37,
      "outputs": []
    },
    {
      "cell_type": "code",
      "metadata": {
        "id": "qB0rSI6C7gbI",
        "colab_type": "code",
        "colab": {
          "base_uri": "https://localhost:8080/",
          "height": 52
        },
        "outputId": "7fb29419-8e1c-48c0-dfd6-28ac3b3510ba"
      },
      "source": [
        "text = 'You say goodbye and I say hello.'\n",
        "corpus , word_to_id, id_to_word = preprocess(text)\n",
        "print(word_to_id)\n",
        "co_matrix = make_co_matrix(corpus)\n",
        "\n",
        "c0 = co_matrix[word_to_id['you']]\n",
        "c1 = co_matrix[word_to_id['i']]\n",
        "\n",
        "print(cos_similarity(c0,c1))"
      ],
      "execution_count": 41,
      "outputs": [
        {
          "output_type": "stream",
          "text": [
            "{'you': 0, 'say': 1, 'goodbye': 2, 'and': 3, 'i': 4, 'hello': 5, '.': 6}\n",
            "0.7071067691154799\n"
          ],
          "name": "stdout"
        }
      ]
    },
    {
      "cell_type": "markdown",
      "metadata": {
        "id": "Ugc-uY-N8lmp",
        "colab_type": "text"
      },
      "source": [
        "you와 i가 비교적 유사도가 높다는 것을 알 수 있다. (1에 근접할 수록 유사도가 높은 것 )"
      ]
    },
    {
      "cell_type": "code",
      "metadata": {
        "id": "K7iwO9JF8WQ2",
        "colab_type": "code",
        "colab": {}
      },
      "source": [
        "# 유사 단어의 랭킹 표시 \n",
        "\n",
        "def most_similar(target, word_to_id, id_to_word, word_matrix, top = 5):\n",
        "  if target not in word_to_id:\n",
        "    print(\"%s를 찾을 수 없습니다.\", target)\n",
        "    return\n",
        "  \n",
        "  print('[target]'+target)\n",
        "  target_id = word_to_id[target]\n",
        "  target_vec = word_matrix[target_id]\n",
        "\n",
        "  vocab_size = len(id_to_word)\n",
        "  similarity = np.zeros(vocab_size)\n",
        "\n",
        "  for i in range(vocab_size):\n",
        "    similarity[i] = cos_similarity(word_matrix[i], target_vec)\n",
        "\n",
        "  for i in (-1 * similarity).argsort()[1:top+1]:\n",
        "    print('%s : %s' % (id_to_word[i],similarity[i]))\n"
      ],
      "execution_count": 53,
      "outputs": []
    },
    {
      "cell_type": "code",
      "metadata": {
        "id": "DmJiMIOYAjHB",
        "colab_type": "code",
        "colab": {
          "base_uri": "https://localhost:8080/",
          "height": 123
        },
        "outputId": "fd1ef5ed-041c-479e-d07c-d21d6801e8f3"
      },
      "source": [
        "most_similar('you',word_to_id, id_to_word,co_matrix)"
      ],
      "execution_count": 54,
      "outputs": [
        {
          "output_type": "stream",
          "text": [
            "[target]you\n",
            "goodbye : 0.7071067691154799\n",
            "i : 0.7071067691154799\n",
            "hello : 0.7071067691154799\n",
            "say : 0.0\n",
            "and : 0.0\n"
          ],
          "name": "stdout"
        }
      ]
    },
    {
      "cell_type": "markdown",
      "metadata": {
        "id": "an6ZCCXmBcxs",
        "colab_type": "text"
      },
      "source": [
        "you와 i가 가깝지만, goodbye와 hello가 유사도가 높다는건 말뭉치가 너무 작다는 원인이다. "
      ]
    },
    {
      "cell_type": "markdown",
      "metadata": {
        "id": "8hahepSJB5sJ",
        "colab_type": "text"
      },
      "source": [
        "### 통계 기반 기법 개선하기 \n",
        "- 문제점 : \n",
        "\n",
        "    단어의 동시발생 행렬은 동시 발생 횟수를 나타내는다. \n",
        "\n",
        "    발생 횟수로 판단하면 자주나오는 단어가 관련성이 더 높다고 볼 수 있는 문제가 생긴다. \n",
        "- 해결방법 : 점별 상호정보량(Pointwise Mutual Information; PMI)\n",
        "\n",
        "$$PMI(x,y) = log_2 \\frac{P(x,y)}{P(x)P(y)} = log_2 \\frac {\\frac {C(x,y)}{N}}{\\frac{C(x)}{N} \\frac{C(y)}{N}} = log_2 \\frac {C(x,y) \\cdot N}{C(x)C(y)}$$\n",
        "\n",
        "- P(x)는 x가 일어날 확률\n",
        "- P(y)는 y가 일어날 확률 \n",
        "- P(x,y)는 x,y가 동시에 일어날 확률 \n",
        "\n",
        "- C는 동시발생 행렬\n",
        "- C(x,y)는 단어 x와 y가 동시발생하는 횟수\n",
        "- C(x), C(y)는 각각 단어 x와 y의 등장 횟수 \n",
        "\n",
        "예시 ) 말뭉치 단어수 (N)을 10000, the와 car, drive가 각각 1000, 20, 10번 등장, the와 car의 동시 발생 횟수는 10번, car와 drive의 동시 발생 횟누는 5번으로 가정\n",
        "- 동시 발생 횟수 관점에서는 car는 the와 더 관련이 깊다고 본다. \n",
        "- 하지만 PMI 관점에서는 다르다. \n",
        "\n",
        "$$ PMI(\"the\",\"car\") = log_2 \\frac{10 \\cdot 10000}{1000 \\cdot 20} \\approx 2.32$$\n",
        "$$$$\n",
        "$$ PMI(\"car\",\"drive\") = log_2 \\frac{5 \\cdot 10000}{20 \\cdot 10} \\approx 7.97$$\n",
        "\n",
        "- car는 the보다 drive와 관련성이 더 강하다. \n",
        "  - the가 자주 출현했으므로 PMI 점수가 낮아진 것이다. \n",
        "\n",
        "----\n",
        "- 두 단어의 동시발생 횟수가 0일 경우 $log_2 0 = - \\infty $가 된다. \n",
        "- 해결방법 : 양의 상호정보량 (Positive PMI; PPMI)를 사용한다.\n",
        "\n",
        "$$PPMI(x,y) = max(0,PMI(x,y))$$\n",
        "\n",
        "- PMI가 음수일 경우 0으로 취급한다. \n"
      ]
    },
    {
      "cell_type": "markdown",
      "metadata": {
        "id": "c4s56EuVLC7T",
        "colab_type": "text"
      },
      "source": [
        "### PPMI 메트릭스 만들어 보기 "
      ]
    },
    {
      "cell_type": "code",
      "metadata": {
        "id": "voFNYZAJBDwu",
        "colab_type": "code",
        "colab": {
          "base_uri": "https://localhost:8080/",
          "height": 34
        },
        "outputId": "5e65eb59-b3e7-4342-d2c6-7c9768998ffa"
      },
      "source": [
        "np.sum(co_matrix,axis = 0)"
      ],
      "execution_count": 57,
      "outputs": [
        {
          "output_type": "execute_result",
          "data": {
            "text/plain": [
              "array([1, 4, 2, 2, 2, 2, 1])"
            ]
          },
          "metadata": {
            "tags": []
          },
          "execution_count": 57
        }
      ]
    },
    {
      "cell_type": "code",
      "metadata": {
        "id": "lYMa5WSkJz8G",
        "colab_type": "code",
        "colab": {
          "base_uri": "https://localhost:8080/",
          "height": 141
        },
        "outputId": "8fb2ede2-00b3-416e-e4d8-17218a484f13"
      },
      "source": [
        "co_matrix"
      ],
      "execution_count": 56,
      "outputs": [
        {
          "output_type": "execute_result",
          "data": {
            "text/plain": [
              "array([[0, 1, 0, 0, 0, 0, 0],\n",
              "       [1, 0, 1, 0, 1, 1, 0],\n",
              "       [0, 1, 0, 1, 0, 0, 0],\n",
              "       [0, 0, 1, 0, 1, 0, 0],\n",
              "       [0, 1, 0, 1, 0, 0, 0],\n",
              "       [0, 1, 0, 0, 0, 0, 1],\n",
              "       [0, 0, 0, 0, 0, 1, 0]], dtype=int32)"
            ]
          },
          "metadata": {
            "tags": []
          },
          "execution_count": 56
        }
      ]
    },
    {
      "cell_type": "code",
      "metadata": {
        "id": "xn1dYcNYJ9f7",
        "colab_type": "code",
        "colab": {
          "base_uri": "https://localhost:8080/",
          "height": 34
        },
        "outputId": "c9943516-e522-4c2c-fbba-16369614c4ca"
      },
      "source": [
        "co_matrix.shape"
      ],
      "execution_count": 58,
      "outputs": [
        {
          "output_type": "execute_result",
          "data": {
            "text/plain": [
              "(7, 7)"
            ]
          },
          "metadata": {
            "tags": []
          },
          "execution_count": 58
        }
      ]
    },
    {
      "cell_type": "code",
      "metadata": {
        "id": "RZ_T__q9K0DC",
        "colab_type": "code",
        "colab": {}
      },
      "source": [
        "eps = 1e-8\n",
        "M = np.zeros_like(co_matrix, dtype = np.float32)\n",
        "N = np.sum(co_matrix)\n",
        "S = np.sum(co_matrix, axis = 0) # 각 단어의 빈도수 \n",
        "\n",
        "for i in range(co_matrix.shape[0]):\n",
        "  for j in range(co_matrix.shape[1]):\n",
        "    pmi = np.log2(co_matrix[i,j] * N / (S[i]*S[j]) + eps)\n",
        "    M[i,j] = max(0,pmi)\n",
        "\n",
        "np.set_printoptions(precision=3)"
      ],
      "execution_count": 65,
      "outputs": []
    },
    {
      "cell_type": "code",
      "metadata": {
        "id": "ofeTn6W2MPc-",
        "colab_type": "code",
        "colab": {
          "base_uri": "https://localhost:8080/",
          "height": 141
        },
        "outputId": "1ed68c3d-e55d-497d-e4d8-dbe9653a7e92"
      },
      "source": [
        "print(M)"
      ],
      "execution_count": 66,
      "outputs": [
        {
          "output_type": "stream",
          "text": [
            "[[0.    1.807 0.    0.    0.    0.    0.   ]\n",
            " [1.807 0.    0.807 0.    0.807 0.807 0.   ]\n",
            " [0.    0.807 0.    1.807 0.    0.    0.   ]\n",
            " [0.    0.    1.807 0.    1.807 0.    0.   ]\n",
            " [0.    0.807 0.    1.807 0.    0.    0.   ]\n",
            " [0.    0.807 0.    0.    0.    0.    2.807]\n",
            " [0.    0.    0.    0.    0.    2.807 0.   ]]\n"
          ],
          "name": "stdout"
        }
      ]
    },
    {
      "cell_type": "markdown",
      "metadata": {
        "id": "GgyHLIkpMopw",
        "colab_type": "text"
      },
      "source": [
        "함수화 시켜보자 "
      ]
    },
    {
      "cell_type": "code",
      "metadata": {
        "id": "6HHME2MOMQ-s",
        "colab_type": "code",
        "colab": {}
      },
      "source": [
        "def ppmi(co_matrix, epx = 1e-8):\n",
        "  M = np.zeros_like(co_matrix, dtype = np.float32)\n",
        "  N = np.sum(co_matrix)\n",
        "  S = np.sum(co_matrix, axis = 0) # 각 단어의 빈도수 \n",
        "\n",
        "  for i in range(co_matrix.shape[0]):\n",
        "    for j in range(co_matrix.shape[1]):\n",
        "      pmi = np.log2(co_matrix[i,j] * N / (S[i]*S[j]) + eps)\n",
        "      M[i,j] = max(0,pmi)\n",
        "\n",
        "  np.set_printoptions(precision=3)\n",
        "\n",
        "  return M\n"
      ],
      "execution_count": 67,
      "outputs": []
    },
    {
      "cell_type": "code",
      "metadata": {
        "id": "AquVYQ8MM6Ow",
        "colab_type": "code",
        "colab": {
          "base_uri": "https://localhost:8080/",
          "height": 141
        },
        "outputId": "2e455237-1645-44b3-bbc4-2f2f4aebd704"
      },
      "source": [
        "\n",
        "ppmi(co_matrix)"
      ],
      "execution_count": 68,
      "outputs": [
        {
          "output_type": "execute_result",
          "data": {
            "text/plain": [
              "array([[0.   , 1.807, 0.   , 0.   , 0.   , 0.   , 0.   ],\n",
              "       [1.807, 0.   , 0.807, 0.   , 0.807, 0.807, 0.   ],\n",
              "       [0.   , 0.807, 0.   , 1.807, 0.   , 0.   , 0.   ],\n",
              "       [0.   , 0.   , 1.807, 0.   , 1.807, 0.   , 0.   ],\n",
              "       [0.   , 0.807, 0.   , 1.807, 0.   , 0.   , 0.   ],\n",
              "       [0.   , 0.807, 0.   , 0.   , 0.   , 0.   , 2.807],\n",
              "       [0.   , 0.   , 0.   , 0.   , 0.   , 2.807, 0.   ]], dtype=float32)"
            ]
          },
          "metadata": {
            "tags": []
          },
          "execution_count": 68
        }
      ]
    },
    {
      "cell_type": "markdown",
      "metadata": {
        "id": "J9zDtnx7NHNW",
        "colab_type": "text"
      },
      "source": [
        "- PPMI 행렬의 문제점 : 말뭉치의 어휘 수가 증가함에 따라 각 단어 벡터의 차원 수도 증가한다. \n",
        "\n",
        "- 말뭉치의 어휘수가 10만 개라면 벡터의 차원 수도 똑같이 10만이 된다. \n",
        "- 원소 대부분이 0인 행렬을 희소행렬이라하고 이것을 밀집행렬로 만들어주기 위해 차원 축소가 필요하다. \n",
        "- 이것이야 말로 우리가 원하는 단어의 분산표현이다."
      ]
    },
    {
      "cell_type": "markdown",
      "metadata": {
        "id": "UIudq7p1N5oY",
        "colab_type": "text"
      },
      "source": [
        "## 차원 감소 \n",
        "- 중요한 정보를 유지하면서 차원을 줄인다. \n",
        "- 특잇값분해(Singular Value Decomosition; SVD)\n",
        "  - 임의의 행렬을 세 행렬의 곱으로 분해\n",
        "\n",
        "  $$X = USV^T$$\n",
        "\n",
        "  - U,V는 직교행렬이고 서로 직교한다, S는 대각행렬\n",
        "  - U행렬은 어떠한 공간의 축을 형성한다. U행렬을 단어공간으로 취급할 수 있다.\n",
        "  - S는 대각성분에 특잇값이 큰 순서로 나열되어 있다. \n",
        "    - 특잇값이란 해당 축의 중요도라고 간주할 수 있다. \n",
        "\n",
        "  - 행렬 U의 중요도가 낮은 원소(특잇값이 작은 원소)를 깍아낼 수 있다. \n",
        "  - 그래도 원래 행렬에 근사할 수 있다. "
      ]
    },
    {
      "cell_type": "code",
      "metadata": {
        "id": "ee0bJe12M8N0",
        "colab_type": "code",
        "colab": {}
      },
      "source": [
        "text = 'You say goodbye and I say hello.'\n",
        "corpus , word_to_id, id_to_word = preprocess (text)\n",
        "co_matrix = make_co_matrix(corpus)\n",
        "W = ppmi(co_matrix)\n",
        "\n",
        "# SVD\n",
        "U, S, V = np.linalg.svd(W)"
      ],
      "execution_count": 70,
      "outputs": []
    },
    {
      "cell_type": "code",
      "metadata": {
        "id": "ZzGZqU7JXzVG",
        "colab_type": "code",
        "colab": {
          "base_uri": "https://localhost:8080/",
          "height": 87
        },
        "outputId": "e7a893d0-7ac3-4f2d-92a2-a78b6b725744"
      },
      "source": [
        "print(co_matrix[0])\n",
        "print(W[0])\n",
        "print(U[0])"
      ],
      "execution_count": 71,
      "outputs": [
        {
          "output_type": "stream",
          "text": [
            "[0 1 0 0 0 0 0]\n",
            "[0.    1.807 0.    0.    0.    0.    0.   ]\n",
            "[ 3.409e-01  0.000e+00 -1.205e-01 -3.886e-16 -9.323e-01 -1.110e-16\n",
            " -2.426e-17]\n"
          ],
          "name": "stdout"
        }
      ]
    },
    {
      "cell_type": "code",
      "metadata": {
        "id": "z_okgZGwX_v1",
        "colab_type": "code",
        "colab": {
          "base_uri": "https://localhost:8080/",
          "height": 34
        },
        "outputId": "e8724386-ae83-4abc-bf78-ddfb66d2597e"
      },
      "source": [
        "# 희소차원에서 밀집차원으로 바뀐 밀집차원의 차원을 감소\n",
        "# 예시) 2차원으로 감소 \n",
        "\n",
        "U[0,:2]"
      ],
      "execution_count": 75,
      "outputs": [
        {
          "output_type": "execute_result",
          "data": {
            "text/plain": [
              "array([0.341, 0.   ], dtype=float32)"
            ]
          },
          "metadata": {
            "tags": []
          },
          "execution_count": 75
        }
      ]
    },
    {
      "cell_type": "code",
      "metadata": {
        "id": "k9NCnfcJYxN9",
        "colab_type": "code",
        "colab": {
          "base_uri": "https://localhost:8080/",
          "height": 264
        },
        "outputId": "8d73e66c-c243-461d-9b51-60765c148c5f"
      },
      "source": [
        "import matplotlib.pyplot as plt\n",
        "\n",
        "for word, id in word_to_id.items():\n",
        "  plt.annotate(word, (U[id,0], U[id,1]))\n",
        "\n",
        "plt.scatter(U[:,0],U[:,1],alpha = 0.5)\n",
        "plt.show()"
      ],
      "execution_count": 77,
      "outputs": [
        {
          "output_type": "display_data",
          "data": {
            "image/png": "[encoded data removed]",
            "text/plain": [
              "<Figure size 432x288 with 1 Axes>"
            ]
          },
          "metadata": {
            "tags": [],
            "needs_background": "light"
          }
        }
      ]
    },
    {
      "cell_type": "code",
      "metadata": {
        "id": "yFcclPRoZjsU",
        "colab_type": "code",
        "colab": {}
      },
      "source": [
        ""
      ],
      "execution_count": null,
      "outputs": []
    }
  ]
}