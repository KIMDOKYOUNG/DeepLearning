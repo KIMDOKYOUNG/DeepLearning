{
  "nbformat": 4,
  "nbformat_minor": 0,
  "metadata": {
    "colab": {
      "name": "chapter2.ipynb",
      "provenance": [],
      "collapsed_sections": [],
      "authorship_tag": "ABX9TyPnTZj4nsPhZw4tdD7QkU4E",
      "include_colab_link": true
    },
    "kernelspec": {
      "name": "python3",
      "display_name": "Python 3"
    }
  },
  "cells": [
    {
      "cell_type": "markdown",
      "metadata": {
        "id": "view-in-github",
        "colab_type": "text"
      },
      "source": [
        "<a href=\"https://colab.research.google.com/github/KIMDOKYOUNG/DeepLearning/blob/master/2_chapter2/chapter2.ipynb\" target=\"_parent\"><img src=\"https://colab.research.google.com/assets/colab-badge.svg\" alt=\"Open In Colab\"/></a>"
      ]
    },
    {
      "cell_type": "markdown",
      "metadata": {
        "id": "zpMzLKtmhE75",
        "colab_type": "text"
      },
      "source": [
        "\n",
        "## 밑바닥부터 시작하는 딥러닝 2 뽀개기\n",
        "#### CHAPTER 2 자연어와 단어의 분산 표현\n",
        "#### 일자 : 2020-08-25\n",
        "\n",
        "\n",
        "- 시소러스?\n",
        "  - 유의어 사전\n",
        "  - 뜻이 같은 단어(동의어)와 뜻이 비슷한 단어(유의어)가 한 그룹으로 분류되어 있다.\n",
        "  - 가장 유명한 시소러스 : WordNet\n",
        "  - 문제점 \n",
        "    - 신조어가 계속 생긴다\n",
        "    - 사람을 쓴느 비용이 크다\n",
        "    - 단어의 미묘한 차이를 표현할 수 없다.\n",
        "\n",
        "- 시소러스가 가지고 있는 문제를 해결하기 위해선! \n",
        "  - 통계 기반 기법\n",
        "  - 신경망을 사용한 추론 기반 기법\n"
      ]
    },
    {
      "cell_type": "markdown",
      "metadata": {
        "id": "ZhdaJzPEiYga",
        "colab_type": "text"
      },
      "source": [
        "\n",
        "## 통계 기반 기법 \n",
        "### corpus(말뭉치) 전처리하기\n"
      ]
    },
    {
      "cell_type": "code",
      "metadata": {
        "id": "yau2XGZUntFD",
        "colab_type": "code",
        "colab": {}
      },
      "source": [
        "import numpy as np"
      ],
      "execution_count": 22,
      "outputs": []
    },
    {
      "cell_type": "code",
      "metadata": {
        "id": "8TfCxgbtg_2w",
        "colab_type": "code",
        "colab": {
          "base_uri": "https://localhost:8080/",
          "height": 34
        },
        "outputId": "55390f3e-4d74-4fcd-a0f7-065156e256f3"
      },
      "source": [
        "text = '안녕하세요 한림대학교에 재학중인 김도경입니다. 열심히 공부하고 있어요.'\n",
        "text.lower()# 영어일 경우 \n",
        "text = text.replace('.',' .')\n",
        "text"
      ],
      "execution_count": 4,
      "outputs": [
        {
          "output_type": "execute_result",
          "data": {
            "application/vnd.google.colaboratory.intrinsic+json": {
              "type": "string"
            },
            "text/plain": [
              "'안녕하세요 한림대학교에 재학중인 김도경입니다 . 열심히 공부하고 있어요 .'"
            ]
          },
          "metadata": {
            "tags": []
          },
          "execution_count": 4
        }
      ]
    },
    {
      "cell_type": "code",
      "metadata": {
        "id": "jeZPdsa8jlaq",
        "colab_type": "code",
        "colab": {
          "base_uri": "https://localhost:8080/",
          "height": 34
        },
        "outputId": "b0d2a211-e000-4268-c8eb-0718a7bc37d5"
      },
      "source": [
        "words = text.split(' ')\n",
        "words"
      ],
      "execution_count": 5,
      "outputs": [
        {
          "output_type": "execute_result",
          "data": {
            "text/plain": [
              "['안녕하세요', '한림대학교에', '재학중인', '김도경입니다', '.', '열심히', '공부하고', '있어요', '.']"
            ]
          },
          "metadata": {
            "tags": []
          },
          "execution_count": 5
        }
      ]
    },
    {
      "cell_type": "code",
      "metadata": {
        "id": "aALpBJkMjsJi",
        "colab_type": "code",
        "colab": {}
      },
      "source": [
        "word_to_id = {}\n",
        "id_to_word = {}\n",
        "\n",
        "for word in words:\n",
        "  if word not in word_to_id:\n",
        "    new_id = len(word_to_id)\n",
        "    word_to_id[word] = new_id\n",
        "    id_to_word[new_id] = word"
      ],
      "execution_count": 6,
      "outputs": []
    },
    {
      "cell_type": "code",
      "metadata": {
        "id": "FqVL9G-tkaUx",
        "colab_type": "code",
        "colab": {
          "base_uri": "https://localhost:8080/",
          "height": 158
        },
        "outputId": "9b786649-f39e-4f7f-f513-1fd7c9a584db"
      },
      "source": [
        "word_to_id"
      ],
      "execution_count": 7,
      "outputs": [
        {
          "output_type": "execute_result",
          "data": {
            "text/plain": [
              "{'.': 4,\n",
              " '공부하고': 6,\n",
              " '김도경입니다': 3,\n",
              " '안녕하세요': 0,\n",
              " '열심히': 5,\n",
              " '있어요': 7,\n",
              " '재학중인': 2,\n",
              " '한림대학교에': 1}"
            ]
          },
          "metadata": {
            "tags": []
          },
          "execution_count": 7
        }
      ]
    },
    {
      "cell_type": "code",
      "metadata": {
        "id": "M00Wi_3hmCsx",
        "colab_type": "code",
        "colab": {
          "base_uri": "https://localhost:8080/",
          "height": 158
        },
        "outputId": "301c19d9-7d3e-4793-e8b6-cb824035b198"
      },
      "source": [
        "id_to_word"
      ],
      "execution_count": 8,
      "outputs": [
        {
          "output_type": "execute_result",
          "data": {
            "text/plain": [
              "{0: '안녕하세요',\n",
              " 1: '한림대학교에',\n",
              " 2: '재학중인',\n",
              " 3: '김도경입니다',\n",
              " 4: '.',\n",
              " 5: '열심히',\n",
              " 6: '공부하고',\n",
              " 7: '있어요'}"
            ]
          },
          "metadata": {
            "tags": []
          },
          "execution_count": 8
        }
      ]
    },
    {
      "cell_type": "code",
      "metadata": {
        "id": "Klis1x4wm-6E",
        "colab_type": "code",
        "colab": {
          "base_uri": "https://localhost:8080/",
          "height": 34
        },
        "outputId": "ed75c77e-0766-4017-bf2e-c0fde6ae17df"
      },
      "source": [
        "[w for w in words]"
      ],
      "execution_count": 16,
      "outputs": [
        {
          "output_type": "execute_result",
          "data": {
            "text/plain": [
              "['안녕하세요', '한림대학교에', '재학중인', '김도경입니다', '.', '열심히', '공부하고', '있어요', '.']"
            ]
          },
          "metadata": {
            "tags": []
          },
          "execution_count": 16
        }
      ]
    },
    {
      "cell_type": "code",
      "metadata": {
        "id": "H_DtJOebmEXJ",
        "colab_type": "code",
        "colab": {}
      },
      "source": [
        "corpus = [word_to_id[w] for w in words]"
      ],
      "execution_count": 20,
      "outputs": []
    },
    {
      "cell_type": "code",
      "metadata": {
        "id": "BJuT4cXDnhSK",
        "colab_type": "code",
        "colab": {
          "base_uri": "https://localhost:8080/",
          "height": 34
        },
        "outputId": "5ac7f9fa-b452-49d7-ab0a-4e185dc0ac61"
      },
      "source": [
        "corpus = np.array(corpus)\n",
        "corpus"
      ],
      "execution_count": 23,
      "outputs": [
        {
          "output_type": "execute_result",
          "data": {
            "text/plain": [
              "array([0, 1, 2, 3, 4, 5, 6, 7, 4])"
            ]
          },
          "metadata": {
            "tags": []
          },
          "execution_count": 23
        }
      ]
    },
    {
      "cell_type": "code",
      "metadata": {
        "id": "RRadhg-9nq2C",
        "colab_type": "code",
        "colab": {}
      },
      "source": [
        "def preprocess(text):\n",
        "  text.lower()# 영어일 경우\n",
        "  text = text.replace('.',' .')\n",
        "  words = text.split(' ')\n",
        "\n",
        "  word_to_id = {}\n",
        "  id_to_word = {}\n",
        "\n",
        "  for word in words:\n",
        "    if word not in word_to_id:\n",
        "      id_idx = len(word_to_id)\n",
        "      word_to_id[word] = id_idx\n",
        "      id_to_word[id_idx] = word\n",
        "  \n",
        "  corpus = [word_to_id[w] for w in words]\n",
        "  corpus = np.array(corpus)\n",
        "\n",
        "  return corpus, word_to_id, id_to_word\n"
      ],
      "execution_count": 24,
      "outputs": []
    },
    {
      "cell_type": "code",
      "metadata": {
        "id": "U6ddK3VtpKBL",
        "colab_type": "code",
        "colab": {}
      },
      "source": [
        "text = '안녕하세요 한림대학교에 재학중인 김도경입니다. 열심히 공부하고 있어요.'\n",
        "corpus, word_to_id, id_to_word = preprocess(text)"
      ],
      "execution_count": 25,
      "outputs": []
    },
    {
      "cell_type": "code",
      "metadata": {
        "id": "7E690u0MpTsu",
        "colab_type": "code",
        "colab": {
          "base_uri": "https://localhost:8080/",
          "height": 70
        },
        "outputId": "3913ac80-4d56-475b-ee7b-960e35f177d4"
      },
      "source": [
        "print(corpus)\n",
        "print(word_to_id)\n",
        "print(id_to_word)"
      ],
      "execution_count": 26,
      "outputs": [
        {
          "output_type": "stream",
          "text": [
            "[0 1 2 3 4 5 6 7 4]\n",
            "{'안녕하세요': 0, '한림대학교에': 1, '재학중인': 2, '김도경입니다': 3, '.': 4, '열심히': 5, '공부하고': 6, '있어요': 7}\n",
            "{0: '안녕하세요', 1: '한림대학교에', 2: '재학중인', 3: '김도경입니다', 4: '.', 5: '열심히', 6: '공부하고', 7: '있어요'}\n"
          ],
          "name": "stdout"
        }
      ]
    },
    {
      "cell_type": "markdown",
      "metadata": {
        "id": "tUUqRzY1p92F",
        "colab_type": "text"
      },
      "source": [
        "###  분포가설\n",
        "- 분포가설이란 단어의 의미는 주변 단어에 의해 형성된다는 것이다.\n",
        "\n",
        "### 동시발생 행렬"
      ]
    },
    {
      "cell_type": "code",
      "metadata": {
        "id": "lt0MbukGpYaP",
        "colab_type": "code",
        "colab": {
          "base_uri": "https://localhost:8080/",
          "height": 52
        },
        "outputId": "ab024cb1-4175-4db4-ce15-9c3aaefd3ec0"
      },
      "source": [
        "text = 'You say goodbye and I say hello.'\n",
        "corpus, word_to_id, id_to_word = preprocess(text)\n",
        "print(corpus)\n",
        "print(id_to_word)"
      ],
      "execution_count": 27,
      "outputs": [
        {
          "output_type": "stream",
          "text": [
            "[0 1 2 3 4 1 5 6]\n",
            "{0: 'You', 1: 'say', 2: 'goodbye', 3: 'and', 4: 'I', 5: 'hello', 6: '.'}\n"
          ],
          "name": "stdout"
        }
      ]
    },
    {
      "cell_type": "code",
      "metadata": {
        "id": "-SfOUps7rnKv",
        "colab_type": "code",
        "colab": {}
      },
      "source": [
        "for i in len(word_to_id):\n",
        "  \n"
      ],
      "execution_count": null,
      "outputs": []
    }
  ]
}