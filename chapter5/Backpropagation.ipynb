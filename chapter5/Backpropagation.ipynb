{
  "nbformat": 4,
  "nbformat_minor": 0,
  "metadata": {
    "colab": {
      "name": "Backpropagation.ipynb",
      "provenance": [],
      "authorship_tag": "ABX9TyPDLi9a7DBRyG9AQBK+KCrI",
      "include_colab_link": true
    },
    "kernelspec": {
      "name": "python3",
      "display_name": "Python 3"
    }
  },
  "cells": [
    {
      "cell_type": "markdown",
      "metadata": {
        "id": "view-in-github",
        "colab_type": "text"
      },
      "source": [
        "<a href=\"https://colab.research.google.com/github/KIMDOKYOUNG/DeepLearning/blob/master/chapter5/Backpropagation.ipynb\" target=\"_parent\"><img src=\"https://colab.research.google.com/assets/colab-badge.svg\" alt=\"Open In Colab\"/></a>"
      ]
    },
    {
      "cell_type": "markdown",
      "metadata": {
        "id": "0i1dzcDngbfd",
        "colab_type": "text"
      },
      "source": [
        "\n",
        "## 밑바닥부터 시작하는 딥러닝 1 뽀개기\n",
        "###  CHAPTER 5 오차역전파법 ( Backpropagation )\n",
        "#### 일자 : 2020-08-15\n",
        "\n",
        "- computational graph\n",
        "- chain rule\n",
        "- bachkpropagation\n",
        "- MulLayer\n",
        "- AddLayer\n",
        "- ReLU\n",
        "- Sigmoid\n",
        "- Affine transformation(Affine Layer) \n",
        "- SoftmaxLayer\n",
        "- gradient check\n",
        " "
      ]
    },
    {
      "cell_type": "code",
      "metadata": {
        "id": "qhuOkoTmgW3Z",
        "colab_type": "code",
        "colab": {}
      },
      "source": [
        ""
      ],
      "execution_count": null,
      "outputs": []
    }
  ]
}