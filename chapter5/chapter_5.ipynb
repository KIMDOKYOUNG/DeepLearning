{
  "nbformat": 4,
  "nbformat_minor": 0,
  "metadata": {
    "colab": {
      "name": "chapter_5.ipynb",
      "provenance": [],
      "collapsed_sections": [],
      "toc_visible": true,
      "authorship_tag": "ABX9TyNVCNhOvA/1XATi+2FDPpie",
      "include_colab_link": true
    },
    "kernelspec": {
      "name": "python3",
      "display_name": "Python 3"
    }
  },
  "cells": [
    {
      "cell_type": "markdown",
      "metadata": {
        "id": "view-in-github",
        "colab_type": "text"
      },
      "source": [
        "<a href=\"https://colab.research.google.com/github/KIMDOKYOUNG/DeepLearning/blob/master/chapter5/chapter_5.ipynb\" target=\"_parent\"><img src=\"https://colab.research.google.com/assets/colab-badge.svg\" alt=\"Open In Colab\"/></a>"
      ]
    },
    {
      "cell_type": "markdown",
      "metadata": {
        "id": "NSIUEPpt4An0",
        "colab_type": "text"
      },
      "source": [
        "\n",
        "## 밑바닥부터 시작하는 딥러닝 1 뽀개기\n",
        "#### CHAPTER 5 오차역전파법 \n",
        "#### 일자 : 2020-08-16\n",
        "\n",
        "- 수치미분은 구현이 쉽지만 계산 시간이 오래걸린다. \n",
        "- 가중치 매개변수의 기울기를 효율적으로 계산하는 오차역전파법!\n",
        "\n",
        "---\n",
        "\n",
        "## 덧셈, 곱셈의 역전파 => 계산 그래프를 사용해서 계산 과정을 보면 쉽다. \n",
        "\n",
        "- 덧셈의 역전파에서는 상류의 값을 그대로 흘려보내서 순방향 입력 신호의 값이 필요하지 않다.\n",
        "- 곱섬의 역전파는 상류의 값에 순방향 입력 신호를 서로 바꿔서 곱한 값을 흘려보낸다.  "
      ]
    },
    {
      "cell_type": "markdown",
      "metadata": {
        "id": "i0QzkAkBVcX5",
        "colab_type": "text"
      },
      "source": [
        "## 계산 그래프 \n",
        "\n"
      ]
    },
    {
      "cell_type": "markdown",
      "metadata": {
        "id": "5fN9pDwsK_W5",
        "colab_type": "text"
      },
      "source": [
        "## 곱셈 계층 \n"
      ]
    },
    {
      "cell_type": "code",
      "metadata": {
        "id": "EvefRTAL397R",
        "colab_type": "code",
        "colab": {}
      },
      "source": [
        "class MulLayer:\n",
        "  \n",
        "  def __init(self):\n",
        "    self.x = none\n",
        "    self.y = none\n",
        "  \n",
        "  def forward(self,x,y):\n",
        "    self.x = x\n",
        "    self.y = y\n",
        "    out = x * y\n",
        "\n",
        "    return out\n",
        "  \n",
        "  def backward(self, d_out): # 상류의 값(미분 값)에 순방향 입력 신호를 서로 바꿔서 곱한 값을 흘려보낸다. \n",
        "    d_x = d_out * self.y\n",
        "    d_y = d_out * self.x\n",
        "\n",
        "    return d_x, d_y \n"
      ],
      "execution_count": null,
      "outputs": []
    },
    {
      "cell_type": "markdown",
      "metadata": {
        "id": "z4HUiFJxLERD",
        "colab_type": "text"
      },
      "source": [
        "## 곱셈 계층 순전파 "
      ]
    },
    {
      "cell_type": "code",
      "metadata": {
        "id": "aVEHNcDaHBld",
        "colab_type": "code",
        "colab": {
          "base_uri": "https://localhost:8080/",
          "height": 52
        },
        "outputId": "d33301f9-106f-4514-fa99-50a2fdc568fa"
      },
      "source": [
        "apple = 100\n",
        "apple_num = 2\n",
        "tax = 1.1\n",
        "\n",
        "mul_apple_layer = MulLayer()\n",
        "mul_tax_layer = MulLayer()\n",
        "\n",
        "apple_price = mul_apple_layer.forward(apple,apple_num)\n",
        "price = mul_tax_layer.forward(apple_price, tax)\n",
        "\n",
        "print(apple_price)\n",
        "print(price)"
      ],
      "execution_count": null,
      "outputs": [
        {
          "output_type": "stream",
          "text": [
            "200\n",
            "220.00000000000003\n"
          ],
          "name": "stdout"
        }
      ]
    },
    {
      "cell_type": "markdown",
      "metadata": {
        "id": "oZm1rWGPLHkx",
        "colab_type": "text"
      },
      "source": [
        "## 곱셈 계층 역전파 "
      ]
    },
    {
      "cell_type": "code",
      "metadata": {
        "id": "ZqQSLOp0IUJ5",
        "colab_type": "code",
        "colab": {
          "base_uri": "https://localhost:8080/",
          "height": 34
        },
        "outputId": "cda8de93-15a5-41e0-897e-03a101a180d2"
      },
      "source": [
        "dprice = 1\n",
        "\n",
        "dapple_price, dtax = mul_tax_layer.backward(dprice)\n",
        "dapple, dapple_num = mul_apple_layer.backward(dapple_price)\n",
        "\n",
        "print(dapple, dapple_num, dtax)"
      ],
      "execution_count": null,
      "outputs": [
        {
          "output_type": "stream",
          "text": [
            "2.2 110.00000000000001 200\n"
          ],
          "name": "stdout"
        }
      ]
    },
    {
      "cell_type": "markdown",
      "metadata": {
        "id": "V8W6bc5ALJmn",
        "colab_type": "text"
      },
      "source": [
        "## 덧셈 계층"
      ]
    },
    {
      "cell_type": "code",
      "metadata": {
        "id": "YQaFjhMlJoEF",
        "colab_type": "code",
        "colab": {}
      },
      "source": [
        "class AddLayer:\n",
        "\n",
        "  def __init__(self):\n",
        "    pass\n",
        "\n",
        "  def forward(self,x,y):\n",
        "    out = x + y\n",
        "    return out\n",
        "\n",
        "  def backward(self, d_out):\n",
        "    d_x = d_out * 1\n",
        "    d_y = d_out * 1\n",
        "    return d_x, d_y"
      ],
      "execution_count": null,
      "outputs": []
    },
    {
      "cell_type": "markdown",
      "metadata": {
        "id": "t28VwtQrK1LW",
        "colab_type": "text"
      },
      "source": [
        "## 사과 2개 귤 3개 사는 상황 구현 "
      ]
    },
    {
      "cell_type": "code",
      "metadata": {
        "id": "t-VX0l9UKryF",
        "colab_type": "code",
        "colab": {
          "base_uri": "https://localhost:8080/",
          "height": 318
        },
        "outputId": "4cc7efb8-dc34-4de8-ff1b-3a2cd3946d4e"
      },
      "source": [
        "apple = 100\n",
        "apple_num = 2\n",
        "orange = 150\n",
        "orange_num = 3\n",
        "tax = 1.1\n",
        "\n",
        "dprice = 1\n",
        "\n",
        "mul_apple_layer = MulLayer()\n",
        "mul_orange_layer = MulLayer()\n",
        "mul_tax_layer = MulLayer()\n",
        "add_apple_orange_layer = AddLayer()\n",
        "\n",
        "apple_price = mul_apple_layer.forward(apple,apple_num)\n",
        "orange_price = mul_orange_layer.forward(orange,orange_num)\n",
        "fruit_price = add_apple_orange_layer.forward(apple_price, orange_price)\n",
        "price = mul_tax_layer.forward(fruit_price, tax)\n",
        "\n",
        "print(\"**** 순전파 ****\\n\")\n",
        "print(\"apple_price : {} \\n orange_price : {} \\n fruit_price : {} \\n price : {}\\n\".format(apple_price, orange_price, fruit_price, price))\n",
        "\n",
        "\n",
        "dfruit_price, dtax = mul_tax_layer.backward(dprice)\n",
        "dapple_price, dorange_price = add_apple_orange_layer.backward(dfruit_price)\n",
        "dapple, dapple_num = mul_apple_layer.backward(dapple_price)\n",
        "dorange, dorange_num = mul_orange_layer.backward(dorange_price)\n",
        "print(\"**** 역전파 ****\\n\")\n",
        "print(\"dapple : {} \\n dapple_num : {} \\n dapple_price : {} \\n dorange : {} \\n dorange_num : {} \\n dorange_price : {} \\n dfruit_price : {} \\n dprice : {}\".format(dapple, dapple_num ,dapple_price, dorange, dorange_num, dorange_price, dfruit_price, dprice))\n",
        "\n"
      ],
      "execution_count": null,
      "outputs": [
        {
          "output_type": "stream",
          "text": [
            "**** 순전파 ****\n",
            "\n",
            "apple_price : 200 \n",
            " orange_price : 450 \n",
            " fruit_price : 650 \n",
            " price : 715.0000000000001\n",
            "\n",
            "**** 역전파 ****\n",
            "\n",
            "dapple : 2.2 \n",
            " dapple_num : 110.00000000000001 \n",
            " dapple_price : 1.1 \n",
            " dorange : 3.3000000000000003 \n",
            " dorange_num : 165.0 \n",
            " dorange_price : 1.1 \n",
            " dfruit_price : 1.1 \n",
            " dprice : 1\n"
          ],
          "name": "stdout"
        }
      ]
    },
    {
      "cell_type": "markdown",
      "metadata": {
        "id": "zcIJWV90Thh0",
        "colab_type": "text"
      },
      "source": [
        "## 활성화 함수 계층 구현하기 \n",
        "\n",
        "### 1. ReLU 계층 \n",
        "- ReLU 순전파\n",
        "  - 입력인 x가 0보다 크면 x가 그대로 전달되고, 0보다 작으면 전달 되지 않는다. (0이 전달 되는 것과 같다) \n",
        "- ReLU 역전파  \n",
        "  - 순전파 때의 입력인 x가 0보다 크면 상류의 값을 그대로 하류로 흘린다. \n",
        "  - 순전파 때 x가 0 이하면 역전파 때는 하류로 신호를 보내지 않는다. "
      ]
    },
    {
      "cell_type": "code",
      "metadata": {
        "id": "S_DVLOPrMrr6",
        "colab_type": "code",
        "colab": {}
      },
      "source": [
        "class ReLU:\n",
        "  def __init__(self):\n",
        "    self.x = none\n",
        "  \n",
        "  def forward(self, x):\n",
        "    self.x = x\n",
        "    \n",
        "    return self.x\n",
        "  \n",
        "  def backward(self, d_out):\n",
        "    if self.x > 0:\n",
        "      return 1\n",
        "    else :\n",
        "      return 0"
      ],
      "execution_count": null,
      "outputs": []
    },
    {
      "cell_type": "markdown",
      "metadata": {
        "id": "Q1ECiDUXVdPC",
        "colab_type": "text"
      },
      "source": [
        "내가 생각했던 코드... 하지만 어딘가 이상하다 \n",
        "\n",
        "masking을 해야 된다! "
      ]
    },
    {
      "cell_type": "code",
      "metadata": {
        "id": "R76-e0C9ViVn",
        "colab_type": "code",
        "colab": {
          "base_uri": "https://localhost:8080/",
          "height": 87
        },
        "outputId": "eacd2c66-4378-4d6a-baff-660f7d3d584c"
      },
      "source": [
        "import  numpy as np \n",
        "\n",
        "x = np.array([[1.0,-0.5],[-2.0, 3.0]])\n",
        "print(x)\n",
        "\n",
        "mask = (x <= 0)\n",
        "print(mask)\n"
      ],
      "execution_count": null,
      "outputs": [
        {
          "output_type": "stream",
          "text": [
            "[[ 1.  -0.5]\n",
            " [-2.   3. ]]\n",
            "[[False  True]\n",
            " [ True False]]\n"
          ],
          "name": "stdout"
        }
      ]
    },
    {
      "cell_type": "code",
      "metadata": {
        "id": "7Z2deUjGV_gr",
        "colab_type": "code",
        "colab": {}
      },
      "source": [
        "x[mask] = 0"
      ],
      "execution_count": null,
      "outputs": []
    },
    {
      "cell_type": "code",
      "metadata": {
        "id": "fGR350l7WOeV",
        "colab_type": "code",
        "colab": {
          "base_uri": "https://localhost:8080/",
          "height": 52
        },
        "outputId": "7cb45a88-73be-487e-a9e9-eaeddc7554ba"
      },
      "source": [
        "x"
      ],
      "execution_count": null,
      "outputs": [
        {
          "output_type": "execute_result",
          "data": {
            "text/plain": [
              "array([[1., 0.],\n",
              "       [0., 3.]])"
            ]
          },
          "metadata": {
            "tags": []
          },
          "execution_count": 10
        }
      ]
    },
    {
      "cell_type": "markdown",
      "metadata": {
        "id": "mPyBcWOQWXM4",
        "colab_type": "text"
      },
      "source": [
        "\n",
        "  - True가 0이 된다. 즉, 0보다 작은 수가 0이 된다.\n",
        "  - masking을 해서 0보다 작은 수를 0으로 만들고 0보다 큰 수를 1로 만든다. "
      ]
    },
    {
      "cell_type": "code",
      "metadata": {
        "id": "BJi3qbF3WQwI",
        "colab_type": "code",
        "colab": {}
      },
      "source": [
        "class ReLU:\n",
        "  def __init__(self):\n",
        "    self.mask = none # 초기화 시켜주기 \n",
        "  \n",
        "  def forward(self, x):\n",
        "    self.mask = (x <= 0)\n",
        "    out = x.copy()\n",
        "    out[maxk] = 0\n",
        "\n",
        "    return out\n",
        "  \n",
        "  def backward(self, d_out):\n",
        "    d_out[self.mask] = 0\n",
        "    d_x = d_out\n",
        "\n",
        "    return d_x"
      ],
      "execution_count": null,
      "outputs": []
    },
    {
      "cell_type": "markdown",
      "metadata": {
        "id": "8t7Eg7OZyQyS",
        "colab_type": "text"
      },
      "source": [
        "## Sigmoid 계층 \n",
        "\n",
        "- 순전파와 역전파를 직접 계산 그래프를 그리면 더 이해하기 쉽다. \n",
        "\n",
        "그림 첨후 할 예정 ! \n",
        "\n",
        "- sigmoid 계산을 할때 중간 과정을 하나씩 다 안 계산해도 한번에 순전파의 출력만을 가지고 계산할 수 있다. "
      ]
    },
    {
      "cell_type": "code",
      "metadata": {
        "id": "5DOTKXKJXdSy",
        "colab_type": "code",
        "colab": {}
      },
      "source": [
        "class Sigmoid:\n",
        "\n",
        "  def __init__(self):\n",
        "    self.out = None\n",
        "  \n",
        "  def forward(self, x):\n",
        "    self.out = 1 / (1 + np.exp(-x))\n",
        "\n",
        "    return self.out\n",
        "  \n",
        "  def backward(self, d_out):\n",
        "    d_x = d_out * (1 - self.out) * self.out\n",
        "\n",
        "    return d_x"
      ],
      "execution_count": null,
      "outputs": []
    },
    {
      "cell_type": "markdown",
      "metadata": {
        "id": "8D4xOWuAE_g7",
        "colab_type": "text"
      },
      "source": [
        "- 순전파의 출력을 변수 out에 저장해서 역전파를 계산할 때 사용한다. "
      ]
    },
    {
      "cell_type": "markdown",
      "metadata": {
        "id": "UG9iKCem3JAq",
        "colab_type": "text"
      },
      "source": [
        "## Affine/Softmax 계층 구현하기\n",
        "\n",
        "---\n",
        "\n",
        "## Affine 계층 \n",
        "\n",
        "- 신경망의 순전파 때 수행하는 행렬의 내적을 affine transformation이라고 한다. "
      ]
    },
    {
      "cell_type": "code",
      "metadata": {
        "id": "bgfriGzH2xXf",
        "colab_type": "code",
        "colab": {
          "base_uri": "https://localhost:8080/",
          "height": 87
        },
        "outputId": "c870ab40-1fe3-4f1e-c373-7f90809dfa85"
      },
      "source": [
        "X = np.random.rand(2) \n",
        "W = np.random.rand(2,3)\n",
        "B = np.random.rand(3)\n",
        "\n",
        "print('X.shape :',X.shape)\n",
        "print('W.shape :',W.shape)\n",
        "print('B.shape :',B.shape)\n",
        "\n",
        "Y = np.dot(X,W) + B\n",
        "print('Y.shape :',Y.shape)"
      ],
      "execution_count": null,
      "outputs": [
        {
          "output_type": "stream",
          "text": [
            "X.shape : (2,)\n",
            "W.shape : (2, 3)\n",
            "B.shape : (3,)\n",
            "Y.shape : (3,)\n"
          ],
          "name": "stdout"
        }
      ]
    },
    {
      "cell_type": "markdown",
      "metadata": {
        "id": "JsOhjICPyeUY",
        "colab_type": "text"
      },
      "source": [
        "## 배치용 Affine 계층 \n",
        "- 순전파의 편향 덧셈은 각각의 원소에 더해진다.\n",
        "- 역전파의 경우 각 데이터의 역전파 값이 평향의 원소에 모여야된다. 열방향 (axis = 0)에 대해서 총합을 구한다."
      ]
    },
    {
      "cell_type": "code",
      "metadata": {
        "id": "zTFpfd8hxh6k",
        "colab_type": "code",
        "colab": {
          "base_uri": "https://localhost:8080/",
          "height": 52
        },
        "outputId": "12be8008-2eeb-4168-9def-f3c55ebeea6d"
      },
      "source": [
        "dY = np.array([[1,2,3],[4,5,6]])\n",
        "dY"
      ],
      "execution_count": null,
      "outputs": [
        {
          "output_type": "execute_result",
          "data": {
            "text/plain": [
              "array([[1, 2, 3],\n",
              "       [4, 5, 6]])"
            ]
          },
          "metadata": {
            "tags": []
          },
          "execution_count": 20
        }
      ]
    },
    {
      "cell_type": "code",
      "metadata": {
        "id": "ZtLTNztbzfKe",
        "colab_type": "code",
        "colab": {
          "base_uri": "https://localhost:8080/",
          "height": 34
        },
        "outputId": "4bdd81fd-e978-45ce-e40b-786404d2efa2"
      },
      "source": [
        "dB = np.sum(dY,axis = 0)\n",
        "dB"
      ],
      "execution_count": null,
      "outputs": [
        {
          "output_type": "execute_result",
          "data": {
            "text/plain": [
              "array([5, 7, 9])"
            ]
          },
          "metadata": {
            "tags": []
          },
          "execution_count": 21
        }
      ]
    },
    {
      "cell_type": "markdown",
      "metadata": {
        "id": "cs-lM4Eszknz",
        "colab_type": "text"
      },
      "source": [
        "편향을 다시 (3,)로 만들어야 다시 순전파를 할때 사용할 수 있다. "
      ]
    },
    {
      "cell_type": "code",
      "metadata": {
        "id": "Vy5sADUpzjTN",
        "colab_type": "code",
        "colab": {}
      },
      "source": [
        "class Affine:\n",
        "\n",
        "  def __init__(self,W,b):\n",
        "\n",
        "    self.W = W\n",
        "    self.b = b\n",
        "    self.x = None\n",
        "    self.dW = None\n",
        "    self.db = None\n",
        "  \n",
        "  def forward(self,x):\n",
        "    self.x = x\n",
        "    out = np.dot(x,self.W) + self.b\n",
        "    return out\n",
        "\n",
        "  def backward(self,d_out):\n",
        "\n",
        "    d_x = np.dot(d_out,self.W.T)\n",
        "    self.dW = np.dot(self.x.T,d_out)\n",
        "    self.db = np.sum(d_out, axis = 0) # 역전파 값인 d_out가 열방향으로 모여서 편향이 된다. \n",
        "\n",
        "    return d_x\n"
      ],
      "execution_count": null,
      "outputs": []
    },
    {
      "cell_type": "markdown",
      "metadata": {
        "id": "r4dW6RM_3hQH",
        "colab_type": "text"
      },
      "source": [
        "하지만 위의 식은 4차원 데이터(텐서)인 경우는 고려하지 않았다. "
      ]
    },
    {
      "cell_type": "code",
      "metadata": {
        "id": "76fQVzGi3Gr3",
        "colab_type": "code",
        "colab": {
          "base_uri": "https://localhost:8080/",
          "height": 34
        },
        "outputId": "81888f7a-9a4d-4327-cc6d-d6b25f088572"
      },
      "source": [
        "x = np.array([[[[1,2,3],[2,3,4],[3,4,5]],[[1,2,3],[2,3,4],[3,4,5]]]])\n",
        "x.shape"
      ],
      "execution_count": null,
      "outputs": [
        {
          "output_type": "execute_result",
          "data": {
            "text/plain": [
              "(1, 2, 3, 3)"
            ]
          },
          "metadata": {
            "tags": []
          },
          "execution_count": 26
        }
      ]
    },
    {
      "cell_type": "code",
      "metadata": {
        "id": "yPq-8cJE8oDl",
        "colab_type": "code",
        "colab": {
          "base_uri": "https://localhost:8080/",
          "height": 34
        },
        "outputId": "8d6d915e-51c5-481c-eb11-51d57a6c9901"
      },
      "source": [
        "x1 = x.reshape(x.shape[0],-1)\n",
        "x1.shape"
      ],
      "execution_count": null,
      "outputs": [
        {
          "output_type": "execute_result",
          "data": {
            "text/plain": [
              "(1, 18)"
            ]
          },
          "metadata": {
            "tags": []
          },
          "execution_count": 27
        }
      ]
    },
    {
      "cell_type": "markdown",
      "metadata": {
        "id": "5L-iPzj29J7e",
        "colab_type": "text"
      },
      "source": [
        "## Softmax_with_Loss 계층\n",
        "\n"
      ]
    },
    {
      "cell_type": "code",
      "metadata": {
        "id": "8XnD7HafF6UE",
        "colab_type": "code",
        "colab": {}
      },
      "source": [
        "class ReLU:\n",
        "  \n",
        "  def __init__(self):\n",
        "    self.mask = None\n",
        "  \n",
        "  def forward(self,x):\n",
        "    self.mask = (x <= 0)\n",
        "    out = x.copy()\n",
        "    out[self.mask] = 0\n",
        "\n",
        "    return out\n",
        "  \n",
        "  def backward(self, d_out):\n",
        "    d_out[self.mask] = 0\n",
        "    d_x = d_out\n",
        "\n",
        "    return d_x"
      ],
      "execution_count": null,
      "outputs": []
    },
    {
      "cell_type": "code",
      "metadata": {
        "id": "VZlCzsEUdk16",
        "colab_type": "code",
        "colab": {}
      },
      "source": [
        "def softmax(x):\n",
        "    if x.ndim == 2:\n",
        "        x = x.T\n",
        "        x = x - np.max(x, axis=0)\n",
        "        y = np.exp(x) / np.sum(np.exp(x), axis=0)\n",
        "        return y.T \n",
        "\n",
        "    x = x - np.max(x) # 오버플로 대책\n",
        "    return np.exp(x) / np.sum(np.exp(x))\n"
      ],
      "execution_count": null,
      "outputs": []
    },
    {
      "cell_type": "code",
      "metadata": {
        "id": "mOD4KH5SgjAs",
        "colab_type": "code",
        "colab": {}
      },
      "source": [
        "def cross_entropy_error(y, t):\n",
        "    if y.ndim == 1:\n",
        "        t = t.reshape(1, t.size)\n",
        "        y = y.reshape(1, y.size)\n",
        "        \n",
        "    # 훈련 데이터가 원-핫 벡터라면 정답 레이블의 인덱스로 반환\n",
        "    if t.size == y.size:\n",
        "        t = t.argmax(axis=1)\n",
        "             \n",
        "    batch_size = y.shape[0]\n",
        "    return -np.sum(np.log(y[np.arange(batch_size), t] + 1e-7)) / batch_size"
      ],
      "execution_count": null,
      "outputs": []
    },
    {
      "cell_type": "code",
      "metadata": {
        "id": "J37Uif0v85UN",
        "colab_type": "code",
        "colab": {}
      },
      "source": [
        "class SoftmaxWithLoss:\n",
        "  def _init__(self):\n",
        "    self.loss = None # 손실\n",
        "    self.y = None # softmax의 출력 \n",
        "    self.t = None # 원핫인코딩 된 정답 레이블! \n",
        "  \n",
        "  def forward(self,x,t):\n",
        "    self.t = t\n",
        "    self.y = softmax(x)\n",
        "    self.loss = cross_entropy_error(self.y,self.t) # cross_entropy_error를 통해서 loss값을 구한다. \n",
        "    return self.loss\n",
        "\n",
        "  def backward(self,dout=1):\n",
        "    batch_size = self.t.shape[0]\n",
        "    if self.t.size == self.y.size: # 정답 레이블이 원-핫 인코딩 형태일 때\n",
        "        dx = (self.y - self.t) / batch_size\n",
        "    else:\n",
        "        dx = self.y.copy()\n",
        "        dx[np.arange(batch_size), self.t] -= 1\n",
        "        dx = dx / batch_size\n",
        "    \n",
        "    return dx\n",
        "\n",
        "  "
      ],
      "execution_count": null,
      "outputs": []
    },
    {
      "cell_type": "markdown",
      "metadata": {
        "id": "xXbs6rdIFN3N",
        "colab_type": "text"
      },
      "source": [
        "## 오차역전파법을 적용한 신경망 구현하기 "
      ]
    },
    {
      "cell_type": "code",
      "metadata": {
        "id": "oxEIBud-B3Mz",
        "colab_type": "code",
        "colab": {}
      },
      "source": [
        "class TwoLayerNet:\n",
        "  def __init__(self, input_size, hidden_size, output_size, weight_init_std = 0.01):\n",
        "    # 가중치 초기화\n",
        "    self.params = {}\n",
        "    self.params['W1']  = weight_init_std * np.random.randn(input_size, hidden_size)\n",
        "    self.params['b1'] = np.zeros(hidden_size)\n",
        "    self.params['W2']  = weight_init_std * np.random.randn(hidden_size, output_size)\n",
        "    self.params['b2'] = np.zeros(output_size)\n",
        "\n",
        "    # 계층 생성 \n",
        "    self.layers = {} # 딕셔너리에 넣기, 지금은 OrderedDict을 안써도 똑같이 나온다. \n",
        "    self.layers['Affine1'] = Affine(self.params['W1'], self.params['b1'])\n",
        "    self.layers['ReLU'] = ReLU()\n",
        "    self.layers['Affine2'] = Affine(self.params['W2'], self.params['b2'])\n",
        "\n",
        "    self.lastLayer = SoftmaxWithLoss()\n",
        "\n",
        "  def predict(self,x):\n",
        "    for layer in self.layers.values():\n",
        "      x = layer.forward(x)\n",
        "\n",
        "    return x\n",
        "\n",
        "  def loss (self,x,t):\n",
        "    y = self.predict(x)\n",
        "    \n",
        "    return self.lastLayer.forward(y,t) # SoftmaxWithLoss의 forward안에 cross_entropy_error를 거쳐 loss가 나온다.\n",
        "  \n",
        "  def accuracy(self, x, t):\n",
        "    y = self.predict(x)\n",
        "    y = np.argmax(y, axis = 1)\n",
        "    print(y)\n",
        "    if t.ndim != 1 : t = np.argmax(t, axis = 1)\n",
        "\n",
        "    accuracy = np.sum(y == t)/ float(x.shape[0]) # 배치 사이즈로 나눠준다. \n",
        "    \n",
        "    return accuracy\n",
        "\n",
        "  \n",
        "  \n",
        "  def numerical_gradient(self, x, t):\n",
        "    loss_W = lambda W: self.loss(x,t)\n",
        "\n",
        "    grads = {}\n",
        "    grads['W1'] = numerical_gradient(loss_W, self.params['W1'])\n",
        "    grads['b1'] = numerical_gradient(loss_W, self.params['b1'])\n",
        "    grads['W2'] = numerical_gradient(loss_W, self.params['W2'])\n",
        "    grads['b2'] = numerical_gradient(loss_W, self.params['b2'])\n",
        "\n",
        "    return grads\n",
        "\n",
        "  def gradient(self,x,t):\n",
        "\n",
        "    self.loss(x,t)\n",
        "\n",
        "    # 역전파 \n",
        "    d_out = 1\n",
        "    d_out = self.lastLayer.backward(d_out)\n",
        "\n",
        "    layers = list(self.layers.values())\n",
        "    layers.reverse()\n",
        "    for layer in layers:\n",
        "      d_out = layer.backward(d_out)\n",
        "    \n",
        "    grads = {}\n",
        "    grads['W1'], grads['b1'] = self.layers['Affine1'].dW, self.layers['Affine1'].db\n",
        "    grads['W2'], grads['b2'] = self.layers['Affine2'].dW, self.layers['Affine2'].db\n",
        "\n",
        "    return grads \n",
        "\n"
      ],
      "execution_count": null,
      "outputs": []
    },
    {
      "cell_type": "code",
      "metadata": {
        "id": "9XTHPupuNHyG",
        "colab_type": "code",
        "colab": {}
      },
      "source": [
        "def _numerical_gradient_no_batch(f,x):\n",
        "\n",
        "  h = 1e-4\n",
        "  grad = np.zeros_like(x) # 여기에 각 변수들의 grad를 넣을 수 있게 x와 shape이 같은 배열 생성 \n",
        "\n",
        "  for idx in range(x.size):\n",
        "    temp = x[idx]\n",
        "    x[idx] = float(temp) + h\n",
        "    fxh1 = f(x)\n",
        "    x[idx] = temp -h \n",
        "    fxh2 = f(x)\n",
        "    grad[idx] = (fxh1-fxh2)/ (2*h)\n",
        "    x[idx] = temp\n",
        "  \n",
        "  return grad \n",
        "\n"
      ],
      "execution_count": null,
      "outputs": []
    },
    {
      "cell_type": "code",
      "metadata": {
        "id": "2xe8OyuJVpfc",
        "colab_type": "code",
        "colab": {}
      },
      "source": [
        "def numerical_gradient(f,X):\n",
        "  if X.ndim == 1:\n",
        "    return _numerical_gradient_no_batch(f,X)\n",
        "  else : \n",
        "    grad = np.zeros_like(X)\n",
        "\n",
        "    for idx, x in enumerate(X):\n",
        "      grad[idx] = _numerical_gradient_no_batch(f,x)\n",
        "    \n",
        "    return grad"
      ],
      "execution_count": null,
      "outputs": []
    },
    {
      "cell_type": "code",
      "metadata": {
        "id": "a3DlpIv1Jks8",
        "colab_type": "code",
        "colab": {
          "base_uri": "https://localhost:8080/",
          "height": 34
        },
        "outputId": "27d8ba45-ed53-4e31-a644-5c00f19b25f8"
      },
      "source": [
        "a = [1,2,3]\n",
        "a.reverse()\n",
        "print(a)"
      ],
      "execution_count": null,
      "outputs": [
        {
          "output_type": "stream",
          "text": [
            "[3, 2, 1]\n"
          ],
          "name": "stdout"
        }
      ]
    },
    {
      "cell_type": "code",
      "metadata": {
        "id": "0vBFTGHwJomF",
        "colab_type": "code",
        "colab": {
          "base_uri": "https://localhost:8080/",
          "height": 87
        },
        "outputId": "fb618bed-785b-4643-a2c2-9aab1edda860"
      },
      "source": [
        "from mnist import load_mnist\n",
        "\n",
        "(x_train, t_train), (x_test, t_test) = load_mnist(normalize = True)\n",
        "\n",
        "network = TwoLayerNet(input_size=784, hidden_size= 50, output_size=10)\n",
        "\n",
        "x_batch = x_train[:3]\n",
        "t_batch = t_train[:3]\n",
        "\n",
        "grad_numerical = network.numerical_gradient(x_batch, t_batch)\n",
        "grad_backprop = network.gradient(x_batch, t_batch)\n",
        "\n",
        "for key in grad_numerical.keys():\n",
        "  diff = np.average(np.abs(grad_backprop[key] - grad_numerical[key]))\n",
        "  print(key + \":\"+str(diff))"
      ],
      "execution_count": null,
      "outputs": [
        {
          "output_type": "stream",
          "text": [
            "W1:3.321387254979375e-10\n",
            "b1:2.3090291293104352e-09\n",
            "W2:4.095204740833574e-09\n",
            "b2:1.399723953604548e-07\n"
          ],
          "name": "stdout"
        }
      ]
    },
    {
      "cell_type": "code",
      "metadata": {
        "id": "PWcnOLIUL450",
        "colab_type": "code",
        "colab": {
          "base_uri": "https://localhost:8080/",
          "height": 923
        },
        "outputId": "b1c04af6-c932-4fd9-eeeb-09d06228e2df"
      },
      "source": [
        "(x_train, t_train), (x_test, t_test) = load_mnist(normalize=True, one_hot_label=True)\n",
        "\n",
        "network = TwoLayerNet(input_size=784, hidden_size=50, output_size=10)\n",
        "\n",
        "iters_num = 10000\n",
        "train_size = x_train.shape[0]\n",
        "batch_size = 100\n",
        "learning_rate = 0.1\n",
        "\n",
        "train_loss_list = []\n",
        "train_acc_list = []\n",
        "test_acc_list = []\n",
        "\n",
        "iter_per_epoch = max(train_size / batch_size, 1)\n",
        "\n",
        "for i in range(iters_num):\n",
        "    batch_mask = np.random.choice(train_size, batch_size)\n",
        "    x_batch = x_train[batch_mask]\n",
        "    t_batch = t_train[batch_mask]\n",
        "    \n",
        "    # 기울기 계산\n",
        "    #grad = network.numerical_gradient(x_batch, t_batch) # 수치 미분 방식\n",
        "    grad = network.gradient(x_batch, t_batch) # 오차역전파법 방식(훨씬 빠르다)\n",
        "    \n",
        "    # 갱신\n",
        "    for key in ('W1', 'b1', 'W2', 'b2'):\n",
        "        network.params[key] -= learning_rate * grad[key]\n",
        "    \n",
        "    loss = network.loss(x_batch, t_batch)\n",
        "    train_loss_list.append(loss)\n",
        "    \n",
        "    if i % iter_per_epoch == 0:\n",
        "        train_acc = network.accuracy(x_train, t_train)\n",
        "        test_acc = network.accuracy(x_test, t_test)\n",
        "        train_acc_list.append(train_acc)\n",
        "        test_acc_list.append(test_acc)\n",
        "        print(train_acc, test_acc)\n"
      ],
      "execution_count": null,
      "outputs": [
        {
          "output_type": "stream",
          "text": [
            "[9 0 2 ... 9 2 9]\n",
            "[9 2 2 ... 9 9 9]\n",
            "0.12613333333333332 0.1314\n",
            "[3 0 4 ... 5 6 8]\n",
            "[7 2 1 ... 4 5 6]\n",
            "0.9068666666666667 0.9104\n",
            "[5 0 4 ... 5 6 8]\n",
            "[7 2 1 ... 4 5 6]\n",
            "0.9248 0.9272\n",
            "[5 0 4 ... 5 6 8]\n",
            "[7 2 1 ... 4 5 6]\n",
            "0.9374 0.9376\n",
            "[5 0 4 ... 5 6 8]\n",
            "[7 2 1 ... 4 5 6]\n",
            "0.9455666666666667 0.944\n",
            "[5 0 4 ... 5 6 8]\n",
            "[7 2 1 ... 4 5 6]\n",
            "0.95185 0.9512\n",
            "[5 0 4 ... 5 6 8]\n",
            "[7 2 1 ... 4 5 6]\n",
            "0.9570333333333333 0.9553\n",
            "[5 0 4 ... 5 6 8]\n",
            "[7 2 1 ... 4 5 6]\n",
            "0.96215 0.9573\n",
            "[5 0 4 ... 5 6 8]\n",
            "[7 2 1 ... 4 5 6]\n",
            "0.96495 0.9626\n",
            "[5 0 4 ... 5 6 8]\n",
            "[7 2 1 ... 4 5 6]\n",
            "0.9677833333333333 0.9643\n",
            "[5 0 4 ... 5 6 8]\n",
            "[7 2 1 ... 4 5 6]\n",
            "0.96945 0.9644\n",
            "[5 0 4 ... 5 6 8]\n",
            "[7 2 1 ... 4 5 6]\n",
            "0.9713166666666667 0.9652\n",
            "[5 0 4 ... 5 6 8]\n",
            "[7 2 1 ... 4 5 6]\n",
            "0.9736333333333334 0.9662\n",
            "[5 0 4 ... 5 6 8]\n",
            "[7 2 1 ... 4 5 6]\n",
            "0.9737666666666667 0.9671\n",
            "[5 0 4 ... 5 6 8]\n",
            "[7 2 1 ... 4 5 6]\n",
            "0.9767333333333333 0.9694\n",
            "[5 0 4 ... 5 6 8]\n",
            "[7 2 1 ... 4 5 6]\n",
            "0.9776333333333334 0.9684\n",
            "[5 0 4 ... 5 6 8]\n",
            "[7 2 1 ... 4 5 6]\n",
            "0.9791 0.9721\n"
          ],
          "name": "stdout"
        }
      ]
    },
    {
      "cell_type": "markdown",
      "metadata": {
        "id": "G9rduVaRRuIO",
        "colab_type": "text"
      },
      "source": [
        "정확도가 점점 올라가는 것을 볼 수 있다! \n",
        "\n",
        "이로써 오차역전파법을 사용해서 신경망 학습이 잘 된 것을 알 수 있다! "
      ]
    },
    {
      "cell_type": "code",
      "metadata": {
        "id": "wp8EmWyaPvME",
        "colab_type": "code",
        "colab": {}
      },
      "source": [
        ""
      ],
      "execution_count": null,
      "outputs": []
    }
  ]
}