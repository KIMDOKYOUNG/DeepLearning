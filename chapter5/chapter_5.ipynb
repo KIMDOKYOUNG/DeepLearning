{
  "nbformat": 4,
  "nbformat_minor": 0,
  "metadata": {
    "colab": {
      "name": "chapter_5.ipynb",
      "provenance": [],
      "authorship_tag": "ABX9TyPr4Donw8BDUw/0aWF/n0UZ",
      "include_colab_link": true
    },
    "kernelspec": {
      "name": "python3",
      "display_name": "Python 3"
    }
  },
  "cells": [
    {
      "cell_type": "markdown",
      "metadata": {
        "id": "view-in-github",
        "colab_type": "text"
      },
      "source": [
        "<a href=\"https://colab.research.google.com/github/KIMDOKYOUNG/DeepLearning/blob/master/chapter5/chapter_5.ipynb\" target=\"_parent\"><img src=\"https://colab.research.google.com/assets/colab-badge.svg\" alt=\"Open In Colab\"/></a>"
      ]
    },
    {
      "cell_type": "markdown",
      "metadata": {
        "id": "NSIUEPpt4An0",
        "colab_type": "text"
      },
      "source": [
        "\n",
        "## 밑바닥부터 시작하는 딥러닝 1 뽀개기\n",
        "#### CHAPTER 5 오차역전파법 \n",
        "#### 일자 : 2020-08-16\n",
        "\n",
        "- 수치미분은 구현이 쉽지만 계산 시간이 오래걸린다. \n",
        "- 가중치 매개변수의 기울기를 효율적으로 계산하는 오차역전파법!\n",
        "\n",
        "---\n",
        "\n",
        "## 덧셈, 곱셈의 역전파 => 계산 그래프를 사용해서 계산 과정을 보면 쉽다. \n",
        "\n",
        "- 덧셈의 역전파에서는 상류의 값을 그대로 흘려보내서 순방향 입력 신호의 값이 필요하지 않다.\n",
        "- 곱섬의 역전파는 상류의 값에 순방향 입력 신호를 서로 바꿔서 곱한 값을 흘려보낸다.  "
      ]
    },
    {
      "cell_type": "markdown",
      "metadata": {
        "id": "5fN9pDwsK_W5",
        "colab_type": "text"
      },
      "source": [
        "## 곱셈 계층 \n"
      ]
    },
    {
      "cell_type": "code",
      "metadata": {
        "id": "EvefRTAL397R",
        "colab_type": "code",
        "colab": {}
      },
      "source": [
        "class MulLayer:\n",
        "  \n",
        "  def __init(self):\n",
        "    self.x = none\n",
        "    self.y = none\n",
        "  \n",
        "  def forward(self,x,y):\n",
        "    self.x = x\n",
        "    self.y = y\n",
        "    out = x * y\n",
        "\n",
        "    return out\n",
        "  \n",
        "  def backward(self, d_out): # 상류의 값(미분 값)에 순방향 입력 신호를 서로 바꿔서 곱한 값을 흘려보낸다. \n",
        "    d_x = d_out * self.y\n",
        "    d_y = d_out * self.x\n",
        "\n",
        "    return d_x, d_y \n"
      ],
      "execution_count": 15,
      "outputs": []
    },
    {
      "cell_type": "markdown",
      "metadata": {
        "id": "z4HUiFJxLERD",
        "colab_type": "text"
      },
      "source": [
        "## 곱셈 계층 순전파 "
      ]
    },
    {
      "cell_type": "code",
      "metadata": {
        "id": "aVEHNcDaHBld",
        "colab_type": "code",
        "colab": {
          "base_uri": "https://localhost:8080/",
          "height": 52
        },
        "outputId": "9fa64046-a9fc-4a55-cec5-26f0623c3df9"
      },
      "source": [
        "apple = 100\n",
        "apple_num = 2\n",
        "tax = 1.1\n",
        "\n",
        "mul_apple_layer = MulLayer()\n",
        "mul_tax_layer = MulLayer()\n",
        "\n",
        "apple_price = mul_apple_layer.forward(apple,apple_num)\n",
        "price = mul_tax_layer.forward(apple_price, tax)\n",
        "\n",
        "print(apple_price)\n",
        "print(price)"
      ],
      "execution_count": 16,
      "outputs": [
        {
          "output_type": "stream",
          "text": [
            "200\n",
            "220.00000000000003\n"
          ],
          "name": "stdout"
        }
      ]
    },
    {
      "cell_type": "markdown",
      "metadata": {
        "id": "oZm1rWGPLHkx",
        "colab_type": "text"
      },
      "source": [
        "## 곱셈 계층 역전파 "
      ]
    },
    {
      "cell_type": "code",
      "metadata": {
        "id": "ZqQSLOp0IUJ5",
        "colab_type": "code",
        "colab": {
          "base_uri": "https://localhost:8080/",
          "height": 34
        },
        "outputId": "0f708ffe-413d-40a6-d74c-3c7941005a8a"
      },
      "source": [
        "dprice = 1\n",
        "\n",
        "dapple_price, dtax = mul_tax_layer.backward(dprice)\n",
        "dapple, dapple_num = mul_apple_layer.backward(dapple_price)\n",
        "\n",
        "print(dapple, dapple_num, dtax)"
      ],
      "execution_count": 19,
      "outputs": [
        {
          "output_type": "stream",
          "text": [
            "2.2 110.00000000000001 200\n"
          ],
          "name": "stdout"
        }
      ]
    },
    {
      "cell_type": "markdown",
      "metadata": {
        "id": "V8W6bc5ALJmn",
        "colab_type": "text"
      },
      "source": [
        "## 덧셈 계층"
      ]
    },
    {
      "cell_type": "code",
      "metadata": {
        "id": "YQaFjhMlJoEF",
        "colab_type": "code",
        "colab": {}
      },
      "source": [
        "class AddLayer:\n",
        "  def __init__(self):\n",
        "    pass\n",
        "\n",
        "  def forward(self,x,y):\n",
        "    out = x + y\n",
        "    return out\n",
        "\n",
        "  def backward(self, d_out):\n",
        "    d_x = d_out * 1\n",
        "    d_y = d_out * 1\n",
        "    return d_x, d_y"
      ],
      "execution_count": 26,
      "outputs": []
    },
    {
      "cell_type": "markdown",
      "metadata": {
        "id": "t28VwtQrK1LW",
        "colab_type": "text"
      },
      "source": [
        "## 사과 2개 귤 3개 사는 상황 구현 "
      ]
    },
    {
      "cell_type": "code",
      "metadata": {
        "id": "t-VX0l9UKryF",
        "colab_type": "code",
        "colab": {
          "base_uri": "https://localhost:8080/",
          "height": 241
        },
        "outputId": "ee53fe04-0ee9-4825-fb04-86ad928dc7b8"
      },
      "source": [
        "apple = 100\n",
        "apple_num = 2\n",
        "orange = 150\n",
        "orange_num = 3\n",
        "\n",
        "tax = 1.1\n",
        "\n",
        "mul_apple_layer = MulLayer()\n",
        "mul_orange_layer = MulLayer()\n",
        "mul_tax_layer = MulLayer()\n",
        "add_apple_orange_layer = AddLayer()\n",
        "\n",
        "apple_price = mul_apple_layer.forward(apple,apple_num)\n",
        "orange_price = mul_orange_layer.forward(orange,orange_num)\n",
        "fruit_price = add_apple_orange_layer(apple_price, orange_price)\n",
        "price = mul_tax_layer(fruit_price, tax)\n",
        "\n",
        "print(\"apple_price : \",apple_price)\n",
        "\n",
        "\n"
      ],
      "execution_count": 27,
      "outputs": [
        {
          "output_type": "error",
          "ename": "TypeError",
          "evalue": "ignored",
          "traceback": [
            "\u001b[0;31m---------------------------------------------------------------------------\u001b[0m",
            "\u001b[0;31mTypeError\u001b[0m                                 Traceback (most recent call last)",
            "\u001b[0;32m<ipython-input-27-464894859dfb>\u001b[0m in \u001b[0;36m<module>\u001b[0;34m()\u001b[0m\n\u001b[1;32m     13\u001b[0m \u001b[0mapple_price\u001b[0m \u001b[0;34m=\u001b[0m \u001b[0mmul_apple_layer\u001b[0m\u001b[0;34m.\u001b[0m\u001b[0mforward\u001b[0m\u001b[0;34m(\u001b[0m\u001b[0mapple\u001b[0m\u001b[0;34m,\u001b[0m\u001b[0mapple_num\u001b[0m\u001b[0;34m)\u001b[0m\u001b[0;34m\u001b[0m\u001b[0;34m\u001b[0m\u001b[0m\n\u001b[1;32m     14\u001b[0m \u001b[0morange_price\u001b[0m \u001b[0;34m=\u001b[0m \u001b[0mmul_orange_layer\u001b[0m\u001b[0;34m.\u001b[0m\u001b[0mforward\u001b[0m\u001b[0;34m(\u001b[0m\u001b[0morange\u001b[0m\u001b[0;34m,\u001b[0m\u001b[0morange_num\u001b[0m\u001b[0;34m)\u001b[0m\u001b[0;34m\u001b[0m\u001b[0;34m\u001b[0m\u001b[0m\n\u001b[0;32m---> 15\u001b[0;31m \u001b[0mfruit_price\u001b[0m \u001b[0;34m=\u001b[0m \u001b[0madd_apple_orange_layer\u001b[0m\u001b[0;34m(\u001b[0m\u001b[0mapple_price\u001b[0m\u001b[0;34m,\u001b[0m \u001b[0morange_price\u001b[0m\u001b[0;34m)\u001b[0m\u001b[0;34m\u001b[0m\u001b[0;34m\u001b[0m\u001b[0m\n\u001b[0m\u001b[1;32m     16\u001b[0m \u001b[0mprice\u001b[0m \u001b[0;34m=\u001b[0m \u001b[0mmul_tax_layer\u001b[0m\u001b[0;34m(\u001b[0m\u001b[0mfruit_price\u001b[0m\u001b[0;34m,\u001b[0m \u001b[0mtax\u001b[0m\u001b[0;34m)\u001b[0m\u001b[0;34m\u001b[0m\u001b[0;34m\u001b[0m\u001b[0m\n\u001b[1;32m     17\u001b[0m \u001b[0;34m\u001b[0m\u001b[0m\n",
            "\u001b[0;31mTypeError\u001b[0m: 'AddLayer' object is not callable"
          ]
        }
      ]
    },
    {
      "cell_type": "code",
      "metadata": {
        "id": "S_DVLOPrMrr6",
        "colab_type": "code",
        "colab": {}
      },
      "source": [
        ""
      ],
      "execution_count": null,
      "outputs": []
    }
  ]
}