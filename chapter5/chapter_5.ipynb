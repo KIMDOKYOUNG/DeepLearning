{
  "nbformat": 4,
  "nbformat_minor": 0,
  "metadata": {
    "colab": {
      "name": "chapter_5.ipynb",
      "provenance": [],
      "authorship_tag": "ABX9TyN8T2sDcT5qxdadDe+3VO5A",
      "include_colab_link": true
    },
    "kernelspec": {
      "name": "python3",
      "display_name": "Python 3"
    }
  },
  "cells": [
    {
      "cell_type": "markdown",
      "metadata": {
        "id": "view-in-github",
        "colab_type": "text"
      },
      "source": [
        "<a href=\"https://colab.research.google.com/github/KIMDOKYOUNG/DeepLearning/blob/master/chapter5/chapter_5.ipynb\" target=\"_parent\"><img src=\"https://colab.research.google.com/assets/colab-badge.svg\" alt=\"Open In Colab\"/></a>"
      ]
    },
    {
      "cell_type": "markdown",
      "metadata": {
        "id": "NSIUEPpt4An0",
        "colab_type": "text"
      },
      "source": [
        "\n",
        "## 밑바닥부터 시작하는 딥러닝 1 뽀개기\n",
        "#### CHAPTER 5 오차역전파법 \n",
        "#### 일자 : 2020-08-16\n",
        "\n",
        "- 수치미분은 구현이 쉽지만 계산 시간이 오래걸린다. \n",
        "- 가중치 매개변수의 기울기를 효율적으로 계산하는 오차역전파법!\n",
        "\n",
        "---\n",
        "\n",
        "## 덧셈, 곱셈의 역전파 => 계산 그래프를 사용해서 계산 과정을 보면 쉽다. \n",
        "\n",
        "- 덧셈의 역전파에서는 상류의 값을 그대로 흘려보내서 순방향 입력 신호의 값이 필요하지 않다.\n",
        "- 곱섬의 역전파는 상류의 값에 순방향 입력 신호를 서로 바꿔서 곱한 값을 흘려보낸다.  "
      ]
    },
    {
      "cell_type": "markdown",
      "metadata": {
        "id": "5fN9pDwsK_W5",
        "colab_type": "text"
      },
      "source": [
        "## 곱셈 계층 \n"
      ]
    },
    {
      "cell_type": "code",
      "metadata": {
        "id": "EvefRTAL397R",
        "colab_type": "code",
        "colab": {}
      },
      "source": [
        "class MulLayer:\n",
        "  \n",
        "  def __init(self):\n",
        "    self.x = none\n",
        "    self.y = none\n",
        "  \n",
        "  def forward(self,x,y):\n",
        "    self.x = x\n",
        "    self.y = y\n",
        "    out = x * y\n",
        "\n",
        "    return out\n",
        "  \n",
        "  def backward(self, d_out): # 상류의 값(미분 값)에 순방향 입력 신호를 서로 바꿔서 곱한 값을 흘려보낸다. \n",
        "    d_x = d_out * self.y\n",
        "    d_y = d_out * self.x\n",
        "\n",
        "    return d_x, d_y \n"
      ],
      "execution_count": 1,
      "outputs": []
    },
    {
      "cell_type": "markdown",
      "metadata": {
        "id": "z4HUiFJxLERD",
        "colab_type": "text"
      },
      "source": [
        "## 곱셈 계층 순전파 "
      ]
    },
    {
      "cell_type": "code",
      "metadata": {
        "id": "aVEHNcDaHBld",
        "colab_type": "code",
        "colab": {
          "base_uri": "https://localhost:8080/",
          "height": 52
        },
        "outputId": "387331bf-9f33-4c14-dc70-0b2b2733f953"
      },
      "source": [
        "apple = 100\n",
        "apple_num = 2\n",
        "tax = 1.1\n",
        "\n",
        "mul_apple_layer = MulLayer()\n",
        "mul_tax_layer = MulLayer()\n",
        "\n",
        "apple_price = mul_apple_layer.forward(apple,apple_num)\n",
        "price = mul_tax_layer.forward(apple_price, tax)\n",
        "\n",
        "print(apple_price)\n",
        "print(price)"
      ],
      "execution_count": 2,
      "outputs": [
        {
          "output_type": "stream",
          "text": [
            "200\n",
            "220.00000000000003\n"
          ],
          "name": "stdout"
        }
      ]
    },
    {
      "cell_type": "markdown",
      "metadata": {
        "id": "oZm1rWGPLHkx",
        "colab_type": "text"
      },
      "source": [
        "## 곱셈 계층 역전파 "
      ]
    },
    {
      "cell_type": "code",
      "metadata": {
        "id": "ZqQSLOp0IUJ5",
        "colab_type": "code",
        "colab": {
          "base_uri": "https://localhost:8080/",
          "height": 34
        },
        "outputId": "a131b854-75e7-4689-b702-61e28e6bca20"
      },
      "source": [
        "dprice = 1\n",
        "\n",
        "dapple_price, dtax = mul_tax_layer.backward(dprice)\n",
        "dapple, dapple_num = mul_apple_layer.backward(dapple_price)\n",
        "\n",
        "print(dapple, dapple_num, dtax)"
      ],
      "execution_count": 3,
      "outputs": [
        {
          "output_type": "stream",
          "text": [
            "2.2 110.00000000000001 200\n"
          ],
          "name": "stdout"
        }
      ]
    },
    {
      "cell_type": "markdown",
      "metadata": {
        "id": "V8W6bc5ALJmn",
        "colab_type": "text"
      },
      "source": [
        "## 덧셈 계층"
      ]
    },
    {
      "cell_type": "code",
      "metadata": {
        "id": "YQaFjhMlJoEF",
        "colab_type": "code",
        "colab": {}
      },
      "source": [
        "class AddLayer:\n",
        "\n",
        "  def __init__(self):\n",
        "    pass\n",
        "\n",
        "  def forward(self,x,y):\n",
        "    out = x + y\n",
        "    return out\n",
        "\n",
        "  def backward(self, d_out):\n",
        "    d_x = d_out * 1\n",
        "    d_y = d_out * 1\n",
        "    return d_x, d_y"
      ],
      "execution_count": 4,
      "outputs": []
    },
    {
      "cell_type": "markdown",
      "metadata": {
        "id": "t28VwtQrK1LW",
        "colab_type": "text"
      },
      "source": [
        "## 사과 2개 귤 3개 사는 상황 구현 "
      ]
    },
    {
      "cell_type": "code",
      "metadata": {
        "id": "t-VX0l9UKryF",
        "colab_type": "code",
        "colab": {
          "base_uri": "https://localhost:8080/",
          "height": 318
        },
        "outputId": "7901b31c-d366-488c-9f38-491aedafff2f"
      },
      "source": [
        "apple = 100\n",
        "apple_num = 2\n",
        "orange = 150\n",
        "orange_num = 3\n",
        "tax = 1.1\n",
        "\n",
        "dprice = 1\n",
        "\n",
        "mul_apple_layer = MulLayer()\n",
        "mul_orange_layer = MulLayer()\n",
        "mul_tax_layer = MulLayer()\n",
        "add_apple_orange_layer = AddLayer()\n",
        "\n",
        "apple_price = mul_apple_layer.forward(apple,apple_num)\n",
        "orange_price = mul_orange_layer.forward(orange,orange_num)\n",
        "fruit_price = add_apple_orange_layer.forward(apple_price, orange_price)\n",
        "price = mul_tax_layer.forward(fruit_price, tax)\n",
        "\n",
        "print(\"**** 순전파 ****\\n\")\n",
        "print(\"apple_price : {} \\n orange_price : {} \\n fruit_price : {} \\n price : {}\\n\".format(apple_price, orange_price, fruit_price, price))\n",
        "\n",
        "\n",
        "dfruit_price, dtax = mul_tax_layer.backward(dprice)\n",
        "dapple_price, dorange_price = add_apple_orange_layer.backward(dfruit_price)\n",
        "dapple, dapple_num = mul_apple_layer.backward(dapple_price)\n",
        "dorange, dorange_num = mul_orange_layer.backward(dorange_price)\n",
        "print(\"**** 역전파 ****\\n\")\n",
        "print(\"dapple : {} \\n dapple_num : {} \\n dapple_price : {} \\n dorange : {} \\n dorange_num : {} \\n dorange_price : {} \\n dfruit_price : {} \\n dprice : {}\".format(dapple, dapple_num ,dapple_price, dorange, dorange_num, dorange_price, dfruit_price, dprice))\n",
        "\n"
      ],
      "execution_count": 5,
      "outputs": [
        {
          "output_type": "stream",
          "text": [
            "**** 순전파 ****\n",
            "\n",
            "apple_price : 200 \n",
            " orange_price : 450 \n",
            " fruit_price : 650 \n",
            " price : 715.0000000000001\n",
            "\n",
            "**** 역전파 ****\n",
            "\n",
            "dapple : 2.2 \n",
            " dapple_num : 110.00000000000001 \n",
            " dapple_price : 1.1 \n",
            " dorange : 3.3000000000000003 \n",
            " dorange_num : 165.0 \n",
            " dorange_price : 1.1 \n",
            " dfruit_price : 1.1 \n",
            " dprice : 1\n"
          ],
          "name": "stdout"
        }
      ]
    },
    {
      "cell_type": "markdown",
      "metadata": {
        "id": "zcIJWV90Thh0",
        "colab_type": "text"
      },
      "source": [
        "## 활성화 함수 계층 구현하기 \n",
        "\n",
        "### 1. ReLU 계층 "
      ]
    },
    {
      "cell_type": "code",
      "metadata": {
        "id": "S_DVLOPrMrr6",
        "colab_type": "code",
        "colab": {}
      },
      "source": [
        "class ReLU:\n",
        "  def __init__(self):\n",
        "    self.x = none\n",
        "  \n",
        "  def forward(self, x):\n",
        "    self.x = x\n",
        "    \n",
        "    return self.x\n",
        "  \n",
        "  def backward(self, d_out):\n",
        "    if self.x > 0:\n",
        "      return 1\n",
        "    else :\n",
        "      return 0"
      ],
      "execution_count": 6,
      "outputs": []
    },
    {
      "cell_type": "markdown",
      "metadata": {
        "id": "Q1ECiDUXVdPC",
        "colab_type": "text"
      },
      "source": [
        "내가 생각했던 코드... 하지만 어딘가 이상하다 \n",
        "\n",
        "masking을 해야 된다! "
      ]
    },
    {
      "cell_type": "code",
      "metadata": {
        "id": "R76-e0C9ViVn",
        "colab_type": "code",
        "colab": {
          "base_uri": "https://localhost:8080/",
          "height": 87
        },
        "outputId": "11d2f76c-4243-4c52-932e-a681b0b0404d"
      },
      "source": [
        "import  numpy as np \n",
        "\n",
        "x = np.array([[1.0,-0.5],[-2.0, 3.0]])\n",
        "print(x)\n",
        "\n",
        "mask = (x <= 0)\n",
        "print(mask)\n"
      ],
      "execution_count": 8,
      "outputs": [
        {
          "output_type": "stream",
          "text": [
            "[[ 1.  -0.5]\n",
            " [-2.   3. ]]\n",
            "[[False  True]\n",
            " [ True False]]\n"
          ],
          "name": "stdout"
        }
      ]
    },
    {
      "cell_type": "code",
      "metadata": {
        "id": "7Z2deUjGV_gr",
        "colab_type": "code",
        "colab": {}
      },
      "source": [
        "x[mask] = 0"
      ],
      "execution_count": 10,
      "outputs": []
    },
    {
      "cell_type": "code",
      "metadata": {
        "id": "fGR350l7WOeV",
        "colab_type": "code",
        "colab": {
          "base_uri": "https://localhost:8080/",
          "height": 52
        },
        "outputId": "7f9154ca-f52d-449f-83c2-f564b8a0f55b"
      },
      "source": [
        "x"
      ],
      "execution_count": 11,
      "outputs": [
        {
          "output_type": "execute_result",
          "data": {
            "text/plain": [
              "array([[1., 0.],\n",
              "       [0., 3.]])"
            ]
          },
          "metadata": {
            "tags": []
          },
          "execution_count": 11
        }
      ]
    },
    {
      "cell_type": "markdown",
      "metadata": {
        "id": "mPyBcWOQWXM4",
        "colab_type": "text"
      },
      "source": [
        "True가 0이 된다. 즉, 0보다 작은 수가 0이 된다."
      ]
    },
    {
      "cell_type": "code",
      "metadata": {
        "id": "BJi3qbF3WQwI",
        "colab_type": "code",
        "colab": {}
      },
      "source": [
        "class ReLU:\n",
        "  def __init__(self):\n",
        "    self.mask = none\n",
        "  \n",
        "  def forward(self, x):\n",
        "    self.mask = (x <= 0)\n",
        "    out = x.copy()\n",
        "    out[maxk] = 0\n",
        "\n",
        "    return out\n",
        "  \n",
        "  def backward(self, d_out):\n",
        "    d_out[self.mask] = 0\n",
        "    d_x = d_out\n",
        "\n",
        "    return d_x"
      ],
      "execution_count": 12,
      "outputs": []
    },
    {
      "cell_type": "code",
      "metadata": {
        "id": "5DOTKXKJXdSy",
        "colab_type": "code",
        "colab": {}
      },
      "source": [
        ""
      ],
      "execution_count": null,
      "outputs": []
    }
  ]
}