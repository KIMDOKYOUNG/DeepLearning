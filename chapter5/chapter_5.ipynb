{
  "nbformat": 4,
  "nbformat_minor": 0,
  "metadata": {
    "colab": {
      "name": "chapter_5",
      "provenance": [],
      "collapsed_sections": [],
      "authorship_tag": "ABX9TyPM4HIjnHdcDE1hFszyQ/qX",
      "include_colab_link": true
    },
    "kernelspec": {
      "name": "python3",
      "display_name": "Python 3"
    }
  },
  "cells": [
    {
      "cell_type": "markdown",
      "metadata": {
        "id": "view-in-github",
        "colab_type": "text"
      },
      "source": [
        "<a href=\"https://colab.research.google.com/github/KIMDOKYOUNG/DeepLearning/blob/master/chapter5/chapter_5.ipynb\" target=\"_parent\"><img src=\"https://colab.research.google.com/assets/colab-badge.svg\" alt=\"Open In Colab\"/></a>"
      ]
    },
    {
      "cell_type": "markdown",
      "metadata": {
        "id": "NSIUEPpt4An0",
        "colab_type": "text"
      },
      "source": [
        "\n",
        "## 밑바닥부터 시작하는 딥러닝 1 뽀개기\n",
        "#### CHAPTER 5 오차역전파법 \n",
        "#### 일자 : 2020-08-16\n",
        "\n",
        "- 수치미분은 구현이 쉽지만 계산 시간이 오래걸린다. \n",
        "- 가중치 매개변수의 기울기를 효율적으로 계산하는 오차역전파법!\n",
        "\n",
        "---\n",
        "\n",
        "## 덧셈, 곱셈의 역전파 => 계산 그래프를 사용해서 계산 과정을 보면 쉽다. \n",
        "\n",
        "- 덧셈의 역전파에서는 상류의 값을 그대로 흘려보내서 순방향 입력 신호의 값이 필요하지 않다.\n",
        "- 곱섬의 역전파는 상류의 값에 순방향 입력 신호를 서로 바꿔서 곱한 값을 흘려보낸다.  "
      ]
    },
    {
      "cell_type": "markdown",
      "metadata": {
        "id": "5fN9pDwsK_W5",
        "colab_type": "text"
      },
      "source": [
        "## 곱셈 계층 \n"
      ]
    },
    {
      "cell_type": "code",
      "metadata": {
        "id": "EvefRTAL397R",
        "colab_type": "code",
        "colab": {}
      },
      "source": [
        "class MulLayer:\n",
        "  \n",
        "  def __init(self):\n",
        "    self.x = none\n",
        "    self.y = none\n",
        "  \n",
        "  def forward(self,x,y):\n",
        "    self.x = x\n",
        "    self.y = y\n",
        "    out = x * y\n",
        "\n",
        "    return out\n",
        "  \n",
        "  def backward(self, d_out): # 상류의 값(미분 값)에 순방향 입력 신호를 서로 바꿔서 곱한 값을 흘려보낸다. \n",
        "    d_x = d_out * self.y\n",
        "    d_y = d_out * self.x\n",
        "\n",
        "    return d_x, d_y \n"
      ],
      "execution_count": 2,
      "outputs": []
    },
    {
      "cell_type": "markdown",
      "metadata": {
        "id": "z4HUiFJxLERD",
        "colab_type": "text"
      },
      "source": [
        "## 곱셈 계층 순전파 "
      ]
    },
    {
      "cell_type": "code",
      "metadata": {
        "id": "aVEHNcDaHBld",
        "colab_type": "code",
        "colab": {
          "base_uri": "https://localhost:8080/",
          "height": 52
        },
        "outputId": "d33301f9-106f-4514-fa99-50a2fdc568fa"
      },
      "source": [
        "apple = 100\n",
        "apple_num = 2\n",
        "tax = 1.1\n",
        "\n",
        "mul_apple_layer = MulLayer()\n",
        "mul_tax_layer = MulLayer()\n",
        "\n",
        "apple_price = mul_apple_layer.forward(apple,apple_num)\n",
        "price = mul_tax_layer.forward(apple_price, tax)\n",
        "\n",
        "print(apple_price)\n",
        "print(price)"
      ],
      "execution_count": 3,
      "outputs": [
        {
          "output_type": "stream",
          "text": [
            "200\n",
            "220.00000000000003\n"
          ],
          "name": "stdout"
        }
      ]
    },
    {
      "cell_type": "markdown",
      "metadata": {
        "id": "oZm1rWGPLHkx",
        "colab_type": "text"
      },
      "source": [
        "## 곱셈 계층 역전파 "
      ]
    },
    {
      "cell_type": "code",
      "metadata": {
        "id": "ZqQSLOp0IUJ5",
        "colab_type": "code",
        "colab": {
          "base_uri": "https://localhost:8080/",
          "height": 34
        },
        "outputId": "cda8de93-15a5-41e0-897e-03a101a180d2"
      },
      "source": [
        "dprice = 1\n",
        "\n",
        "dapple_price, dtax = mul_tax_layer.backward(dprice)\n",
        "dapple, dapple_num = mul_apple_layer.backward(dapple_price)\n",
        "\n",
        "print(dapple, dapple_num, dtax)"
      ],
      "execution_count": 4,
      "outputs": [
        {
          "output_type": "stream",
          "text": [
            "2.2 110.00000000000001 200\n"
          ],
          "name": "stdout"
        }
      ]
    },
    {
      "cell_type": "markdown",
      "metadata": {
        "id": "V8W6bc5ALJmn",
        "colab_type": "text"
      },
      "source": [
        "## 덧셈 계층"
      ]
    },
    {
      "cell_type": "code",
      "metadata": {
        "id": "YQaFjhMlJoEF",
        "colab_type": "code",
        "colab": {}
      },
      "source": [
        "class AddLayer:\n",
        "\n",
        "  def __init__(self):\n",
        "    pass\n",
        "\n",
        "  def forward(self,x,y):\n",
        "    out = x + y\n",
        "    return out\n",
        "\n",
        "  def backward(self, d_out):\n",
        "    d_x = d_out * 1\n",
        "    d_y = d_out * 1\n",
        "    return d_x, d_y"
      ],
      "execution_count": 5,
      "outputs": []
    },
    {
      "cell_type": "markdown",
      "metadata": {
        "id": "t28VwtQrK1LW",
        "colab_type": "text"
      },
      "source": [
        "## 사과 2개 귤 3개 사는 상황 구현 "
      ]
    },
    {
      "cell_type": "code",
      "metadata": {
        "id": "t-VX0l9UKryF",
        "colab_type": "code",
        "colab": {
          "base_uri": "https://localhost:8080/",
          "height": 318
        },
        "outputId": "4cc7efb8-dc34-4de8-ff1b-3a2cd3946d4e"
      },
      "source": [
        "apple = 100\n",
        "apple_num = 2\n",
        "orange = 150\n",
        "orange_num = 3\n",
        "tax = 1.1\n",
        "\n",
        "dprice = 1\n",
        "\n",
        "mul_apple_layer = MulLayer()\n",
        "mul_orange_layer = MulLayer()\n",
        "mul_tax_layer = MulLayer()\n",
        "add_apple_orange_layer = AddLayer()\n",
        "\n",
        "apple_price = mul_apple_layer.forward(apple,apple_num)\n",
        "orange_price = mul_orange_layer.forward(orange,orange_num)\n",
        "fruit_price = add_apple_orange_layer.forward(apple_price, orange_price)\n",
        "price = mul_tax_layer.forward(fruit_price, tax)\n",
        "\n",
        "print(\"**** 순전파 ****\\n\")\n",
        "print(\"apple_price : {} \\n orange_price : {} \\n fruit_price : {} \\n price : {}\\n\".format(apple_price, orange_price, fruit_price, price))\n",
        "\n",
        "\n",
        "dfruit_price, dtax = mul_tax_layer.backward(dprice)\n",
        "dapple_price, dorange_price = add_apple_orange_layer.backward(dfruit_price)\n",
        "dapple, dapple_num = mul_apple_layer.backward(dapple_price)\n",
        "dorange, dorange_num = mul_orange_layer.backward(dorange_price)\n",
        "print(\"**** 역전파 ****\\n\")\n",
        "print(\"dapple : {} \\n dapple_num : {} \\n dapple_price : {} \\n dorange : {} \\n dorange_num : {} \\n dorange_price : {} \\n dfruit_price : {} \\n dprice : {}\".format(dapple, dapple_num ,dapple_price, dorange, dorange_num, dorange_price, dfruit_price, dprice))\n",
        "\n"
      ],
      "execution_count": 6,
      "outputs": [
        {
          "output_type": "stream",
          "text": [
            "**** 순전파 ****\n",
            "\n",
            "apple_price : 200 \n",
            " orange_price : 450 \n",
            " fruit_price : 650 \n",
            " price : 715.0000000000001\n",
            "\n",
            "**** 역전파 ****\n",
            "\n",
            "dapple : 2.2 \n",
            " dapple_num : 110.00000000000001 \n",
            " dapple_price : 1.1 \n",
            " dorange : 3.3000000000000003 \n",
            " dorange_num : 165.0 \n",
            " dorange_price : 1.1 \n",
            " dfruit_price : 1.1 \n",
            " dprice : 1\n"
          ],
          "name": "stdout"
        }
      ]
    },
    {
      "cell_type": "markdown",
      "metadata": {
        "id": "zcIJWV90Thh0",
        "colab_type": "text"
      },
      "source": [
        "## 활성화 함수 계층 구현하기 \n",
        "\n",
        "### 1. ReLU 계층 \n",
        "- ReLU 순전파\n",
        "  - 입력인 x가 0보다 크면 x가 그대로 전달되고, 0보다 작으면 전달 되지 않는다. (0이 전달 되는 것과 같다) \n",
        "- ReLU 역전파  \n",
        "  - 순전파 때의 입력인 x가 0보다 크면 상류의 값을 그대로 하류로 흘린다. \n",
        "  - 순전파 때 x가 0 이하면 역전파 때는 하류로 신호를 보내지 않는다. "
      ]
    },
    {
      "cell_type": "code",
      "metadata": {
        "id": "S_DVLOPrMrr6",
        "colab_type": "code",
        "colab": {}
      },
      "source": [
        "class ReLU:\n",
        "  def __init__(self):\n",
        "    self.x = none\n",
        "  \n",
        "  def forward(self, x):\n",
        "    self.x = x\n",
        "    \n",
        "    return self.x\n",
        "  \n",
        "  def backward(self, d_out):\n",
        "    if self.x > 0:\n",
        "      return 1\n",
        "    else :\n",
        "      return 0"
      ],
      "execution_count": 7,
      "outputs": []
    },
    {
      "cell_type": "markdown",
      "metadata": {
        "id": "Q1ECiDUXVdPC",
        "colab_type": "text"
      },
      "source": [
        "내가 생각했던 코드... 하지만 어딘가 이상하다 \n",
        "\n",
        "masking을 해야 된다! "
      ]
    },
    {
      "cell_type": "code",
      "metadata": {
        "id": "R76-e0C9ViVn",
        "colab_type": "code",
        "colab": {
          "base_uri": "https://localhost:8080/",
          "height": 87
        },
        "outputId": "eacd2c66-4378-4d6a-baff-660f7d3d584c"
      },
      "source": [
        "import  numpy as np \n",
        "\n",
        "x = np.array([[1.0,-0.5],[-2.0, 3.0]])\n",
        "print(x)\n",
        "\n",
        "mask = (x <= 0)\n",
        "print(mask)\n"
      ],
      "execution_count": 8,
      "outputs": [
        {
          "output_type": "stream",
          "text": [
            "[[ 1.  -0.5]\n",
            " [-2.   3. ]]\n",
            "[[False  True]\n",
            " [ True False]]\n"
          ],
          "name": "stdout"
        }
      ]
    },
    {
      "cell_type": "code",
      "metadata": {
        "id": "7Z2deUjGV_gr",
        "colab_type": "code",
        "colab": {}
      },
      "source": [
        "x[mask] = 0"
      ],
      "execution_count": 9,
      "outputs": []
    },
    {
      "cell_type": "code",
      "metadata": {
        "id": "fGR350l7WOeV",
        "colab_type": "code",
        "colab": {
          "base_uri": "https://localhost:8080/",
          "height": 52
        },
        "outputId": "7cb45a88-73be-487e-a9e9-eaeddc7554ba"
      },
      "source": [
        "x"
      ],
      "execution_count": 10,
      "outputs": [
        {
          "output_type": "execute_result",
          "data": {
            "text/plain": [
              "array([[1., 0.],\n",
              "       [0., 3.]])"
            ]
          },
          "metadata": {
            "tags": []
          },
          "execution_count": 10
        }
      ]
    },
    {
      "cell_type": "markdown",
      "metadata": {
        "id": "mPyBcWOQWXM4",
        "colab_type": "text"
      },
      "source": [
        "\n",
        "  - True가 0이 된다. 즉, 0보다 작은 수가 0이 된다.\n",
        "  - masking을 해서 0보다 작은 수를 0으로 만들고 0보다 큰 수를 1로 만든다. "
      ]
    },
    {
      "cell_type": "code",
      "metadata": {
        "id": "BJi3qbF3WQwI",
        "colab_type": "code",
        "colab": {}
      },
      "source": [
        "class ReLU:\n",
        "  def __init__(self):\n",
        "    self.mask = none # 초기화 시켜주기 \n",
        "  \n",
        "  def forward(self, x):\n",
        "    self.mask = (x <= 0)\n",
        "    out = x.copy()\n",
        "    out[maxk] = 0\n",
        "\n",
        "    return out\n",
        "  \n",
        "  def backward(self, d_out):\n",
        "    d_out[self.mask] = 0\n",
        "    d_x = d_out\n",
        "\n",
        "    return d_x"
      ],
      "execution_count": 11,
      "outputs": []
    },
    {
      "cell_type": "markdown",
      "metadata": {
        "id": "8t7Eg7OZyQyS",
        "colab_type": "text"
      },
      "source": [
        "## Sigmoid 계층 \n",
        "\n",
        "- 순전파와 역전파를 직접 계산 그래프를 그리면 더 이해하기 쉽다. \n",
        "\n",
        "그림 첨후 할 예정 ! \n",
        "\n",
        "- sigmoid 계산을 할때 중간 과정을 하나씩 다 안 계산해도 한번에 순전파의 출력만을 가지고 계산할 수 있다. "
      ]
    },
    {
      "cell_type": "code",
      "metadata": {
        "id": "5DOTKXKJXdSy",
        "colab_type": "code",
        "colab": {}
      },
      "source": [
        "class Sigmoid:\n",
        "\n",
        "  def __init__(self):\n",
        "    self.out = None\n",
        "  \n",
        "  def forward(self, x):\n",
        "    self.out = 1 / (1 + np.exp(-x))\n",
        "\n",
        "    return self.out\n",
        "  \n",
        "  def backward(self, d_out):\n",
        "    d_x = d_out * (1 - self.out) * self.out\n",
        "\n",
        "    return d_x"
      ],
      "execution_count": 12,
      "outputs": []
    },
    {
      "cell_type": "markdown",
      "metadata": {
        "id": "8D4xOWuAE_g7",
        "colab_type": "text"
      },
      "source": [
        "- 순전파의 출력을 변수 out에 저장해서 역전파를 계산할 때 사용한다. "
      ]
    },
    {
      "cell_type": "markdown",
      "metadata": {
        "id": "UG9iKCem3JAq",
        "colab_type": "text"
      },
      "source": [
        "## Affine/Softmax 계층 구현하기\n",
        "\n",
        "---\n",
        "\n",
        "## Affine 계층 \n",
        "\n",
        "- 신경망의 순전파 때 수행하는 행렬의 내적을 affine transformation이라고 한다. "
      ]
    },
    {
      "cell_type": "code",
      "metadata": {
        "id": "bgfriGzH2xXf",
        "colab_type": "code",
        "colab": {
          "base_uri": "https://localhost:8080/",
          "height": 87
        },
        "outputId": "c870ab40-1fe3-4f1e-c373-7f90809dfa85"
      },
      "source": [
        "X = np.random.rand(2) \n",
        "W = np.random.rand(2,3)\n",
        "B = np.random.rand(3)\n",
        "\n",
        "print('X.shape :',X.shape)\n",
        "print('W.shape :',W.shape)\n",
        "print('B.shape :',B.shape)\n",
        "\n",
        "Y = np.dot(X,W) + B\n",
        "print('Y.shape :',Y.shape)"
      ],
      "execution_count": 19,
      "outputs": [
        {
          "output_type": "stream",
          "text": [
            "X.shape : (2,)\n",
            "W.shape : (2, 3)\n",
            "B.shape : (3,)\n",
            "Y.shape : (3,)\n"
          ],
          "name": "stdout"
        }
      ]
    },
    {
      "cell_type": "markdown",
      "metadata": {
        "id": "JsOhjICPyeUY",
        "colab_type": "text"
      },
      "source": [
        "## 배치용 Affine 계층 \n",
        "- 순전파의 편향 덧셈은 각각의 원소에 더해진다.\n",
        "- 역전파의 경우 각 데이터의 역전파 값이 평향의 원소에 모여야된다. 열방향 (axis = 0)에 대해서 총합을 구한다."
      ]
    },
    {
      "cell_type": "code",
      "metadata": {
        "id": "zTFpfd8hxh6k",
        "colab_type": "code",
        "colab": {
          "base_uri": "https://localhost:8080/",
          "height": 52
        },
        "outputId": "12be8008-2eeb-4168-9def-f3c55ebeea6d"
      },
      "source": [
        "dY = np.array([[1,2,3],[4,5,6]])\n",
        "dY"
      ],
      "execution_count": 20,
      "outputs": [
        {
          "output_type": "execute_result",
          "data": {
            "text/plain": [
              "array([[1, 2, 3],\n",
              "       [4, 5, 6]])"
            ]
          },
          "metadata": {
            "tags": []
          },
          "execution_count": 20
        }
      ]
    },
    {
      "cell_type": "code",
      "metadata": {
        "id": "ZtLTNztbzfKe",
        "colab_type": "code",
        "colab": {
          "base_uri": "https://localhost:8080/",
          "height": 34
        },
        "outputId": "4bdd81fd-e978-45ce-e40b-786404d2efa2"
      },
      "source": [
        "dB = np.sum(dY,axis = 0)\n",
        "dB"
      ],
      "execution_count": 21,
      "outputs": [
        {
          "output_type": "execute_result",
          "data": {
            "text/plain": [
              "array([5, 7, 9])"
            ]
          },
          "metadata": {
            "tags": []
          },
          "execution_count": 21
        }
      ]
    },
    {
      "cell_type": "markdown",
      "metadata": {
        "id": "cs-lM4Eszknz",
        "colab_type": "text"
      },
      "source": [
        "편향을 다시 (3,)로 만들어야 다시 순전파를 할때 사용할 수 있다. "
      ]
    },
    {
      "cell_type": "code",
      "metadata": {
        "id": "Vy5sADUpzjTN",
        "colab_type": "code",
        "colab": {}
      },
      "source": [
        "class Affine:\n",
        "\n",
        "  def __init__(self):\n",
        "\n",
        "    self.W = W\n",
        "    self.b = b\n",
        "    self.x = None\n",
        "    self.dW = None\n",
        "    self.db = None\n",
        "  \n",
        "  def forward(self,x):\n",
        "    self.x = x\n",
        "    out = np.dot(x,self.W) + self.b\n",
        "    return out\n",
        "\n",
        "  def backward(self,d_out):\n",
        "\n",
        "    d_x = np.dot(d_out,self.W.T)\n",
        "    self.dW = np.dot(self.x.T,d_out)\n",
        "    self.db = np.sum(d_out, axis = 0) # 역전파 값인 d_out가 열방향으로 모여서 편향이 된다. \n",
        "\n",
        "    return d_x\n"
      ],
      "execution_count": 23,
      "outputs": []
    },
    {
      "cell_type": "markdown",
      "metadata": {
        "id": "r4dW6RM_3hQH",
        "colab_type": "text"
      },
      "source": [
        "하지만 위의 식은 4차원 데이터(텐서)인 경우는 고려하지 않았다. "
      ]
    },
    {
      "cell_type": "code",
      "metadata": {
        "id": "76fQVzGi3Gr3",
        "colab_type": "code",
        "colab": {
          "base_uri": "https://localhost:8080/",
          "height": 34
        },
        "outputId": "81888f7a-9a4d-4327-cc6d-d6b25f088572"
      },
      "source": [
        "x = np.array([[[[1,2,3],[2,3,4],[3,4,5]],[[1,2,3],[2,3,4],[3,4,5]]]])\n",
        "x.shape"
      ],
      "execution_count": 26,
      "outputs": [
        {
          "output_type": "execute_result",
          "data": {
            "text/plain": [
              "(1, 2, 3, 3)"
            ]
          },
          "metadata": {
            "tags": []
          },
          "execution_count": 26
        }
      ]
    },
    {
      "cell_type": "code",
      "metadata": {
        "id": "yPq-8cJE8oDl",
        "colab_type": "code",
        "colab": {
          "base_uri": "https://localhost:8080/",
          "height": 34
        },
        "outputId": "8d6d915e-51c5-481c-eb11-51d57a6c9901"
      },
      "source": [
        "x1 = x.reshape(x.shape[0],-1)\n",
        "x1.shape"
      ],
      "execution_count": 27,
      "outputs": [
        {
          "output_type": "execute_result",
          "data": {
            "text/plain": [
              "(1, 18)"
            ]
          },
          "metadata": {
            "tags": []
          },
          "execution_count": 27
        }
      ]
    },
    {
      "cell_type": "markdown",
      "metadata": {
        "id": "5L-iPzj29J7e",
        "colab_type": "text"
      },
      "source": [
        "## Softmax_with_Loss 계층\n",
        "\n"
      ]
    },
    {
      "cell_type": "code",
      "metadata": {
        "id": "J37Uif0v85UN",
        "colab_type": "code",
        "colab": {}
      },
      "source": [
        ""
      ],
      "execution_count": null,
      "outputs": []
    }
  ]
}